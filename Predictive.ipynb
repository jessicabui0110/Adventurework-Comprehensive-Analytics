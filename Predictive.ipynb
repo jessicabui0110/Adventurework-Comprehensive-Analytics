{
    "metadata": {
        "kernelspec": {
            "name": "python3",
            "display_name": "Python 3 (ipykernel)",
            "language": "python"
        },
        "language_info": {
            "name": "python",
            "version": "3.11.5",
            "mimetype": "text/x-python",
            "codemirror_mode": {
                "name": "ipython",
                "version": 3
            },
            "pygments_lexer": "ipython3",
            "nbconvert_exporter": "python",
            "file_extension": ".py"
        },
        "extensions": {
            "azuredatastudio": {
                "version": 1,
                "views": []
            }
        }
    },
    "nbformat_minor": 2,
    "nbformat": 4,
    "cells": [
        {
            "cell_type": "code",
            "source": [
                "import pyodbc                  # package that connects notebook to database\r\n",
                "import pandas as pd            # package for data manipulation\r\n",
                "import seaborn as sns          # package for visualziation\r\n",
                "import statsmodels.api as sm   # package for lm\r\n",
                "import matplotlib.pyplot as plt\r\n",
                "import plotly.express as px\r\n",
                "import plotly.graph_objects as go\r\n",
                "from plotly.subplots import make_subplots\r\n",
                "import ipywidgets as widgets\r\n",
                "from ipywidgets import interact\r\n",
                "import pandas as pd\r\n",
                "import plotly.express as px\r\n",
                "from ipywidgets import interact, Dropdown\r\n",
                "import numpy as np"
            ],
            "metadata": {
                "azdata_cell_guid": "595aa84e-8387-49d9-ad58-92ebb6389429",
                "tags": [
                    "hide_input"
                ],
                "extensions": {
                    "azuredatastudio": {
                        "views": []
                    }
                }
            },
            "outputs": [],
            "execution_count": null
        },
        {
            "cell_type": "markdown",
            "source": [
                "(2) In the next two code cells we prepare a string consisting of arguments for the server (the computer we have been working with) and the driver (this is software the allows us to connect to a database provided that the database follows certain Open Database Connectivity (ODBC) standards). In most environments we would include sign-on credentials too, but as we have already logged into a TCU device via Windows authentication, the Server can use these credentials for access."
            ],
            "metadata": {
                "language": "python",
                "azdata_cell_guid": "fc4a7fe2-9346-408e-abd2-7692adfeb7e1",
                "extensions": {
                    "azuredatastudio": {
                        "views": []
                    }
                }
            },
            "attachments": {}
        },
        {
            "cell_type": "code",
            "source": [
                "SERVER = 'STUSQL01.it.tcu.edu'\r\n",
                "DRIVER= '{ODBC Driver 17 for SQL Server}'\r\n",
                "connectionString = f'DRIVER={{ODBC Driver 17 for SQL Server}}; SERVER={SERVER}; TRUSTED_CONNECTION=yes'"
            ],
            "metadata": {
                "azdata_cell_guid": "9c08b1f1-f9f9-4feb-a5f4-f66cef5b8fc8",
                "tags": [
                    "hide_input"
                ],
                "extensions": {
                    "azuredatastudio": {
                        "views": []
                    }
                }
            },
            "outputs": [],
            "execution_count": null
        },
        {
            "cell_type": "code",
            "source": [
                "cnxn = pyodbc.connect(connectionString)"
            ],
            "metadata": {
                "language": "python",
                "azdata_cell_guid": "5d668a6e-5cb5-4f3d-96a7-0f029de5e925",
                "extensions": {
                    "azuredatastudio": {
                        "views": []
                    }
                },
                "tags": [
                    "hide_input"
                ]
            },
            "outputs": [],
            "execution_count": null
        },
        {
            "cell_type": "code",
            "source": [
                "pd.options.display.float_format = '{:.4f}'.format"
            ],
            "metadata": {
                "azdata_cell_guid": "d0ed593f-1bb0-4339-8ec1-b40377812ec7",
                "tags": [
                    "hide_input"
                ]
            },
            "outputs": [],
            "execution_count": null
        },
        {
            "cell_type": "markdown",
            "source": [
                "# **Machine Learning Model (Demand Planning)**"
            ],
            "metadata": {
                "azdata_cell_guid": "ea2951d5-1096-4dd6-a7e4-dba600c0fc56"
            },
            "attachments": {}
        },
        {
            "cell_type": "code",
            "source": [
                "dp_query = '''\r\n",
                "-- Further Transformation\r\n",
                "WITH CTE_FactInternetSales\r\n",
                "AS (SELECT\r\n",
                "  ProductKey,\r\n",
                "  OrderDateKey,\r\n",
                "  DueDateKey,\r\n",
                "  ShipDateKey,\r\n",
                "  CustomerKey,\r\n",
                "  PromotionKey,\r\n",
                "  CurrencyKey,\r\n",
                "  SalesTerritoryKey,\r\n",
                "  SalesOrderNumber,\r\n",
                "  SalesAmount,\r\n",
                "  TotalProductCost,\r\n",
                "  TaxAmt,\r\n",
                "  Freight,\r\n",
                "  SalesAmount - TotalProductCost - TaxAmt - Freight AS Profit,\r\n",
                "  (SalesAmount - TotalProductCost - TaxAmt - Freight) / SalesAmount AS ProfitMargin,\r\n",
                "  CONVERT(date, OrderDate) AS OrderDate,\r\n",
                "  CONVERT(date, DueDate) AS DueDate,\r\n",
                "  CONVERT(date, ShipDate) AS ShipDate,\r\n",
                "  IIF(ShipDate > DueDate, 'Late', 'Normal') AS ShipStatus,\r\n",
                "  DATEDIFF(D, OrderDate, ShipDate) + 3 TimeToArrive,\r\n",
                "  DATEDIFF(D, OrderDate, ShipDate) TimeToShip\r\n",
                "FROM [AdventureWorksDW2017].dbo.FactInternetSales)\r\n",
                "-------------------------------------------------------------------------------------------------------------------------------------------------------\r\n",
                ",\r\n",
                "CTE_DimDate\r\n",
                "AS (SELECT\r\n",
                "  DateKey,\r\n",
                "  FullDateAlternateKey,\r\n",
                "  DayNumberOfWeek,\r\n",
                "  EnglishDayNameOfWeek,\r\n",
                "  DayNumberOfMonth,\r\n",
                "  DayNumberOfYear,\r\n",
                "  WeekNumberOfYear,\r\n",
                "  MonthNumberOfYear,\r\n",
                "  EnglishMonthName AS MonthName,\r\n",
                "  CalendarQuarter,\r\n",
                "  CalendarYear,\r\n",
                "  CalendarSemester,\r\n",
                "  FiscalYear FiscalQuarter,\r\n",
                "  FiscalSemester\r\n",
                "FROM [AdventureWorksDW2017].dbo.DimDate)\r\n",
                "-------------------------------------------------------------------------------------------------------------------------------------------------------\r\n",
                ",\r\n",
                "CTE_DimProduct\r\n",
                "AS (SELECT\r\n",
                "  ProductKey,\r\n",
                "  ProductAlternateKey,\r\n",
                "  EnglishProductName AS ProductName,\r\n",
                "  EnglishProductCategoryName AS CategoryName,\r\n",
                "  EnglishProductSubcategoryName AS SubcategoryName,\r\n",
                "  CASE\r\n",
                "    WHEN EnglishProductName LIKE '%,%' AND\r\n",
                "      EnglishProductCategoryName = 'Bikes' THEN LEFT(EnglishProductName, CHARINDEX(' ', EnglishProductName) - 1)\r\n",
                "    WHEN EnglishProductName LIKE '%,%' AND\r\n",
                "      EnglishProductSubcategoryName LIKE '%Frames%' THEN LEFT(EnglishProductName, CHARINDEX('-', EnglishProductName) - 1)\r\n",
                "    WHEN EnglishProductName LIKE '%,%' THEN LEFT(EnglishProductName, CHARINDEX(',', EnglishProductName) - 1)\r\n",
                "    WHEN EnglishProductName LIKE '%/%' THEN LEFT(EnglishProductName, CHARINDEX('/', EnglishProductName) - 1)\r\n",
                "    ELSE NULL\r\n",
                "  END AS ModelName,\r\n",
                "  SafetyStockLevel,\r\n",
                "  ReorderPoint,\r\n",
                "  Color,\r\n",
                "  SizeRange,\r\n",
                "  Weight\r\n",
                "FROM [AdventureWorksDW2017].dbo.DimProduct\r\n",
                "JOIN [AdventureWorksDW2017].dbo.DimProductSubcategory\r\n",
                "  ON DimProduct.ProductSubcategoryKey = DimProductSubcategory.ProductSubcategoryKey\r\n",
                "JOIN [AdventureWorksDW2017].dbo.DimProductCategory\r\n",
                "  ON DimProductSubcategory.ProductCategoryKey = DimProductCategory.ProductCategoryKey\r\n",
                "WHERE ListPrice IS NOT NULL)\r\n",
                "-------------------------------------------------------------------------------------------------------------------------------------------------------\r\n",
                "\r\n",
                "SELECT CategoryName, SubcategoryName, ModelName, OrderDate, ProductName, COUNT(*) as Quantity FROM CTE_FactInternetSales\r\n",
                "JOIN CTE_DimDate \r\n",
                "ON CTE_FactInternetSales.OrderDateKey = CTE_DimDate.DateKey\r\n",
                "JOIN CTE_DimProduct \r\n",
                "ON CTE_FactInternetSales.ProductKey = CTE_DimProduct.ProductKey\r\n",
                "GROUP BY ProductName, CategoryName, SubcategoryName, ModelName, OrderDate\r\n",
                "''' \r\n",
                "df_dp = pd.read_sql_query(dp_query, con=cnxn)"
            ],
            "metadata": {
                "azdata_cell_guid": "210fdf88-9ddd-48c2-9d05-874a655cf18f",
                "tags": [
                    "hide_input"
                ]
            },
            "outputs": [],
            "execution_count": null
        },
        {
            "cell_type": "markdown",
            "source": [
                "## **5.1 Chart and Trendline**"
            ],
            "metadata": {
                "azdata_cell_guid": "06a1c30c-43f6-4a78-87b7-b8801c913ad4"
            }
        },
        {
            "cell_type": "code",
            "source": [
                "import pandas as pd\r\n",
                "import numpy as np\r\n",
                "import matplotlib.pyplot as plt\r\n",
                "\r\n",
                "# Assuming df_dp is your DataFrame\r\n",
                "\r\n",
                "# Filter out rows where 'ModelName' is None\r\n",
                "df_dp = df_dp[df_dp['ModelName'].notna()]\r\n",
                "\r\n",
                "# Sort unique ModelNames\r\n",
                "unique_model_names_sorted = sorted(df_dp['ModelName'].unique())\r\n",
                "\r\n",
                "# Check if there are any ModelNames to choose from\r\n",
                "if not unique_model_names_sorted:\r\n",
                "    print(\"No ModelNames available.\")\r\n",
                "    exit()\r\n",
                "\r\n",
                "# Print sorted unique ModelNames\r\n",
                "print(\"Choose from the following ModelNames:\")\r\n",
                "for i, model_name in enumerate(unique_model_names_sorted, start=1):\r\n",
                "    print(f\"{i}. {model_name}\")\r\n",
                "\r\n",
                "# Take user input for the selected ModelName number\r\n",
                "try:\r\n",
                "    selected_model_number = int(input(\"Enter the number corresponding to the chosen ModelName: \"))\r\n",
                "    chosen_model = unique_model_names_sorted[selected_model_number - 1]\r\n",
                "except (ValueError, IndexError):\r\n",
                "    print(\"Invalid input. Please enter a valid number corresponding to the ModelName.\")\r\n",
                "    exit()\r\n",
                "\r\n",
                "# Filter the DataFrame based on the chosen ModelName\r\n",
                "chosen_model_df = df_dp[df_dp['ModelName'] == chosen_model]\r\n",
                "\r\n",
                "# Convert OrderDate to datetime\r\n",
                "chosen_model_df['OrderDate'] = pd.to_datetime(chosen_model_df['OrderDate'])\r\n",
                "\r\n",
                "# Group by month and year\r\n",
                "chosen_model_df = chosen_model_df.set_index('OrderDate')\r\n",
                "chosen_model_df_monthly = chosen_model_df.resample('M').sum()\r\n",
                "\r\n",
                "# Create a line chart\r\n",
                "plt.figure(figsize=(10, 6))\r\n",
                "plt.plot(chosen_model_df_monthly.index, chosen_model_df_monthly['Quantity'], marker='o', linestyle='-', label='Monthly Quantity')\r\n",
                "\r\n",
                "# Add linear trend line\r\n",
                "x = np.arange(len(chosen_model_df_monthly))\r\n",
                "y = chosen_model_df_monthly['Quantity'].values\r\n",
                "m, b = np.polyfit(x, y, 1)\r\n",
                "plt.plot(chosen_model_df_monthly.index, m * x + b, linestyle='--', color='r', label='Linear Trend Line')\r\n",
                "\r\n",
                "plt.title(f'Quantity of {chosen_model} over Time (Grouped by Month)')\r\n",
                "plt.xlabel('Order Date')\r\n",
                "plt.ylabel('Quantity')\r\n",
                "plt.xticks(rotation=45)\r\n",
                "plt.legend()\r\n",
                "plt.grid()\r\n",
                "plt.show()\r\n",
                ""
            ],
            "metadata": {
                "azdata_cell_guid": "ae8c0043-a5b8-46f8-890f-800756feed83",
                "tags": [
                    "hide_input"
                ]
            },
            "outputs": [],
            "execution_count": null
        },
        {
            "cell_type": "markdown",
            "source": [
                "---"
            ],
            "metadata": {
                "language": "python",
                "azdata_cell_guid": "5fb12d3d-d19f-49ba-98e2-931ea260968c",
                "extensions": {
                    "azuredatastudio": {
                        "views": []
                    }
                }
            },
            "attachments": {}
        },
        {
            "cell_type": "markdown",
            "source": [
                "## **5.2 ARIMA Model**"
            ],
            "metadata": {
                "azdata_cell_guid": "cfae60f1-30f1-4015-8527-4827f4b44a8d"
            },
            "attachments": {}
        },
        {
            "cell_type": "code",
            "source": [
                "import pandas as pd\r\n",
                "import matplotlib.pyplot as plt\r\n",
                "from statsmodels.tsa.arima.model import ARIMA\r\n",
                "\r\n",
                "# Assuming df_dp is your DataFrame\r\n",
                "\r\n",
                "# Print unique ModelNames\r\n",
                "unique_model_names = df_dp['ModelName'].unique()\r\n",
                "print(\"Choose from the following ModelNames: \", unique_model_names)\r\n",
                "\r\n",
                "# Take user input for the ModelName\r\n",
                "chosen_model = input(\"Enter the ModelName from the list above: \")\r\n",
                "\r\n",
                "# Filter the DataFrame based on the chosen ModelName\r\n",
                "chosen_model_df = df_dp[df_dp['ModelName'] == chosen_model]\r\n",
                "\r\n",
                "# Convert OrderDate to datetime\r\n",
                "chosen_model_df['OrderDate'] = pd.to_datetime(chosen_model_df['OrderDate'])\r\n",
                "\r\n",
                "# Group by month and year\r\n",
                "chosen_model_df = chosen_model_df.set_index('OrderDate')\r\n",
                "chosen_model_df_monthly = chosen_model_df.resample('M').sum()\r\n",
                "\r\n",
                "# Plot the historical data\r\n",
                "plt.figure(figsize=(10, 6))\r\n",
                "plt.plot(chosen_model_df_monthly.index, chosen_model_df_monthly['Quantity'], marker='o', linestyle='-', label='Monthly Quantity')\r\n",
                "\r\n",
                "# Train an ARIMA model\r\n",
                "order = (1, 1, 1)  # You may need to adjust these parameters based on your data and requirements\r\n",
                "model = ARIMA(chosen_model_df_monthly['Quantity'], order=order)\r\n",
                "fit_model = model.fit()\r\n",
                "\r\n",
                "# Forecast the next month with confidence interval\r\n",
                "forecast_result = fit_model.get_forecast(steps=1, alpha=0.05)  # 0.05 corresponds to 95% confidence interval\r\n",
                "\r\n",
                "# Extract forecast, stderr, and confidence interval\r\n",
                "next_month_forecast = forecast_result.predicted_mean.values[0]\r\n",
                "conf_int = forecast_result.conf_int()\r\n",
                "\r\n",
                "# Extract lower and upper bounds\r\n",
                "lower_bound, upper_bound = conf_int.iloc[0, 0], conf_int.iloc[0, 1]\r\n",
                "\r\n",
                "# Plot the forecast for the next month\r\n",
                "plt.plot(pd.date_range(chosen_model_df_monthly.index[-1], periods=2, freq='M')[1:], [next_month_forecast], marker='o', linestyle='--', color='r', label='Forecasted Quantity (Next Month)')\r\n",
                "\r\n",
                "plt.title(f'Quantity of {chosen_model} over Time (Grouped by Month)')\r\n",
                "plt.xlabel('Order Date')\r\n",
                "plt.ylabel('Quantity')\r\n",
                "plt.xticks(rotation=45)\r\n",
                "\r\n",
                "# Print confidence interval\r\n",
                "confidence_level = 100 * (1 - 0.05)\r\n",
                "print(f\"The forecasted quantity for the next month is between {lower_bound:.2f} and {upper_bound:.2f} with {confidence_level}% confidence.\")\r\n",
                "\r\n",
                "plt.legend()\r\n",
                "plt.grid()\r\n",
                "plt.show()\r\n",
                ""
            ],
            "metadata": {
                "azdata_cell_guid": "5157ae50-5ddf-460f-9681-28427deea6dc",
                "tags": [
                    "hide_input"
                ]
            },
            "outputs": [],
            "execution_count": null
        },
        {
            "cell_type": "markdown",
            "source": [
                "### **5.3 LSTM Model**"
            ],
            "metadata": {
                "azdata_cell_guid": "0785270c-f413-4a80-abb1-4d7b0e403443"
            }
        },
        {
            "cell_type": "code",
            "source": [
                "import pandas as pd\r\n",
                "import numpy as np\r\n",
                "import matplotlib.pyplot as plt\r\n",
                "from sklearn.preprocessing import MinMaxScaler\r\n",
                "from sklearn.metrics import mean_squared_error\r\n",
                "from tensorflow.keras.models import Sequential\r\n",
                "from tensorflow.keras.layers import LSTM, Dense\r\n",
                "\r\n",
                "# Assuming df_dp is your DataFrame\r\n",
                "\r\n",
                "# Print unique ModelNames\r\n",
                "unique_model_names = df_dp['ModelName'].unique()\r\n",
                "print(\"Choose from the following ModelNames: \", unique_model_names)\r\n",
                "\r\n",
                "# Take user input for the ModelName\r\n",
                "chosen_model = input(\"Enter the ModelName from the list above: \")\r\n",
                "\r\n",
                "# Filter the DataFrame based on the chosen ModelName\r\n",
                "chosen_model_df = df_dp[df_dp['ModelName'] == chosen_model]\r\n",
                "\r\n",
                "# Convert OrderDate to datetime\r\n",
                "chosen_model_df['OrderDate'] = pd.to_datetime(chosen_model_df['OrderDate'])\r\n",
                "\r\n",
                "# Set OrderDate as the index\r\n",
                "chosen_model_df.set_index('OrderDate', inplace=True)\r\n",
                "\r\n",
                "# Group by month and sum the Quantity for each month\r\n",
                "chosen_model_df_monthly = chosen_model_df.resample('M').sum()\r\n",
                "\r\n",
                "# Extract the Quantity column for the LSTM model\r\n",
                "data = chosen_model_df_monthly['Quantity'].values.reshape(-1, 1)\r\n",
                "\r\n",
                "# Normalize the data\r\n",
                "scaler = MinMaxScaler()\r\n",
                "data_normalized = scaler.fit_transform(data)\r\n",
                "\r\n",
                "# Prepare data for training\r\n",
                "look_back = 12  # number of previous months to use as input features\r\n",
                "X, y = [], []\r\n",
                "\r\n",
                "for i in range(len(data_normalized) - look_back):\r\n",
                "    X.append(data_normalized[i:(i + look_back), 0])\r\n",
                "    y.append(data_normalized[i + look_back, 0])\r\n",
                "\r\n",
                "X, y = np.array(X), np.array(y)\r\n",
                "X = np.reshape(X, (X.shape[0], X.shape[1], 1))  # Reshape for LSTM input shape\r\n",
                "\r\n",
                "# Build LSTM model\r\n",
                "model = Sequential()\r\n",
                "model.add(LSTM(units=50, return_sequences=True, input_shape=(X.shape[1], 1)))\r\n",
                "model.add(LSTM(units=50))\r\n",
                "model.add(Dense(units=1))\r\n",
                "model.compile(optimizer='adam', loss='mean_squared_error')\r\n",
                "\r\n",
                "# Train the model\r\n",
                "model.fit(X, y, epochs=50, batch_size=32)\r\n",
                "\r\n",
                "# Make predictions\r\n",
                "inputs = data_normalized[-look_back:]\r\n",
                "inputs = np.reshape(inputs, (1, look_back, 1))\r\n",
                "predicted_normalized = model.predict(inputs)\r\n",
                "\r\n",
                "# Denormalize the predicted value\r\n",
                "predicted_value = scaler.inverse_transform(predicted_normalized.reshape(-1, 1))\r\n",
                "\r\n",
                "# Plot the historical data\r\n",
                "plt.figure(figsize=(10, 6))\r\n",
                "plt.plot(chosen_model_df_monthly.index, chosen_model_df_monthly['Quantity'], marker='o', linestyle='-', label='Monthly Quantity')\r\n",
                "\r\n",
                "# Plot the predicted value for the next month\r\n",
                "next_month = chosen_model_df_monthly.index[-1] + pd.DateOffset(months=1)\r\n",
                "plt.plot(next_month, predicted_value[0, 0], marker='o', color='r', label='Predicted Quantity (Next Month)')\r\n",
                "\r\n",
                "plt.title(f'Quantity of {chosen_model} over Time (Grouped by Month)')\r\n",
                "plt.xlabel('Order Date')\r\n",
                "plt.ylabel('Quantity')\r\n",
                "plt.xticks(rotation=45)\r\n",
                "plt.legend()\r\n",
                "plt.grid()\r\n",
                "plt.show()\r\n",
                ""
            ],
            "metadata": {
                "azdata_cell_guid": "41625d8d-5100-48e0-bb37-2c4fffd76143",
                "tags": [
                    "hide_input"
                ]
            },
            "outputs": [],
            "execution_count": null
        },
        {
            "cell_type": "markdown",
            "source": [
                "---"
            ],
            "metadata": {
                "language": "python",
                "azdata_cell_guid": "586a080e-9644-4f72-8350-49277db0edbe",
                "extensions": {
                    "azuredatastudio": {
                        "views": []
                    }
                }
            },
            "attachments": {}
        }
    ]
}