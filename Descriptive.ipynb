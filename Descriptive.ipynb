{
    "metadata": {
        "kernelspec": {
            "name": "python3",
            "display_name": "Python 3 (ipykernel)",
            "language": "python"
        },
        "language_info": {
            "name": "python",
            "version": "3.11.5",
            "mimetype": "text/x-python",
            "codemirror_mode": {
                "name": "ipython",
                "version": 3
            },
            "pygments_lexer": "ipython3",
            "nbconvert_exporter": "python",
            "file_extension": ".py"
        },
        "extensions": {
            "azuredatastudio": {
                "version": 1,
                "views": []
            }
        }
    },
    "nbformat_minor": 2,
    "nbformat": 4,
    "cells": [
        {
            "cell_type": "code",
            "source": [
                "import pyodbc                  # package that connects notebook to database\r\n",
                "import pandas as pd            # package for data manipulation\r\n",
                "import seaborn as sns          # package for visualziation\r\n",
                "import statsmodels.api as sm   # package for lm\r\n",
                "import matplotlib.pyplot as plt\r\n",
                "import plotly.express as px\r\n",
                "import plotly.graph_objects as go\r\n",
                "from plotly.subplots import make_subplots\r\n",
                "import ipywidgets as widgets\r\n",
                "from ipywidgets import interact\r\n",
                "import pandas as pd\r\n",
                "import plotly.express as px\r\n",
                "from ipywidgets import interact, Dropdown\r\n",
                "import numpy as np"
            ],
            "metadata": {
                "azdata_cell_guid": "595aa84e-8387-49d9-ad58-92ebb6389429",
                "tags": [
                    "hide_input"
                ],
                "extensions": {
                    "azuredatastudio": {
                        "views": []
                    }
                }
            },
            "outputs": [],
            "execution_count": 1
        },
        {
            "cell_type": "markdown",
            "source": [
                "(2) In the next two code cells we prepare a string consisting of arguments for the server (the computer we have been working with) and the driver (this is software the allows us to connect to a database provided that the database follows certain Open Database Connectivity (ODBC) standards). In most environments we would include sign-on credentials too, but as we have already logged into a TCU device via Windows authentication, the Server can use these credentials for access."
            ],
            "metadata": {
                "language": "python",
                "azdata_cell_guid": "fc4a7fe2-9346-408e-abd2-7692adfeb7e1",
                "extensions": {
                    "azuredatastudio": {
                        "views": []
                    }
                }
            },
            "attachments": {}
        },
        {
            "cell_type": "code",
            "source": [
                "SERVER = 'STUSQL01.it.tcu.edu'\r\n",
                "DRIVER= '{ODBC Driver 17 for SQL Server}'\r\n",
                "connectionString = f'DRIVER={{ODBC Driver 17 for SQL Server}}; SERVER={SERVER}; TRUSTED_CONNECTION=yes'"
            ],
            "metadata": {
                "azdata_cell_guid": "9c08b1f1-f9f9-4feb-a5f4-f66cef5b8fc8",
                "tags": [
                    "hide_input"
                ],
                "extensions": {
                    "azuredatastudio": {
                        "views": []
                    }
                }
            },
            "outputs": [],
            "execution_count": 2
        },
        {
            "cell_type": "code",
            "source": [
                "cnxn = pyodbc.connect(connectionString)"
            ],
            "metadata": {
                "language": "python",
                "azdata_cell_guid": "5d668a6e-5cb5-4f3d-96a7-0f029de5e925",
                "extensions": {
                    "azuredatastudio": {
                        "views": []
                    }
                },
                "tags": [
                    "hide_input"
                ]
            },
            "outputs": [],
            "execution_count": 3
        },
        {
            "cell_type": "markdown",
            "source": [
                "# **General Overview**"
            ],
            "metadata": {
                "language": "python",
                "azdata_cell_guid": "94a7c07a-2fc4-4584-853f-e844049848e0",
                "extensions": {
                    "azuredatastudio": {
                        "views": []
                    }
                }
            },
            "attachments": {}
        },
        {
            "cell_type": "markdown",
            "source": [
                "## **1. General Metrics**"
            ],
            "metadata": {
                "azdata_cell_guid": "84cfcd7a-24df-4284-9bb0-371756bcfe6e"
            },
            "attachments": {}
        },
        {
            "cell_type": "markdown",
            "source": [
                "\n",
                "**General Metrics:**\n",
                "- Total Revenue: $29M\n",
                "- Total Profit: $9M\n",
                "- Total Tax Amount: $2,349K\n",
                "- Total Freight Cost: $734K\n",
                "- Profit Margin: 42.84%\n",
                ""
            ],
            "metadata": {
                "azdata_cell_guid": "52bff1a4-9ca8-413b-b61c-55369992b9c1"
            },
            "attachments": {}
        },
        {
            "cell_type": "code",
            "source": [
                "pd.options.display.float_format = '{:.4f}'.format"
            ],
            "metadata": {
                "azdata_cell_guid": "d0ed593f-1bb0-4339-8ec1-b40377812ec7",
                "tags": [
                    "hide_input"
                ]
            },
            "outputs": [],
            "execution_count": 4
        },
        {
            "cell_type": "code",
            "source": [
                "gm_query = '''\r\n",
                "-- Further Transformation\r\n",
                "\r\n",
                "WITH CTE_FactInternetSales\r\n",
                "AS (SELECT\r\n",
                "  ProductKey,\r\n",
                "  OrderDateKey,\r\n",
                "  DueDateKey,\r\n",
                "  ShipDateKey,\r\n",
                "  CustomerKey,\r\n",
                "  PromotionKey,\r\n",
                "  CurrencyKey,\r\n",
                "  SalesTerritoryKey,\r\n",
                "  SalesOrderNumber,\r\n",
                "  SalesAmount,\r\n",
                "  TotalProductCost,\r\n",
                "  TaxAmt,\r\n",
                "  Freight,\r\n",
                "  SalesAmount - TotalProductCost - TaxAmt - Freight AS Profit,\r\n",
                "  (SalesAmount - TotalProductCost - TaxAmt - Freight) / SalesAmount AS ProfitMargin,\r\n",
                "  CONVERT(date, OrderDate) AS OrderDate,\r\n",
                "  CONVERT(date, DueDate) AS DueDate,\r\n",
                "  CONVERT(date, ShipDate) AS ShipDate,\r\n",
                "  IIF(ShipDate > DueDate, 'Late', 'Normal') AS ShipStatus,\r\n",
                "  DATEDIFF(D, OrderDate, ShipDate) + 3 TimeToArrive,\r\n",
                "  DATEDIFF(D, OrderDate, ShipDate) TimeToShip\r\n",
                "FROM [AdventureWorksDW2017].dbo.FactInternetSales)\r\n",
                "\r\n",
                "-- General Metrics\r\n",
                "SELECT \r\n",
                "SUM(SalesAmount) as TotalRevenue,\r\n",
                "SUM(Profit) as TotalProfit, \r\n",
                "SUM(TaxAmt) as TotalTaxAmt,\r\n",
                "SUM(Freight) as TotalFreightCost,\r\n",
                "AVG(ProfitMargin) as ProfitMargin\r\n",
                "FROM CTE_FactInternetSales\r\n",
                "\r\n",
                "\r\n",
                "''' \r\n",
                "df_gm = pd.read_sql_query(gm_query, con=cnxn)\r\n",
                "df_gm.head()"
            ],
            "metadata": {
                "azdata_cell_guid": "d74646af-af7d-4f6c-866a-5bf6e7f64b15",
                "tags": [
                    "hide_input"
                ]
            },
            "outputs": [
                {
                    "output_type": "stream",
                    "name": "stderr",
                    "text": "C:\\Users\\minhbpham\\AppData\\Local\\Temp\\ipykernel_5068\\2338598011.py:40: UserWarning: pandas only supports SQLAlchemy connectable (engine/connection) or database string URI or sqlite3 DBAPI2 connection. Other DBAPI2 objects are not tested. Please consider using SQLAlchemy.\n  df_gm = pd.read_sql_query(gm_query, con=cnxn)\n"
                },
                {
                    "output_type": "execute_result",
                    "execution_count": 5,
                    "data": {
                        "text/plain": "   TotalRevenue  TotalProfit  TotalTaxAmt  TotalFreightCost  ProfitMargin\n0 29358677.2207 8998219.8058 2348694.2301       733969.6091        0.4284",
                        "text/html": "<div>\n<style scoped>\n    .dataframe tbody tr th:only-of-type {\n        vertical-align: middle;\n    }\n\n    .dataframe tbody tr th {\n        vertical-align: top;\n    }\n\n    .dataframe thead th {\n        text-align: right;\n    }\n</style>\n<table border=\"1\" class=\"dataframe\">\n  <thead>\n    <tr style=\"text-align: right;\">\n      <th></th>\n      <th>TotalRevenue</th>\n      <th>TotalProfit</th>\n      <th>TotalTaxAmt</th>\n      <th>TotalFreightCost</th>\n      <th>ProfitMargin</th>\n    </tr>\n  </thead>\n  <tbody>\n    <tr>\n      <th>0</th>\n      <td>29358677.2207</td>\n      <td>8998219.8058</td>\n      <td>2348694.2301</td>\n      <td>733969.6091</td>\n      <td>0.4284</td>\n    </tr>\n  </tbody>\n</table>\n</div>"
                    },
                    "metadata": {}
                }
            ],
            "execution_count": 5
        },
        {
            "cell_type": "code",
            "source": [
                "# Format values in US dollars and approximate to the nearest million or thousand\r\n",
                "def format_dollars(value, divisor):\r\n",
                "    return \"${:,.0f}{}\".format(value / divisor, 'K' if divisor == 1_000 else 'M')\r\n",
                "\r\n",
                "# Print general metrics\r\n",
                "print(\"General Metrics:\")\r\n",
                "print(\"Total Revenue: {}\".format(format_dollars(df_gm['TotalRevenue'][0], 1_000_000)))\r\n",
                "print(\"Total Profit: {}\".format(format_dollars(df_gm['TotalProfit'][0], 1_000_000)))\r\n",
                "print(\"Total Tax Amount: {}\".format(format_dollars(df_gm['TotalTaxAmt'][0], 1_000)))\r\n",
                "print(\"Total Freight Cost: {}\".format(format_dollars(df_gm['TotalFreightCost'][0], 1_000)))\r\n",
                "print(\"Profit Margin: {:.2%}\".format(df_gm['ProfitMargin'][0]))"
            ],
            "metadata": {
                "azdata_cell_guid": "7f11ab62-c99f-49fb-89b2-5164a45dda00",
                "tags": [
                    "hide_input"
                ]
            },
            "outputs": [
                {
                    "output_type": "stream",
                    "name": "stdout",
                    "text": "General Metrics:\nTotal Revenue: $29M\nTotal Profit: $9M\nTotal Tax Amount: $2,349K\nTotal Freight Cost: $734K\nProfit Margin: 42.84%\n"
                }
            ],
            "execution_count": 6
        },
        {
            "cell_type": "markdown",
            "source": [
                "## **2\\. Time Series Analytics**\n",
                "\n",
                "- **Yearly**\n",
                "    \n",
                "    - 2011: $7 Millions\n",
                "    - 2012: $6 Millions\n",
                "    - 2013: $14 Millions\n",
                "    - 2014 and 2010: 2 Millions (December 2010 and January 2011)\n",
                "- **Quarterly**\n",
                "    \n",
                "    - Better in the 2nd quarter then in the first quarter\n",
                "- **Monthly**\n",
                "    \n",
                "    - Best: June, Octorber, November, December\n",
                "    - Worst: January, Febuary, April"
            ],
            "metadata": {
                "language": "python",
                "azdata_cell_guid": "3f6ed95e-08e3-47fa-ba0d-a232876657a1",
                "extensions": {
                    "azuredatastudio": {
                        "views": []
                    }
                }
            },
            "attachments": {}
        },
        {
            "cell_type": "markdown",
            "source": [
                "### **Cumulative Revenue Trend**"
            ],
            "metadata": {
                "azdata_cell_guid": "585e6782-c717-4c3d-80ad-1c56e12b0c99"
            },
            "attachments": {}
        },
        {
            "cell_type": "code",
            "source": [
                "tsa_query = '''\r\n",
                "WITH CTE_FactInternetSales\r\n",
                "AS (SELECT\r\n",
                "  ProductKey,\r\n",
                "  OrderDateKey,\r\n",
                "  DueDateKey,\r\n",
                "  ShipDateKey,\r\n",
                "  CustomerKey,\r\n",
                "  PromotionKey,\r\n",
                "  CurrencyKey,\r\n",
                "  SalesTerritoryKey,\r\n",
                "  SalesOrderNumber,\r\n",
                "  SalesAmount,\r\n",
                "  TotalProductCost,\r\n",
                "  TaxAmt,\r\n",
                "  Freight,\r\n",
                "  SalesAmount - TotalProductCost - TaxAmt - Freight AS Profit,\r\n",
                "  (SalesAmount - TotalProductCost - TaxAmt - Freight) / SalesAmount AS ProfitMargin,\r\n",
                "  CONVERT(date, OrderDate) AS OrderDate,\r\n",
                "  CONVERT(date, DueDate) AS DueDate,\r\n",
                "  CONVERT(date, ShipDate) AS ShipDate,\r\n",
                "  IIF(ShipDate > DueDate, 'Late', 'Normal') AS ShipStatus,\r\n",
                "  DATEDIFF(D, OrderDate, ShipDate) + 3 TimeToArrive,\r\n",
                "  DATEDIFF(D, OrderDate, ShipDate) TimeToShip\r\n",
                "FROM [AdventureWorksDW2017].dbo.FactInternetSales),\r\n",
                "CTE_DimDate\r\n",
                "AS (SELECT\r\n",
                "  DateKey,\r\n",
                "  FullDateAlternateKey,\r\n",
                "  DayNumberOfWeek,\r\n",
                "  EnglishDayNameOfWeek,\r\n",
                "  DayNumberOfMonth,\r\n",
                "  DayNumberOfYear,\r\n",
                "  WeekNumberOfYear,\r\n",
                "  MonthNumberOfYear,\r\n",
                "  EnglishMonthName AS MonthName,\r\n",
                "  CalendarQuarter,\r\n",
                "  CalendarYear,\r\n",
                "  CalendarSemester,\r\n",
                "  FiscalYear FiscalQuarter,\r\n",
                "  FiscalSemester\r\n",
                "FROM [AdventureWorksDW2017].dbo.DimDate),\r\n",
                "\r\n",
                "-- Times Series Analytics\r\n",
                "\r\n",
                "--SELECT \r\n",
                "--SalesOrderNumber,\r\n",
                "--SalesAmount,\r\n",
                "--TotalProductCost,\r\n",
                "--TaxAmt,\r\n",
                "--Freight,\r\n",
                "--Profit,\r\n",
                "--ProfitMargin,\r\n",
                "--OrderDate,\r\n",
                "--DayNumberOfWeek,\r\n",
                "--EnglishDayNameOfWeek,\r\n",
                "--DayNumberOfMonth,\r\n",
                "--DayNumberOfYear,\r\n",
                "--WeekNumberOfYear,\r\n",
                "--MonthNumberOfYear,\r\n",
                "--MonthName,\r\n",
                "--CalendarQuarter, \r\n",
                "--CalendarYear, \r\n",
                "--CalendarSemester,\r\n",
                "--FiscalQuarter,\r\n",
                "--FiscalSemester\r\n",
                "--FROM CTE_FactInternetSales\r\n",
                "--JOIN CTE_DimDate\r\n",
                "--ON  CTE_FactInternetSales.OrderDateKey = CTE_DimDate.DateKey, \r\n",
                "\r\n",
                "\r\n",
                "\r\n",
                "\r\n",
                "CTE\r\n",
                "AS (SELECT\r\n",
                "  CalendarYear,\r\n",
                "  CalendarQuarter,\r\n",
                "  MonthNumberOfYear,\r\n",
                "  MonthName,\r\n",
                "  SUM(SalesAmount) AS Revenue,\r\n",
                "  LAG(SUM(SalesAmount)) OVER (ORDER BY CalendarYear, MonthName) AS PreviousRevenue,\r\n",
                "  (SUM(SalesAmount) - LAG(SUM(SalesAmount)) OVER (ORDER BY CalendarYear, MonthName)) / SUM(SalesAmount) * 100 AS RevenueChangePercentage,\r\n",
                "  SUM(Profit) AS Profit,\r\n",
                "  LAG(SUM(Profit)) OVER (ORDER BY CalendarYear, MonthName) AS PreviousProfit,\r\n",
                "  (SUM(Profit) - LAG(SUM(Profit)) OVER (ORDER BY CalendarYear, MonthName)) / SUM(Profit) * 100 AS ProfitChangePercentage,\r\n",
                "  AVG(ProfitMargin) AS AVGProfitMargin\r\n",
                "FROM CTE_FactInternetSales\r\n",
                "JOIN CTE_DimDate\r\n",
                "  ON CTE_FactInternetSales.OrderDateKey = CTE_DimDate.DateKey\r\n",
                "GROUP BY CalendarYear,\r\n",
                "         CalendarQuarter,\r\n",
                "         MonthNumberOfYear,\r\n",
                "         MonthName)\r\n",
                "\r\n",
                "SELECT\r\n",
                "  *,\r\n",
                "  SUM(Revenue) OVER (ORDER BY CalendarYear, MonthNumberOfYear) AS CumulativeRevenue,\r\n",
                "  SUM(Revenue) OVER (PARTITION BY CalendarYear ORDER BY CalendarYear, MonthNumberOfYear) AS YearlyCumulativeRevenue,\r\n",
                "  --SUM(Revenue) OVER(partition by CalendarYear) as Yearly_Revenue,\r\n",
                "  Revenue / (SUM(Revenue) OVER (PARTITION BY CalendarYear)) * 100 AS MonthlyRevenuePercentage\r\n",
                "FROM CTE\r\n",
                "ORDER BY 1, 2\r\n",
                "\r\n",
                "''' \r\n",
                "df_tsa = pd.read_sql_query(tsa_query, con=cnxn)\r\n",
                "# df_tsa.head()"
            ],
            "metadata": {
                "azdata_cell_guid": "7ce72e16-c3d1-4141-b9f2-ac1cb2d156dc",
                "extensions": {
                    "azuredatastudio": {
                        "views": []
                    }
                },
                "tags": [
                    "hide_input"
                ]
            },
            "outputs": [
                {
                    "output_type": "stream",
                    "name": "stderr",
                    "text": "C:\\Users\\minhbpham\\AppData\\Local\\Temp\\ipykernel_5068\\2991550187.py:105: UserWarning: pandas only supports SQLAlchemy connectable (engine/connection) or database string URI or sqlite3 DBAPI2 connection. Other DBAPI2 objects are not tested. Please consider using SQLAlchemy.\n  df_tsa = pd.read_sql_query(tsa_query, con=cnxn)\n"
                }
            ],
            "execution_count": 7
        },
        {
            "cell_type": "code",
            "source": [
                "# Creating a new column for the combination of Year and Month\r\n",
                "df_tsa['YearMonth'] = df_tsa.apply(lambda x: str(x['CalendarYear']) + '-' + str(x['MonthNumberOfYear']), axis=1)\r\n",
                "\r\n",
                "# Sorting the values based on the new column and by year and month\r\n",
                "df_tsa['YearMonth'] = pd.to_datetime(df_tsa['YearMonth'], format='%Y-%m')\r\n",
                "df_tsa = df_tsa.sort_values('YearMonth')\r\n",
                "\r\n",
                "# Plotting the cumulative revenue by time\r\n",
                "plt.figure(figsize=(10, 6))\r\n",
                "plt.plot(df_tsa['YearMonth'], df_tsa['CumulativeRevenue'], marker='o', linestyle='-')\r\n",
                "plt.title('Cumulative Revenue by Time (Month and Year)')\r\n",
                "plt.xlabel('Month and Year')\r\n",
                "plt.ylabel('Cumulative Revenue')\r\n",
                "plt.xticks(rotation=45)\r\n",
                "plt.grid(True)\r\n",
                "plt.show()\r\n",
                ""
            ],
            "metadata": {
                "azdata_cell_guid": "86cb9403-8d6f-46d1-97ff-3cf7377d20a5",
                "tags": [
                    "hide_input"
                ]
            },
            "outputs": [
                {
                    "output_type": "display_data",
                    "data": {
                        "text/plain": "<Figure size 1000x600 with 1 Axes>",
                        "image/png": "[encoded data removed]"
                    },
                    "metadata": {}
                }
            ],
            "execution_count": 8
        },
        {
            "cell_type": "code",
            "source": [
                "import plotly.graph_objects as go\r\n",
                "\r\n",
                "# Filter the DataFrame for the required years\r\n",
                "df_tsa = df_tsa[df_tsa['CalendarYear'].isin([2011, 2012, 2013])]\r\n",
                "\r\n",
                "# Prompt the user to select a number\r\n",
                "print(\"Please select a number:\")\r\n",
                "print(\"1. Revenue\")\r\n",
                "print(\"2. Profit\")\r\n",
                "print(\"3. AVG Profit Margin\")\r\n",
                "print(\"4. Monthly Revenue Percentage\")\r\n",
                "\r\n",
                "# Get user input for the selected number\r\n",
                "selected_number = int(input(\"Enter the number corresponding to your choice: \"))\r\n",
                "\r\n",
                "# Map the selected number to the actual value\r\n",
                "value_mapping = {\r\n",
                "    1: 'Revenue',\r\n",
                "    2: 'Profit',\r\n",
                "    3: 'AVGProfitMargin',\r\n",
                "    4: 'MonthlyRevenuePercentage'\r\n",
                "}\r\n",
                "selected_value = value_mapping.get(selected_number)\r\n",
                "\r\n",
                "# Creating the interactive line graph with drill-down\r\n",
                "fig = go.Figure()\r\n",
                "\r\n",
                "# Define slightly darker colors\r\n",
                "colors = ['rgba(255, 100, 100, 0.8)', 'rgba(100, 255, 100, 0.8)', 'rgba(100, 100, 255, 0.8)']\r\n",
                "color_dict = {2011: colors[0], 2012: colors[1], 2013: colors[2]}\r\n",
                "\r\n",
                "for year in df_tsa['CalendarYear'].unique():\r\n",
                "    year_data = df_tsa[df_tsa['CalendarYear'] == year]\r\n",
                "    fig.add_trace(go.Scatter(x=year_data['MonthName'], y=year_data[selected_value], mode='lines+markers', name=str(year), line=dict(color=color_dict[year])))\r\n",
                "\r\n",
                "fig.update_layout(title='Monthly {} by Year and Month'.format(selected_value), xaxis_title='Month', yaxis_title=selected_value, width=700, height=600)\r\n",
                "fig.show()\r\n",
                ""
            ],
            "metadata": {
                "azdata_cell_guid": "a5ef5801-df2a-4ca6-9a62-91ff8ef0c1fa",
                "tags": [
                    "hide_input"
                ]
            },
            "outputs": [
                {
                    "output_type": "stream",
                    "name": "stdout",
                    "text": "Please select a number:\n1. Revenue\n2. Profit\n3. AVG Profit Margin\n4. Monthly Revenue Percentage\n"
                },
                {
                    "output_type": "display_data",
                    "data": {
                        "application/vnd.plotly.v1+json": {
                            "data": [
                                {
                                    "line": {
                                        "color": "rgba(255, 100, 100, 0.8)"
                                    },
                                    "mode": "lines+markers",
                                    "name": "2011",
                                    "x": [
                                        "January",
                                        "February",
                                        "March",
                                        "April",
                                        "May",
                                        "June",
                                        "July",
                                        "August",
                                        "September",
                                        "October",
                                        "November",
                                        "December"
                                    ],
                                    "y": [
                                        469823.9148,
                                        466334.903,
                                        485198.6594,
                                        502073.8458,
                                        561681.4758,
                                        737839.8214,
                                        596746.5568,
                                        614557.935,
                                        603083.4976,
                                        708208.0032,
                                        660545.8132,
                                        669431.5031
                                    ],
                                    "type": "scatter"
                                },
                                {
                                    "line": {
                                        "color": "rgba(100, 255, 100, 0.8)"
                                    },
                                    "mode": "lines+markers",
                                    "name": "2012",
                                    "x": [
                                        "January",
                                        "February",
                                        "March",
                                        "April",
                                        "May",
                                        "June",
                                        "July",
                                        "August",
                                        "September",
                                        "October",
                                        "November",
                                        "December"
                                    ],
                                    "y": [
                                        495364.1261,
                                        506994.1876,
                                        373483.0054,
                                        400335.6145,
                                        358877.8907,
                                        555160.1428,
                                        444558.2281,
                                        523917.3815,
                                        486177.4502,
                                        535159.4846,
                                        537955.517,
                                        624502.1667
                                    ],
                                    "type": "scatter"
                                },
                                {
                                    "line": {
                                        "color": "rgba(100, 100, 255, 0.8)"
                                    },
                                    "mode": "lines+markers",
                                    "name": "2013",
                                    "x": [
                                        "January",
                                        "February",
                                        "March",
                                        "April",
                                        "May",
                                        "June",
                                        "July",
                                        "August",
                                        "September",
                                        "October",
                                        "November",
                                        "December"
                                    ],
                                    "y": [
                                        857689.91,
                                        771348.74,
                                        1049907.39,
                                        1046022.77,
                                        1284592.93,
                                        1643177.78,
                                        1371675.81,
                                        1551065.56,
                                        1447495.69,
                                        1673293.41,
                                        1780920.06,
                                        1874360.29
                                    ],
                                    "type": "scatter"
                                }
                            ],
                            "layout": {
                                "template": {
                                    "data": {
                                        "histogram2dcontour": [
                                            {
                                                "type": "histogram2dcontour",
                                                "colorbar": {
                                                    "outlinewidth": 0,
                                                    "ticks": ""
                                                },
                                                "colorscale": [
                                                    [
                                                        0,
                                                        "#0d0887"
                                                    ],
                                                    [
                                                        0.1111111111111111,
                                                        "#46039f"
                                                    ],
                                                    [
                                                        0.2222222222222222,
                                                        "#7201a8"
                                                    ],
                                                    [
                                                        0.3333333333333333,
                                                        "#9c179e"
                                                    ],
                                                    [
                                                        0.4444444444444444,
                                                        "#bd3786"
                                                    ],
                                                    [
                                                        0.5555555555555556,
                                                        "#d8576b"
                                                    ],
                                                    [
                                                        0.6666666666666666,
                                                        "#ed7953"
                                                    ],
                                                    [
                                                        0.7777777777777778,
                                                        "#fb9f3a"
                                                    ],
                                                    [
                                                        0.8888888888888888,
                                                        "#fdca26"
                                                    ],
                                                    [
                                                        1,
                                                        "#f0f921"
                                                    ]
                                                ]
                                            }
                                        ],
                                        "choropleth": [
                                            {
                                                "type": "choropleth",
                                                "colorbar": {
                                                    "outlinewidth": 0,
                                                    "ticks": ""
                                                }
                                            }
                                        ],
                                        "histogram2d": [
                                            {
                                                "type": "histogram2d",
                                                "colorbar": {
                                                    "outlinewidth": 0,
                                                    "ticks": ""
                                                },
                                                "colorscale": [
                                                    [
                                                        0,
                                                        "#0d0887"
                                                    ],
                                                    [
                                                        0.1111111111111111,
                                                        "#46039f"
                                                    ],
                                                    [
                                                        0.2222222222222222,
                                                        "#7201a8"
                                                    ],
                                                    [
                                                        0.3333333333333333,
                                                        "#9c179e"
                                                    ],
                                                    [
                                                        0.4444444444444444,
                                                        "#bd3786"
                                                    ],
                                                    [
                                                        0.5555555555555556,
                                                        "#d8576b"
                                                    ],
                                                    [
                                                        0.6666666666666666,
                                                        "#ed7953"
                                                    ],
                                                    [
                                                        0.7777777777777778,
                                                        "#fb9f3a"
                                                    ],
                                                    [
                                                        0.8888888888888888,
                                                        "#fdca26"
                                                    ],
                                                    [
                                                        1,
                                                        "#f0f921"
                                                    ]
                                                ]
                                            }
                                        ],
                                        "heatmap": [
                                            {
                                                "type": "heatmap",
                                                "colorbar": {
                                                    "outlinewidth": 0,
                                                    "ticks": ""
                                                },
                                                "colorscale": [
                                                    [
                                                        0,
                                                        "#0d0887"
                                                    ],
                                                    [
                                                        0.1111111111111111,
                                                        "#46039f"
                                                    ],
                                                    [
                                                        0.2222222222222222,
                                                        "#7201a8"
                                                    ],
                                                    [
                                                        0.3333333333333333,
                                                        "#9c179e"
                                                    ],
                                                    [
                                                        0.4444444444444444,
                                                        "#bd3786"
                                                    ],
                                                    [
                                                        0.5555555555555556,
                                                        "#d8576b"
                                                    ],
                                                    [
                                                        0.6666666666666666,
                                                        "#ed7953"
                                                    ],
                                                    [
                                                        0.7777777777777778,
                                                        "#fb9f3a"
                                                    ],
                                                    [
                                                        0.8888888888888888,
                                                        "#fdca26"
                                                    ],
                                                    [
                                                        1,
                                                        "#f0f921"
                                                    ]
                                                ]
                                            }
                                        ],
                                        "heatmapgl": [
                                            {
                                                "type": "heatmapgl",
                                                "colorbar": {
                                                    "outlinewidth": 0,
                                                    "ticks": ""
                                                },
                                                "colorscale": [
                                                    [
                                                        0,
                                                        "#0d0887"
                                                    ],
                                                    [
                                                        0.1111111111111111,
                                                        "#46039f"
                                                    ],
                                                    [
                                                        0.2222222222222222,
                                                        "#7201a8"
                                                    ],
                                                    [
                                                        0.3333333333333333,
                                                        "#9c179e"
                                                    ],
                                                    [
                                                        0.4444444444444444,
                                                        "#bd3786"
                                                    ],
                                                    [
                                                        0.5555555555555556,
                                                        "#d8576b"
                                                    ],
                                                    [
                                                        0.6666666666666666,
                                                        "#ed7953"
                                                    ],
                                                    [
                                                        0.7777777777777778,
                                                        "#fb9f3a"
                                                    ],
                                                    [
                                                        0.8888888888888888,
                                                        "#fdca26"
                                                    ],
                                                    [
                                                        1,
                                                        "#f0f921"
                                                    ]
                                                ]
                                            }
                                        ],
                                        "contourcarpet": [
                                            {
                                                "type": "contourcarpet",
                                                "colorbar": {
                                                    "outlinewidth": 0,
                                                    "ticks": ""
                                                }
                                            }
                                        ],
                                        "contour": [
                                            {
                                                "type": "contour",
                                                "colorbar": {
                                                    "outlinewidth": 0,
                                                    "ticks": ""
                                                },
                                                "colorscale": [
                                                    [
                                                        0,
                                                        "#0d0887"
                                                    ],
                                                    [
                                                        0.1111111111111111,
                                                        "#46039f"
                                                    ],
                                                    [
                                                        0.2222222222222222,
                                                        "#7201a8"
                                                    ],
                                                    [
                                                        0.3333333333333333,
                                                        "#9c179e"
                                                    ],
                                                    [
                                                        0.4444444444444444,
                                                        "#bd3786"
                                                    ],
                                                    [
                                                        0.5555555555555556,
                                                        "#d8576b"
                                                    ],
                                                    [
                                                        0.6666666666666666,
                                                        "#ed7953"
                                                    ],
                                                    [
                                                        0.7777777777777778,
                                                        "#fb9f3a"
                                                    ],
                                                    [
                                                        0.8888888888888888,
                                                        "#fdca26"
                                                    ],
                                                    [
                                                        1,
                                                        "#f0f921"
                                                    ]
                                                ]
                                            }
                                        ],
                                        "surface": [
                                            {
                                                "type": "surface",
                                                "colorbar": {
                                                    "outlinewidth": 0,
                                                    "ticks": ""
                                                },
                                                "colorscale": [
                                                    [
                                                        0,
                                                        "#0d0887"
                                                    ],
                                                    [
                                                        0.1111111111111111,
                                                        "#46039f"
                                                    ],
                                                    [
                                                        0.2222222222222222,
                                                        "#7201a8"
                                                    ],
                                                    [
                                                        0.3333333333333333,
                                                        "#9c179e"
                                                    ],
                                                    [
                                                        0.4444444444444444,
                                                        "#bd3786"
                                                    ],
                                                    [
                                                        0.5555555555555556,
                                                        "#d8576b"
                                                    ],
                                                    [
                                                        0.6666666666666666,
                                                        "#ed7953"
                                                    ],
                                                    [
                                                        0.7777777777777778,
                                                        "#fb9f3a"
                                                    ],
                                                    [
                                                        0.8888888888888888,
                                                        "#fdca26"
                                                    ],
                                                    [
                                                        1,
                                                        "#f0f921"
                                                    ]
                                                ]
                                            }
                                        ],
                                        "mesh3d": [
                                            {
                                                "type": "mesh3d",
                                                "colorbar": {
                                                    "outlinewidth": 0,
                                                    "ticks": ""
                                                }
                                            }
                                        ],
                                        "scatter": [
                                            {
                                                "fillpattern": {
                                                    "fillmode": "overlay",
                                                    "size": 10,
                                                    "solidity": 0.2
                                                },
                                                "type": "scatter"
                                            }
                                        ],
                                        "parcoords": [
                                            {
                                                "type": "parcoords",
                                                "line": {
                                                    "colorbar": {
                                                        "outlinewidth": 0,
                                                        "ticks": ""
                                                    }
                                                }
                                            }
                                        ],
                                        "scatterpolargl": [
                                            {
                                                "type": "scatterpolargl",
                                                "marker": {
                                                    "colorbar": {
                                                        "outlinewidth": 0,
                                                        "ticks": ""
                                                    }
                                                }
                                            }
                                        ],
                                        "bar": [
                                            {
                                                "error_x": {
                                                    "color": "#2a3f5f"
                                                },
                                                "error_y": {
                                                    "color": "#2a3f5f"
                                                },
                                                "marker": {
                                                    "line": {
                                                        "color": "#E5ECF6",
                                                        "width": 0.5
                                                    },
                                                    "pattern": {
                                                        "fillmode": "overlay",
                                                        "size": 10,
                                                        "solidity": 0.2
                                                    }
                                                },
                                                "type": "bar"
                                            }
                                        ],
                                        "scattergeo": [
                                            {
                                                "type": "scattergeo",
                                                "marker": {
                                                    "colorbar": {
                                                        "outlinewidth": 0,
                                                        "ticks": ""
                                                    }
                                                }
                                            }
                                        ],
                                        "scatterpolar": [
                                            {
                                                "type": "scatterpolar",
                                                "marker": {
                                                    "colorbar": {
                                                        "outlinewidth": 0,
                                                        "ticks": ""
                                                    }
                                                }
                                            }
                                        ],
                                        "histogram": [
                                            {
                                                "marker": {
                                                    "pattern": {
                                                        "fillmode": "overlay",
                                                        "size": 10,
                                                        "solidity": 0.2
                                                    }
                                                },
                                                "type": "histogram"
                                            }
                                        ],
                                        "scattergl": [
                                            {
                                                "type": "scattergl",
                                                "marker": {
                                                    "colorbar": {
                                                        "outlinewidth": 0,
                                                        "ticks": ""
                                                    }
                                                }
                                            }
                                        ],
                                        "scatter3d": [
                                            {
                                                "type": "scatter3d",
                                                "line": {
                                                    "colorbar": {
                                                        "outlinewidth": 0,
                                                        "ticks": ""
                                                    }
                                                },
                                                "marker": {
                                                    "colorbar": {
                                                        "outlinewidth": 0,
                                                        "ticks": ""
                                                    }
                                                }
                                            }
                                        ],
                                        "scattermapbox": [
                                            {
                                                "type": "scattermapbox",
                                                "marker": {
                                                    "colorbar": {
                                                        "outlinewidth": 0,
                                                        "ticks": ""
                                                    }
                                                }
                                            }
                                        ],
                                        "scatterternary": [
                                            {
                                                "type": "scatterternary",
                                                "marker": {
                                                    "colorbar": {
                                                        "outlinewidth": 0,
                                                        "ticks": ""
                                                    }
                                                }
                                            }
                                        ],
                                        "scattercarpet": [
                                            {
                                                "type": "scattercarpet",
                                                "marker": {
                                                    "colorbar": {
                                                        "outlinewidth": 0,
                                                        "ticks": ""
                                                    }
                                                }
                                            }
                                        ],
                                        "carpet": [
                                            {
                                                "aaxis": {
                                                    "endlinecolor": "#2a3f5f",
                                                    "gridcolor": "white",
                                                    "linecolor": "white",
                                                    "minorgridcolor": "white",
                                                    "startlinecolor": "#2a3f5f"
                                                },
                                                "baxis": {
                                                    "endlinecolor": "#2a3f5f",
                                                    "gridcolor": "white",
                                                    "linecolor": "white",
                                                    "minorgridcolor": "white",
                                                    "startlinecolor": "#2a3f5f"
                                                },
                                                "type": "carpet"
                                            }
                                        ],
                                        "table": [
                                            {
                                                "cells": {
                                                    "fill": {
                                                        "color": "#EBF0F8"
                                                    },
                                                    "line": {
                                                        "color": "white"
                                                    }
                                                },
                                                "header": {
                                                    "fill": {
                                                        "color": "#C8D4E3"
                                                    },
                                                    "line": {
                                                        "color": "white"
                                                    }
                                                },
                                                "type": "table"
                                            }
                                        ],
                                        "barpolar": [
                                            {
                                                "marker": {
                                                    "line": {
                                                        "color": "#E5ECF6",
                                                        "width": 0.5
                                                    },
                                                    "pattern": {
                                                        "fillmode": "overlay",
                                                        "size": 10,
                                                        "solidity": 0.2
                                                    }
                                                },
                                                "type": "barpolar"
                                            }
                                        ],
                                        "pie": [
                                            {
                                                "automargin": true,
                                                "type": "pie"
                                            }
                                        ]
                                    },
                                    "layout": {
                                        "autotypenumbers": "strict",
                                        "colorway": [
                                            "#636efa",
                                            "#EF553B",
                                            "#00cc96",
                                            "#ab63fa",
                                            "#FFA15A",
                                            "#19d3f3",
                                            "#FF6692",
                                            "#B6E880",
                                            "#FF97FF",
                                            "#FECB52"
                                        ],
                                        "font": {
                                            "color": "#2a3f5f"
                                        },
                                        "hovermode": "closest",
                                        "hoverlabel": {
                                            "align": "left"
                                        },
                                        "paper_bgcolor": "white",
                                        "plot_bgcolor": "#E5ECF6",
                                        "polar": {
                                            "bgcolor": "#E5ECF6",
                                            "angularaxis": {
                                                "gridcolor": "white",
                                                "linecolor": "white",
                                                "ticks": ""
                                            },
                                            "radialaxis": {
                                                "gridcolor": "white",
                                                "linecolor": "white",
                                                "ticks": ""
                                            }
                                        },
                                        "ternary": {
                                            "bgcolor": "#E5ECF6",
                                            "aaxis": {
                                                "gridcolor": "white",
                                                "linecolor": "white",
                                                "ticks": ""
                                            },
                                            "baxis": {
                                                "gridcolor": "white",
                                                "linecolor": "white",
                                                "ticks": ""
                                            },
                                            "caxis": {
                                                "gridcolor": "white",
                                                "linecolor": "white",
                                                "ticks": ""
                                            }
                                        },
                                        "coloraxis": {
                                            "colorbar": {
                                                "outlinewidth": 0,
                                                "ticks": ""
                                            }
                                        },
                                        "colorscale": {
                                            "sequential": [
                                                [
                                                    0,
                                                    "#0d0887"
                                                ],
                                                [
                                                    0.1111111111111111,
                                                    "#46039f"
                                                ],
                                                [
                                                    0.2222222222222222,
                                                    "#7201a8"
                                                ],
                                                [
                                                    0.3333333333333333,
                                                    "#9c179e"
                                                ],
                                                [
                                                    0.4444444444444444,
                                                    "#bd3786"
                                                ],
                                                [
                                                    0.5555555555555556,
                                                    "#d8576b"
                                                ],
                                                [
                                                    0.6666666666666666,
                                                    "#ed7953"
                                                ],
                                                [
                                                    0.7777777777777778,
                                                    "#fb9f3a"
                                                ],
                                                [
                                                    0.8888888888888888,
                                                    "#fdca26"
                                                ],
                                                [
                                                    1,
                                                    "#f0f921"
                                                ]
                                            ],
                                            "sequentialminus": [
                                                [
                                                    0,
                                                    "#0d0887"
                                                ],
                                                [
                                                    0.1111111111111111,
                                                    "#46039f"
                                                ],
                                                [
                                                    0.2222222222222222,
                                                    "#7201a8"
                                                ],
                                                [
                                                    0.3333333333333333,
                                                    "#9c179e"
                                                ],
                                                [
                                                    0.4444444444444444,
                                                    "#bd3786"
                                                ],
                                                [
                                                    0.5555555555555556,
                                                    "#d8576b"
                                                ],
                                                [
                                                    0.6666666666666666,
                                                    "#ed7953"
                                                ],
                                                [
                                                    0.7777777777777778,
                                                    "#fb9f3a"
                                                ],
                                                [
                                                    0.8888888888888888,
                                                    "#fdca26"
                                                ],
                                                [
                                                    1,
                                                    "#f0f921"
                                                ]
                                            ],
                                            "diverging": [
                                                [
                                                    0,
                                                    "#8e0152"
                                                ],
                                                [
                                                    0.1,
                                                    "#c51b7d"
                                                ],
                                                [
                                                    0.2,
                                                    "#de77ae"
                                                ],
                                                [
                                                    0.3,
                                                    "#f1b6da"
                                                ],
                                                [
                                                    0.4,
                                                    "#fde0ef"
                                                ],
                                                [
                                                    0.5,
                                                    "#f7f7f7"
                                                ],
                                                [
                                                    0.6,
                                                    "#e6f5d0"
                                                ],
                                                [
                                                    0.7,
                                                    "#b8e186"
                                                ],
                                                [
                                                    0.8,
                                                    "#7fbc41"
                                                ],
                                                [
                                                    0.9,
                                                    "#4d9221"
                                                ],
                                                [
                                                    1,
                                                    "#276419"
                                                ]
                                            ]
                                        },
                                        "xaxis": {
                                            "gridcolor": "white",
                                            "linecolor": "white",
                                            "ticks": "",
                                            "title": {
                                                "standoff": 15
                                            },
                                            "zerolinecolor": "white",
                                            "automargin": true,
                                            "zerolinewidth": 2
                                        },
                                        "yaxis": {
                                            "gridcolor": "white",
                                            "linecolor": "white",
                                            "ticks": "",
                                            "title": {
                                                "standoff": 15
                                            },
                                            "zerolinecolor": "white",
                                            "automargin": true,
                                            "zerolinewidth": 2
                                        },
                                        "scene": {
                                            "xaxis": {
                                                "backgroundcolor": "#E5ECF6",
                                                "gridcolor": "white",
                                                "linecolor": "white",
                                                "showbackground": true,
                                                "ticks": "",
                                                "zerolinecolor": "white",
                                                "gridwidth": 2
                                            },
                                            "yaxis": {
                                                "backgroundcolor": "#E5ECF6",
                                                "gridcolor": "white",
                                                "linecolor": "white",
                                                "showbackground": true,
                                                "ticks": "",
                                                "zerolinecolor": "white",
                                                "gridwidth": 2
                                            },
                                            "zaxis": {
                                                "backgroundcolor": "#E5ECF6",
                                                "gridcolor": "white",
                                                "linecolor": "white",
                                                "showbackground": true,
                                                "ticks": "",
                                                "zerolinecolor": "white",
                                                "gridwidth": 2
                                            }
                                        },
                                        "shapedefaults": {
                                            "line": {
                                                "color": "#2a3f5f"
                                            }
                                        },
                                        "annotationdefaults": {
                                            "arrowcolor": "#2a3f5f",
                                            "arrowhead": 0,
                                            "arrowwidth": 1
                                        },
                                        "geo": {
                                            "bgcolor": "white",
                                            "landcolor": "#E5ECF6",
                                            "subunitcolor": "white",
                                            "showland": true,
                                            "showlakes": true,
                                            "lakecolor": "white"
                                        },
                                        "title": {
                                            "x": 0.05
                                        },
                                        "mapbox": {
                                            "style": "light"
                                        }
                                    }
                                },
                                "title": {
                                    "text": "Monthly Revenue by Year and Month"
                                },
                                "xaxis": {
                                    "title": {
                                        "text": "Month"
                                    }
                                },
                                "yaxis": {
                                    "title": {
                                        "text": "Revenue"
                                    }
                                },
                                "width": 700,
                                "height": 600
                            },
                            "config": {
                                "plotlyServerURL": "https://plot.ly"
                            }
                        }
                    },
                    "metadata": {}
                }
            ],
            "execution_count": 10
        },
        {
            "cell_type": "markdown",
            "source": [
                "**Monthly BreakDown (Part as whole)**"
            ],
            "metadata": {
                "azdata_cell_guid": "902e6ae1-d15e-4b3b-b770-2b129ac8300c"
            },
            "attachments": {}
        },
        {
            "cell_type": "code",
            "source": [
                "import plotly.express as px\r\n",
                "\r\n",
                "# Filter for specific years\r\n",
                "years = [2011, 2012, 2013]\r\n",
                "df_tsa_filtered = df_tsa[df_tsa['CalendarYear'].isin(years)]\r\n",
                "\r\n",
                "# Defining the order of months\r\n",
                "month_order = ['January', 'February', 'March', 'April', 'May', 'June', 'July', 'August', 'September', 'October', 'November', 'December']\r\n",
                "\r\n",
                "# Converting the 'MonthName' column to a categorical data type with specified order\r\n",
                "df_tsa_filtered['MonthName'] = pd.Categorical(df_tsa_filtered['MonthName'], categories=month_order, ordered=True)\r\n",
                "\r\n",
                "# Sorting the DataFrame based on the categorical 'MonthName' column\r\n",
                "df_tsa_filtered = df_tsa_filtered.sort_values('MonthName')\r\n",
                "\r\n",
                "# Prompt the user to select a number\r\n",
                "print(\"Please select a number:\")\r\n",
                "print(\"1. Revenue\")\r\n",
                "print(\"2. Profit\")\r\n",
                "print(\"3. AVG Profit Margin\")\r\n",
                "print(\"4. Monthly Revenue Percentage\")\r\n",
                "\r\n",
                "# Get user input for the selected number\r\n",
                "selected_number = int(input(\"Enter the number corresponding to your choice: \"))\r\n",
                "\r\n",
                "# Map the selected number to the actual value\r\n",
                "value_mapping = {\r\n",
                "    1: 'Revenue',\r\n",
                "    2: 'Profit',\r\n",
                "    3: 'AVGProfitMargin',\r\n",
                "    4: 'MonthlyRevenuePercentage'\r\n",
                "}\r\n",
                "selected_value = value_mapping.get(selected_number)\r\n",
                "\r\n",
                "if selected_value not in df_tsa.columns:\r\n",
                "    print(\"Invalid value selected. Please choose from the provided options.\")\r\n",
                "else:\r\n",
                "    # Calculate the percentage dynamically based on the selected value\r\n",
                "    df_tsa_filtered['Percentage'] = df_tsa_filtered[selected_value] / df_tsa_filtered[selected_value].sum() * 100\r\n",
                "\r\n",
                "    # Create the sunburst chart with the selected value\r\n",
                "    fig = px.sunburst(df_tsa_filtered, path=['CalendarYear', 'CalendarQuarter', 'MonthName'], values=selected_value, \r\n",
                "                      custom_data=['Percentage'], title=f'Part of whole of {selected_value} for Years 2011, 2012, 2013')\r\n",
                "\r\n",
                "    fig.update_traces(textinfo='label+percent entry', insidetextorientation='radial')\r\n",
                "\r\n",
                "    # Create the update menu\r\n",
                "    fig.update_layout(\r\n",
                "        updatemenus=[\r\n",
                "            {\r\n",
                "                'buttons': [\r\n",
                "                    {'method': 'update', \r\n",
                "                     'label': 'Revenue', \r\n",
                "                     'args': [{'values': [df_tsa_filtered['Revenue']]}]},\r\n",
                "                    {'method': 'update', \r\n",
                "                     'label': 'Profit', \r\n",
                "                     'args': [{'values': [df_tsa_filtered['Profit']]}]},\r\n",
                "                    {'method': 'update', \r\n",
                "                     'label': 'AVG_ProfitMargin', \r\n",
                "                     'args': [{'values': [df_tsa_filtered['AVGProfitMargin']]}]},\r\n",
                "                    {'method': 'update', \r\n",
                "                     'label': 'Monthly_Revenue_Percentage', \r\n",
                "                     'args': [{'values': [df_tsa_filtered['MonthlyRevenuePercentage'], df_tsa_filtered['Percentage']]}]},\r\n",
                "                ],\r\n",
                "                'direction': 'down',\r\n",
                "                'showactive': True,\r\n",
                "            }\r\n",
                "        ]\r\n",
                "    )\r\n",
                "\r\n",
                "    fig.update_layout(margin=dict(l=0, r=0, t=0, b=0), width=700, height=700)\r\n",
                "    fig.show()\r\n",
                ""
            ],
            "metadata": {
                "azdata_cell_guid": "5b216a0a-d1e5-42d6-a454-125708a3252d",
                "tags": [
                    "hide_input"
                ]
            },
            "outputs": [
                {
                    "output_type": "stream",
                    "name": "stdout",
                    "text": "Please select a number:\n1. Revenue\n2. Profit\n3. AVG Profit Margin\n4. Monthly Revenue Percentage\n"
                },
                {
                    "output_type": "display_data",
                    "data": {
                        "application/vnd.plotly.v1+json": {
                            "data": [
                                {
                                    "branchvalues": "total",
                                    "customdata": [
                                        [
                                            1.6051621250733221
                                        ],
                                        [
                                            1.6924207310184478
                                        ],
                                        [
                                            2.9303134966546116
                                        ],
                                        [
                                            null
                                        ],
                                        [
                                            null
                                        ],
                                        [
                                            null
                                        ],
                                        [
                                            null
                                        ],
                                        [
                                            null
                                        ],
                                        [
                                            null
                                        ],
                                        [
                                            null
                                        ],
                                        [
                                            null
                                        ],
                                        [
                                            null
                                        ],
                                        [
                                            1.593241851500875
                                        ],
                                        [
                                            1.732155051992765
                                        ],
                                        [
                                            2.6353272868157314
                                        ],
                                        [
                                            null
                                        ],
                                        [
                                            null
                                        ],
                                        [
                                            null
                                        ],
                                        [
                                            null
                                        ],
                                        [
                                            null
                                        ],
                                        [
                                            null
                                        ],
                                        [
                                            null
                                        ],
                                        [
                                            null
                                        ],
                                        [
                                            null
                                        ],
                                        [
                                            1.657690225361919
                                        ],
                                        [
                                            1.2760116199743414
                                        ],
                                        [
                                            3.587028084724019
                                        ],
                                        [
                                            null
                                        ],
                                        [
                                            null
                                        ],
                                        [
                                            null
                                        ],
                                        [
                                            null
                                        ],
                                        [
                                            null
                                        ],
                                        [
                                            null
                                        ],
                                        [
                                            null
                                        ],
                                        [
                                            null
                                        ],
                                        [
                                            null
                                        ],
                                        [
                                            null
                                        ],
                                        [
                                            null
                                        ],
                                        [
                                            null
                                        ],
                                        [
                                            1.7153446129091414
                                        ],
                                        [
                                            1.3677540573619056
                                        ],
                                        [
                                            3.5737562083935934
                                        ],
                                        [
                                            null
                                        ],
                                        [
                                            null
                                        ],
                                        [
                                            null
                                        ],
                                        [
                                            null
                                        ],
                                        [
                                            null
                                        ],
                                        [
                                            null
                                        ],
                                        [
                                            null
                                        ],
                                        [
                                            null
                                        ],
                                        [
                                            null
                                        ],
                                        [
                                            1.9189951871505875
                                        ],
                                        [
                                            1.2261129745237977
                                        ],
                                        [
                                            4.388835588011164
                                        ],
                                        [
                                            null
                                        ],
                                        [
                                            null
                                        ],
                                        [
                                            null
                                        ],
                                        [
                                            null
                                        ],
                                        [
                                            null
                                        ],
                                        [
                                            null
                                        ],
                                        [
                                            null
                                        ],
                                        [
                                            null
                                        ],
                                        [
                                            null
                                        ],
                                        [
                                            2.520843444477093
                                        ],
                                        [
                                            1.8967149319169925
                                        ],
                                        [
                                            5.613947383544435
                                        ],
                                        [
                                            null
                                        ],
                                        [
                                            null
                                        ],
                                        [
                                            null
                                        ],
                                        [
                                            null
                                        ],
                                        [
                                            null
                                        ],
                                        [
                                            null
                                        ],
                                        [
                                            null
                                        ],
                                        [
                                            null
                                        ],
                                        [
                                            null
                                        ],
                                        [
                                            null
                                        ],
                                        [
                                            null
                                        ],
                                        [
                                            null
                                        ],
                                        [
                                            2.0387956872119526
                                        ],
                                        [
                                            1.5188414375194053
                                        ],
                                        [
                                            4.68635586383154
                                        ],
                                        [
                                            null
                                        ],
                                        [
                                            null
                                        ],
                                        [
                                            null
                                        ],
                                        [
                                            null
                                        ],
                                        [
                                            null
                                        ],
                                        [
                                            null
                                        ],
                                        [
                                            null
                                        ],
                                        [
                                            null
                                        ],
                                        [
                                            null
                                        ],
                                        [
                                            2.099648591420048
                                        ],
                                        [
                                            1.7899734580547801
                                        ],
                                        [
                                            5.299244274267076
                                        ],
                                        [
                                            null
                                        ],
                                        [
                                            null
                                        ],
                                        [
                                            null
                                        ],
                                        [
                                            null
                                        ],
                                        [
                                            null
                                        ],
                                        [
                                            null
                                        ],
                                        [
                                            null
                                        ],
                                        [
                                            null
                                        ],
                                        [
                                            null
                                        ],
                                        [
                                            2.060445963071839
                                        ],
                                        [
                                            1.6610342822969495
                                        ],
                                        [
                                            4.945395891105189
                                        ],
                                        [
                                            null
                                        ],
                                        [
                                            null
                                        ],
                                        [
                                            null
                                        ],
                                        [
                                            null
                                        ],
                                        [
                                            null
                                        ],
                                        [
                                            null
                                        ],
                                        [
                                            null
                                        ],
                                        [
                                            null
                                        ],
                                        [
                                            null
                                        ],
                                        [
                                            null
                                        ],
                                        [
                                            null
                                        ],
                                        [
                                            null
                                        ],
                                        [
                                            2.4196057876159136
                                        ],
                                        [
                                            1.8283823119548015
                                        ],
                                        [
                                            5.716837992400095
                                        ],
                                        [
                                            null
                                        ],
                                        [
                                            null
                                        ],
                                        [
                                            null
                                        ],
                                        [
                                            null
                                        ],
                                        [
                                            null
                                        ],
                                        [
                                            null
                                        ],
                                        [
                                            null
                                        ],
                                        [
                                            null
                                        ],
                                        [
                                            null
                                        ],
                                        [
                                            2.256767030847612
                                        ],
                                        [
                                            1.8379350085451152
                                        ],
                                        [
                                            6.084546439727781
                                        ],
                                        [
                                            null
                                        ],
                                        [
                                            null
                                        ],
                                        [
                                            null
                                        ],
                                        [
                                            null
                                        ],
                                        [
                                            null
                                        ],
                                        [
                                            null
                                        ],
                                        [
                                            null
                                        ],
                                        [
                                            null
                                        ],
                                        [
                                            null
                                        ],
                                        [
                                            2.287125155313665
                                        ],
                                        [
                                            2.133623243592848
                                        ],
                                        [
                                            6.4037867198186476
                                        ],
                                        [
                                            "(?)"
                                        ],
                                        [
                                            "(?)"
                                        ],
                                        [
                                            "(?)"
                                        ],
                                        [
                                            "(?)"
                                        ],
                                        [
                                            "(?)"
                                        ],
                                        [
                                            "(?)"
                                        ],
                                        [
                                            "(?)"
                                        ],
                                        [
                                            "(?)"
                                        ],
                                        [
                                            "(?)"
                                        ],
                                        [
                                            "(?)"
                                        ],
                                        [
                                            "(?)"
                                        ],
                                        [
                                            "(?)"
                                        ],
                                        [
                                            "(?)"
                                        ],
                                        [
                                            "(?)"
                                        ],
                                        [
                                            "(?)"
                                        ]
                                    ],
                                    "domain": {
                                        "x": [
                                            0,
                                            1
                                        ],
                                        "y": [
                                            0,
                                            1
                                        ]
                                    },
                                    "hovertemplate": "labels=%{label}<br>Revenue=%{value}<br>parent=%{parent}<br>id=%{id}<extra></extra>",
                                    "ids": [
                                        "2011/1/January",
                                        "2012/1/January",
                                        "2013/1/January",
                                        "2011/2/January",
                                        "2012/2/January",
                                        "2013/2/January",
                                        "2011/3/January",
                                        "2012/3/January",
                                        "2013/3/January",
                                        "2011/4/January",
                                        "2012/4/January",
                                        "2013/4/January",
                                        "2011/1/February",
                                        "2012/1/February",
                                        "2013/1/February",
                                        "2011/2/February",
                                        "2012/2/February",
                                        "2013/2/February",
                                        "2011/3/February",
                                        "2012/3/February",
                                        "2013/3/February",
                                        "2011/4/February",
                                        "2012/4/February",
                                        "2013/4/February",
                                        "2011/1/March",
                                        "2012/1/March",
                                        "2013/1/March",
                                        "2011/2/March",
                                        "2012/2/March",
                                        "2013/2/March",
                                        "2011/3/March",
                                        "2012/3/March",
                                        "2013/3/March",
                                        "2011/4/March",
                                        "2012/4/March",
                                        "2013/4/March",
                                        "2011/1/April",
                                        "2012/1/April",
                                        "2013/1/April",
                                        "2011/2/April",
                                        "2012/2/April",
                                        "2013/2/April",
                                        "2011/3/April",
                                        "2012/3/April",
                                        "2013/3/April",
                                        "2011/4/April",
                                        "2012/4/April",
                                        "2013/4/April",
                                        "2011/1/May",
                                        "2012/1/May",
                                        "2013/1/May",
                                        "2011/2/May",
                                        "2012/2/May",
                                        "2013/2/May",
                                        "2011/3/May",
                                        "2012/3/May",
                                        "2013/3/May",
                                        "2011/4/May",
                                        "2012/4/May",
                                        "2013/4/May",
                                        "2011/1/June",
                                        "2012/1/June",
                                        "2013/1/June",
                                        "2011/2/June",
                                        "2012/2/June",
                                        "2013/2/June",
                                        "2011/3/June",
                                        "2012/3/June",
                                        "2013/3/June",
                                        "2011/4/June",
                                        "2012/4/June",
                                        "2013/4/June",
                                        "2011/1/July",
                                        "2012/1/July",
                                        "2013/1/July",
                                        "2011/2/July",
                                        "2012/2/July",
                                        "2013/2/July",
                                        "2011/3/July",
                                        "2012/3/July",
                                        "2013/3/July",
                                        "2011/4/July",
                                        "2012/4/July",
                                        "2013/4/July",
                                        "2011/1/August",
                                        "2012/1/August",
                                        "2013/1/August",
                                        "2011/2/August",
                                        "2012/2/August",
                                        "2013/2/August",
                                        "2011/3/August",
                                        "2012/3/August",
                                        "2013/3/August",
                                        "2011/4/August",
                                        "2012/4/August",
                                        "2013/4/August",
                                        "2011/1/September",
                                        "2012/1/September",
                                        "2013/1/September",
                                        "2011/2/September",
                                        "2012/2/September",
                                        "2013/2/September",
                                        "2011/3/September",
                                        "2012/3/September",
                                        "2013/3/September",
                                        "2011/4/September",
                                        "2012/4/September",
                                        "2013/4/September",
                                        "2011/1/October",
                                        "2012/1/October",
                                        "2013/1/October",
                                        "2011/2/October",
                                        "2012/2/October",
                                        "2013/2/October",
                                        "2011/3/October",
                                        "2012/3/October",
                                        "2013/3/October",
                                        "2011/4/October",
                                        "2012/4/October",
                                        "2013/4/October",
                                        "2011/1/November",
                                        "2012/1/November",
                                        "2013/1/November",
                                        "2011/2/November",
                                        "2012/2/November",
                                        "2013/2/November",
                                        "2011/3/November",
                                        "2012/3/November",
                                        "2013/3/November",
                                        "2011/4/November",
                                        "2012/4/November",
                                        "2013/4/November",
                                        "2011/1/December",
                                        "2012/1/December",
                                        "2013/1/December",
                                        "2011/2/December",
                                        "2012/2/December",
                                        "2013/2/December",
                                        "2011/3/December",
                                        "2012/3/December",
                                        "2013/3/December",
                                        "2011/4/December",
                                        "2012/4/December",
                                        "2013/4/December",
                                        "2011/1",
                                        "2012/1",
                                        "2013/1",
                                        "2011/2",
                                        "2012/2",
                                        "2013/2",
                                        "2011/3",
                                        "2012/3",
                                        "2013/3",
                                        "2011/4",
                                        "2012/4",
                                        "2013/4",
                                        "2011",
                                        "2012",
                                        "2013"
                                    ],
                                    "labels": [
                                        "January",
                                        "January",
                                        "January",
                                        "January",
                                        "January",
                                        "January",
                                        "January",
                                        "January",
                                        "January",
                                        "January",
                                        "January",
                                        "January",
                                        "February",
                                        "February",
                                        "February",
                                        "February",
                                        "February",
                                        "February",
                                        "February",
                                        "February",
                                        "February",
                                        "February",
                                        "February",
                                        "February",
                                        "March",
                                        "March",
                                        "March",
                                        "March",
                                        "March",
                                        "March",
                                        "March",
                                        "March",
                                        "March",
                                        "March",
                                        "March",
                                        "March",
                                        "April",
                                        "April",
                                        "April",
                                        "April",
                                        "April",
                                        "April",
                                        "April",
                                        "April",
                                        "April",
                                        "April",
                                        "April",
                                        "April",
                                        "May",
                                        "May",
                                        "May",
                                        "May",
                                        "May",
                                        "May",
                                        "May",
                                        "May",
                                        "May",
                                        "May",
                                        "May",
                                        "May",
                                        "June",
                                        "June",
                                        "June",
                                        "June",
                                        "June",
                                        "June",
                                        "June",
                                        "June",
                                        "June",
                                        "June",
                                        "June",
                                        "June",
                                        "July",
                                        "July",
                                        "July",
                                        "July",
                                        "July",
                                        "July",
                                        "July",
                                        "July",
                                        "July",
                                        "July",
                                        "July",
                                        "July",
                                        "August",
                                        "August",
                                        "August",
                                        "August",
                                        "August",
                                        "August",
                                        "August",
                                        "August",
                                        "August",
                                        "August",
                                        "August",
                                        "August",
                                        "September",
                                        "September",
                                        "September",
                                        "September",
                                        "September",
                                        "September",
                                        "September",
                                        "September",
                                        "September",
                                        "September",
                                        "September",
                                        "September",
                                        "October",
                                        "October",
                                        "October",
                                        "October",
                                        "October",
                                        "October",
                                        "October",
                                        "October",
                                        "October",
                                        "October",
                                        "October",
                                        "October",
                                        "November",
                                        "November",
                                        "November",
                                        "November",
                                        "November",
                                        "November",
                                        "November",
                                        "November",
                                        "November",
                                        "November",
                                        "November",
                                        "November",
                                        "December",
                                        "December",
                                        "December",
                                        "December",
                                        "December",
                                        "December",
                                        "December",
                                        "December",
                                        "December",
                                        "December",
                                        "December",
                                        "December",
                                        "1",
                                        "1",
                                        "1",
                                        "2",
                                        "2",
                                        "2",
                                        "3",
                                        "3",
                                        "3",
                                        "4",
                                        "4",
                                        "4",
                                        "2011",
                                        "2012",
                                        "2013"
                                    ],
                                    "name": "",
                                    "parents": [
                                        "2011/1",
                                        "2012/1",
                                        "2013/1",
                                        "2011/2",
                                        "2012/2",
                                        "2013/2",
                                        "2011/3",
                                        "2012/3",
                                        "2013/3",
                                        "2011/4",
                                        "2012/4",
                                        "2013/4",
                                        "2011/1",
                                        "2012/1",
                                        "2013/1",
                                        "2011/2",
                                        "2012/2",
                                        "2013/2",
                                        "2011/3",
                                        "2012/3",
                                        "2013/3",
                                        "2011/4",
                                        "2012/4",
                                        "2013/4",
                                        "2011/1",
                                        "2012/1",
                                        "2013/1",
                                        "2011/2",
                                        "2012/2",
                                        "2013/2",
                                        "2011/3",
                                        "2012/3",
                                        "2013/3",
                                        "2011/4",
                                        "2012/4",
                                        "2013/4",
                                        "2011/1",
                                        "2012/1",
                                        "2013/1",
                                        "2011/2",
                                        "2012/2",
                                        "2013/2",
                                        "2011/3",
                                        "2012/3",
                                        "2013/3",
                                        "2011/4",
                                        "2012/4",
                                        "2013/4",
                                        "2011/1",
                                        "2012/1",
                                        "2013/1",
                                        "2011/2",
                                        "2012/2",
                                        "2013/2",
                                        "2011/3",
                                        "2012/3",
                                        "2013/3",
                                        "2011/4",
                                        "2012/4",
                                        "2013/4",
                                        "2011/1",
                                        "2012/1",
                                        "2013/1",
                                        "2011/2",
                                        "2012/2",
                                        "2013/2",
                                        "2011/3",
                                        "2012/3",
                                        "2013/3",
                                        "2011/4",
                                        "2012/4",
                                        "2013/4",
                                        "2011/1",
                                        "2012/1",
                                        "2013/1",
                                        "2011/2",
                                        "2012/2",
                                        "2013/2",
                                        "2011/3",
                                        "2012/3",
                                        "2013/3",
                                        "2011/4",
                                        "2012/4",
                                        "2013/4",
                                        "2011/1",
                                        "2012/1",
                                        "2013/1",
                                        "2011/2",
                                        "2012/2",
                                        "2013/2",
                                        "2011/3",
                                        "2012/3",
                                        "2013/3",
                                        "2011/4",
                                        "2012/4",
                                        "2013/4",
                                        "2011/1",
                                        "2012/1",
                                        "2013/1",
                                        "2011/2",
                                        "2012/2",
                                        "2013/2",
                                        "2011/3",
                                        "2012/3",
                                        "2013/3",
                                        "2011/4",
                                        "2012/4",
                                        "2013/4",
                                        "2011/1",
                                        "2012/1",
                                        "2013/1",
                                        "2011/2",
                                        "2012/2",
                                        "2013/2",
                                        "2011/3",
                                        "2012/3",
                                        "2013/3",
                                        "2011/4",
                                        "2012/4",
                                        "2013/4",
                                        "2011/1",
                                        "2012/1",
                                        "2013/1",
                                        "2011/2",
                                        "2012/2",
                                        "2013/2",
                                        "2011/3",
                                        "2012/3",
                                        "2013/3",
                                        "2011/4",
                                        "2012/4",
                                        "2013/4",
                                        "2011/1",
                                        "2012/1",
                                        "2013/1",
                                        "2011/2",
                                        "2012/2",
                                        "2013/2",
                                        "2011/3",
                                        "2012/3",
                                        "2013/3",
                                        "2011/4",
                                        "2012/4",
                                        "2013/4",
                                        "2011",
                                        "2012",
                                        "2013",
                                        "2011",
                                        "2012",
                                        "2013",
                                        "2011",
                                        "2012",
                                        "2013",
                                        "2011",
                                        "2012",
                                        "2013",
                                        "",
                                        "",
                                        ""
                                    ],
                                    "values": [
                                        469823.9148,
                                        495364.1261,
                                        857689.91,
                                        0,
                                        0,
                                        0,
                                        0,
                                        0,
                                        0,
                                        0,
                                        0,
                                        0,
                                        466334.903,
                                        506994.1876,
                                        771348.74,
                                        0,
                                        0,
                                        0,
                                        0,
                                        0,
                                        0,
                                        0,
                                        0,
                                        0,
                                        485198.6594,
                                        373483.0054,
                                        1049907.39,
                                        0,
                                        0,
                                        0,
                                        0,
                                        0,
                                        0,
                                        0,
                                        0,
                                        0,
                                        0,
                                        0,
                                        0,
                                        502073.8458,
                                        400335.6145,
                                        1046022.77,
                                        0,
                                        0,
                                        0,
                                        0,
                                        0,
                                        0,
                                        0,
                                        0,
                                        0,
                                        561681.4758,
                                        358877.8907,
                                        1284592.93,
                                        0,
                                        0,
                                        0,
                                        0,
                                        0,
                                        0,
                                        0,
                                        0,
                                        0,
                                        737839.8214,
                                        555160.1428,
                                        1643177.78,
                                        0,
                                        0,
                                        0,
                                        0,
                                        0,
                                        0,
                                        0,
                                        0,
                                        0,
                                        0,
                                        0,
                                        0,
                                        596746.5568,
                                        444558.2281,
                                        1371675.81,
                                        0,
                                        0,
                                        0,
                                        0,
                                        0,
                                        0,
                                        0,
                                        0,
                                        0,
                                        614557.935,
                                        523917.3815,
                                        1551065.56,
                                        0,
                                        0,
                                        0,
                                        0,
                                        0,
                                        0,
                                        0,
                                        0,
                                        0,
                                        603083.4976,
                                        486177.4502,
                                        1447495.69,
                                        0,
                                        0,
                                        0,
                                        0,
                                        0,
                                        0,
                                        0,
                                        0,
                                        0,
                                        0,
                                        0,
                                        0,
                                        708208.0032,
                                        535159.4846,
                                        1673293.41,
                                        0,
                                        0,
                                        0,
                                        0,
                                        0,
                                        0,
                                        0,
                                        0,
                                        0,
                                        660545.8132,
                                        537955.517,
                                        1780920.06,
                                        0,
                                        0,
                                        0,
                                        0,
                                        0,
                                        0,
                                        0,
                                        0,
                                        0,
                                        669431.5031,
                                        624502.1667,
                                        1874360.29,
                                        1421357.4772,
                                        1375841.3191,
                                        2678946.04,
                                        1801595.1430000002,
                                        1314373.648,
                                        3973793.48,
                                        1814387.9894,
                                        1454653.0598,
                                        4370237.0600000005,
                                        2038185.3195,
                                        1697617.1683,
                                        5328573.76,
                                        7075525.9291,
                                        5842485.1952,
                                        16351550.34
                                    ],
                                    "type": "sunburst",
                                    "insidetextorientation": "radial",
                                    "textinfo": "label+percent entry"
                                }
                            ],
                            "layout": {
                                "template": {
                                    "data": {
                                        "histogram2dcontour": [
                                            {
                                                "type": "histogram2dcontour",
                                                "colorbar": {
                                                    "outlinewidth": 0,
                                                    "ticks": ""
                                                },
                                                "colorscale": [
                                                    [
                                                        0,
                                                        "#0d0887"
                                                    ],
                                                    [
                                                        0.1111111111111111,
                                                        "#46039f"
                                                    ],
                                                    [
                                                        0.2222222222222222,
                                                        "#7201a8"
                                                    ],
                                                    [
                                                        0.3333333333333333,
                                                        "#9c179e"
                                                    ],
                                                    [
                                                        0.4444444444444444,
                                                        "#bd3786"
                                                    ],
                                                    [
                                                        0.5555555555555556,
                                                        "#d8576b"
                                                    ],
                                                    [
                                                        0.6666666666666666,
                                                        "#ed7953"
                                                    ],
                                                    [
                                                        0.7777777777777778,
                                                        "#fb9f3a"
                                                    ],
                                                    [
                                                        0.8888888888888888,
                                                        "#fdca26"
                                                    ],
                                                    [
                                                        1,
                                                        "#f0f921"
                                                    ]
                                                ]
                                            }
                                        ],
                                        "choropleth": [
                                            {
                                                "type": "choropleth",
                                                "colorbar": {
                                                    "outlinewidth": 0,
                                                    "ticks": ""
                                                }
                                            }
                                        ],
                                        "histogram2d": [
                                            {
                                                "type": "histogram2d",
                                                "colorbar": {
                                                    "outlinewidth": 0,
                                                    "ticks": ""
                                                },
                                                "colorscale": [
                                                    [
                                                        0,
                                                        "#0d0887"
                                                    ],
                                                    [
                                                        0.1111111111111111,
                                                        "#46039f"
                                                    ],
                                                    [
                                                        0.2222222222222222,
                                                        "#7201a8"
                                                    ],
                                                    [
                                                        0.3333333333333333,
                                                        "#9c179e"
                                                    ],
                                                    [
                                                        0.4444444444444444,
                                                        "#bd3786"
                                                    ],
                                                    [
                                                        0.5555555555555556,
                                                        "#d8576b"
                                                    ],
                                                    [
                                                        0.6666666666666666,
                                                        "#ed7953"
                                                    ],
                                                    [
                                                        0.7777777777777778,
                                                        "#fb9f3a"
                                                    ],
                                                    [
                                                        0.8888888888888888,
                                                        "#fdca26"
                                                    ],
                                                    [
                                                        1,
                                                        "#f0f921"
                                                    ]
                                                ]
                                            }
                                        ],
                                        "heatmap": [
                                            {
                                                "type": "heatmap",
                                                "colorbar": {
                                                    "outlinewidth": 0,
                                                    "ticks": ""
                                                },
                                                "colorscale": [
                                                    [
                                                        0,
                                                        "#0d0887"
                                                    ],
                                                    [
                                                        0.1111111111111111,
                                                        "#46039f"
                                                    ],
                                                    [
                                                        0.2222222222222222,
                                                        "#7201a8"
                                                    ],
                                                    [
                                                        0.3333333333333333,
                                                        "#9c179e"
                                                    ],
                                                    [
                                                        0.4444444444444444,
                                                        "#bd3786"
                                                    ],
                                                    [
                                                        0.5555555555555556,
                                                        "#d8576b"
                                                    ],
                                                    [
                                                        0.6666666666666666,
                                                        "#ed7953"
                                                    ],
                                                    [
                                                        0.7777777777777778,
                                                        "#fb9f3a"
                                                    ],
                                                    [
                                                        0.8888888888888888,
                                                        "#fdca26"
                                                    ],
                                                    [
                                                        1,
                                                        "#f0f921"
                                                    ]
                                                ]
                                            }
                                        ],
                                        "heatmapgl": [
                                            {
                                                "type": "heatmapgl",
                                                "colorbar": {
                                                    "outlinewidth": 0,
                                                    "ticks": ""
                                                },
                                                "colorscale": [
                                                    [
                                                        0,
                                                        "#0d0887"
                                                    ],
                                                    [
                                                        0.1111111111111111,
                                                        "#46039f"
                                                    ],
                                                    [
                                                        0.2222222222222222,
                                                        "#7201a8"
                                                    ],
                                                    [
                                                        0.3333333333333333,
                                                        "#9c179e"
                                                    ],
                                                    [
                                                        0.4444444444444444,
                                                        "#bd3786"
                                                    ],
                                                    [
                                                        0.5555555555555556,
                                                        "#d8576b"
                                                    ],
                                                    [
                                                        0.6666666666666666,
                                                        "#ed7953"
                                                    ],
                                                    [
                                                        0.7777777777777778,
                                                        "#fb9f3a"
                                                    ],
                                                    [
                                                        0.8888888888888888,
                                                        "#fdca26"
                                                    ],
                                                    [
                                                        1,
                                                        "#f0f921"
                                                    ]
                                                ]
                                            }
                                        ],
                                        "contourcarpet": [
                                            {
                                                "type": "contourcarpet",
                                                "colorbar": {
                                                    "outlinewidth": 0,
                                                    "ticks": ""
                                                }
                                            }
                                        ],
                                        "contour": [
                                            {
                                                "type": "contour",
                                                "colorbar": {
                                                    "outlinewidth": 0,
                                                    "ticks": ""
                                                },
                                                "colorscale": [
                                                    [
                                                        0,
                                                        "#0d0887"
                                                    ],
                                                    [
                                                        0.1111111111111111,
                                                        "#46039f"
                                                    ],
                                                    [
                                                        0.2222222222222222,
                                                        "#7201a8"
                                                    ],
                                                    [
                                                        0.3333333333333333,
                                                        "#9c179e"
                                                    ],
                                                    [
                                                        0.4444444444444444,
                                                        "#bd3786"
                                                    ],
                                                    [
                                                        0.5555555555555556,
                                                        "#d8576b"
                                                    ],
                                                    [
                                                        0.6666666666666666,
                                                        "#ed7953"
                                                    ],
                                                    [
                                                        0.7777777777777778,
                                                        "#fb9f3a"
                                                    ],
                                                    [
                                                        0.8888888888888888,
                                                        "#fdca26"
                                                    ],
                                                    [
                                                        1,
                                                        "#f0f921"
                                                    ]
                                                ]
                                            }
                                        ],
                                        "surface": [
                                            {
                                                "type": "surface",
                                                "colorbar": {
                                                    "outlinewidth": 0,
                                                    "ticks": ""
                                                },
                                                "colorscale": [
                                                    [
                                                        0,
                                                        "#0d0887"
                                                    ],
                                                    [
                                                        0.1111111111111111,
                                                        "#46039f"
                                                    ],
                                                    [
                                                        0.2222222222222222,
                                                        "#7201a8"
                                                    ],
                                                    [
                                                        0.3333333333333333,
                                                        "#9c179e"
                                                    ],
                                                    [
                                                        0.4444444444444444,
                                                        "#bd3786"
                                                    ],
                                                    [
                                                        0.5555555555555556,
                                                        "#d8576b"
                                                    ],
                                                    [
                                                        0.6666666666666666,
                                                        "#ed7953"
                                                    ],
                                                    [
                                                        0.7777777777777778,
                                                        "#fb9f3a"
                                                    ],
                                                    [
                                                        0.8888888888888888,
                                                        "#fdca26"
                                                    ],
                                                    [
                                                        1,
                                                        "#f0f921"
                                                    ]
                                                ]
                                            }
                                        ],
                                        "mesh3d": [
                                            {
                                                "type": "mesh3d",
                                                "colorbar": {
                                                    "outlinewidth": 0,
                                                    "ticks": ""
                                                }
                                            }
                                        ],
                                        "scatter": [
                                            {
                                                "fillpattern": {
                                                    "fillmode": "overlay",
                                                    "size": 10,
                                                    "solidity": 0.2
                                                },
                                                "type": "scatter"
                                            }
                                        ],
                                        "parcoords": [
                                            {
                                                "type": "parcoords",
                                                "line": {
                                                    "colorbar": {
                                                        "outlinewidth": 0,
                                                        "ticks": ""
                                                    }
                                                }
                                            }
                                        ],
                                        "scatterpolargl": [
                                            {
                                                "type": "scatterpolargl",
                                                "marker": {
                                                    "colorbar": {
                                                        "outlinewidth": 0,
                                                        "ticks": ""
                                                    }
                                                }
                                            }
                                        ],
                                        "bar": [
                                            {
                                                "error_x": {
                                                    "color": "#2a3f5f"
                                                },
                                                "error_y": {
                                                    "color": "#2a3f5f"
                                                },
                                                "marker": {
                                                    "line": {
                                                        "color": "#E5ECF6",
                                                        "width": 0.5
                                                    },
                                                    "pattern": {
                                                        "fillmode": "overlay",
                                                        "size": 10,
                                                        "solidity": 0.2
                                                    }
                                                },
                                                "type": "bar"
                                            }
                                        ],
                                        "scattergeo": [
                                            {
                                                "type": "scattergeo",
                                                "marker": {
                                                    "colorbar": {
                                                        "outlinewidth": 0,
                                                        "ticks": ""
                                                    }
                                                }
                                            }
                                        ],
                                        "scatterpolar": [
                                            {
                                                "type": "scatterpolar",
                                                "marker": {
                                                    "colorbar": {
                                                        "outlinewidth": 0,
                                                        "ticks": ""
                                                    }
                                                }
                                            }
                                        ],
                                        "histogram": [
                                            {
                                                "marker": {
                                                    "pattern": {
                                                        "fillmode": "overlay",
                                                        "size": 10,
                                                        "solidity": 0.2
                                                    }
                                                },
                                                "type": "histogram"
                                            }
                                        ],
                                        "scattergl": [
                                            {
                                                "type": "scattergl",
                                                "marker": {
                                                    "colorbar": {
                                                        "outlinewidth": 0,
                                                        "ticks": ""
                                                    }
                                                }
                                            }
                                        ],
                                        "scatter3d": [
                                            {
                                                "type": "scatter3d",
                                                "line": {
                                                    "colorbar": {
                                                        "outlinewidth": 0,
                                                        "ticks": ""
                                                    }
                                                },
                                                "marker": {
                                                    "colorbar": {
                                                        "outlinewidth": 0,
                                                        "ticks": ""
                                                    }
                                                }
                                            }
                                        ],
                                        "scattermapbox": [
                                            {
                                                "type": "scattermapbox",
                                                "marker": {
                                                    "colorbar": {
                                                        "outlinewidth": 0,
                                                        "ticks": ""
                                                    }
                                                }
                                            }
                                        ],
                                        "scatterternary": [
                                            {
                                                "type": "scatterternary",
                                                "marker": {
                                                    "colorbar": {
                                                        "outlinewidth": 0,
                                                        "ticks": ""
                                                    }
                                                }
                                            }
                                        ],
                                        "scattercarpet": [
                                            {
                                                "type": "scattercarpet",
                                                "marker": {
                                                    "colorbar": {
                                                        "outlinewidth": 0,
                                                        "ticks": ""
                                                    }
                                                }
                                            }
                                        ],
                                        "carpet": [
                                            {
                                                "aaxis": {
                                                    "endlinecolor": "#2a3f5f",
                                                    "gridcolor": "white",
                                                    "linecolor": "white",
                                                    "minorgridcolor": "white",
                                                    "startlinecolor": "#2a3f5f"
                                                },
                                                "baxis": {
                                                    "endlinecolor": "#2a3f5f",
                                                    "gridcolor": "white",
                                                    "linecolor": "white",
                                                    "minorgridcolor": "white",
                                                    "startlinecolor": "#2a3f5f"
                                                },
                                                "type": "carpet"
                                            }
                                        ],
                                        "table": [
                                            {
                                                "cells": {
                                                    "fill": {
                                                        "color": "#EBF0F8"
                                                    },
                                                    "line": {
                                                        "color": "white"
                                                    }
                                                },
                                                "header": {
                                                    "fill": {
                                                        "color": "#C8D4E3"
                                                    },
                                                    "line": {
                                                        "color": "white"
                                                    }
                                                },
                                                "type": "table"
                                            }
                                        ],
                                        "barpolar": [
                                            {
                                                "marker": {
                                                    "line": {
                                                        "color": "#E5ECF6",
                                                        "width": 0.5
                                                    },
                                                    "pattern": {
                                                        "fillmode": "overlay",
                                                        "size": 10,
                                                        "solidity": 0.2
                                                    }
                                                },
                                                "type": "barpolar"
                                            }
                                        ],
                                        "pie": [
                                            {
                                                "automargin": true,
                                                "type": "pie"
                                            }
                                        ]
                                    },
                                    "layout": {
                                        "autotypenumbers": "strict",
                                        "colorway": [
                                            "#636efa",
                                            "#EF553B",
                                            "#00cc96",
                                            "#ab63fa",
                                            "#FFA15A",
                                            "#19d3f3",
                                            "#FF6692",
                                            "#B6E880",
                                            "#FF97FF",
                                            "#FECB52"
                                        ],
                                        "font": {
                                            "color": "#2a3f5f"
                                        },
                                        "hovermode": "closest",
                                        "hoverlabel": {
                                            "align": "left"
                                        },
                                        "paper_bgcolor": "white",
                                        "plot_bgcolor": "#E5ECF6",
                                        "polar": {
                                            "bgcolor": "#E5ECF6",
                                            "angularaxis": {
                                                "gridcolor": "white",
                                                "linecolor": "white",
                                                "ticks": ""
                                            },
                                            "radialaxis": {
                                                "gridcolor": "white",
                                                "linecolor": "white",
                                                "ticks": ""
                                            }
                                        },
                                        "ternary": {
                                            "bgcolor": "#E5ECF6",
                                            "aaxis": {
                                                "gridcolor": "white",
                                                "linecolor": "white",
                                                "ticks": ""
                                            },
                                            "baxis": {
                                                "gridcolor": "white",
                                                "linecolor": "white",
                                                "ticks": ""
                                            },
                                            "caxis": {
                                                "gridcolor": "white",
                                                "linecolor": "white",
                                                "ticks": ""
                                            }
                                        },
                                        "coloraxis": {
                                            "colorbar": {
                                                "outlinewidth": 0,
                                                "ticks": ""
                                            }
                                        },
                                        "colorscale": {
                                            "sequential": [
                                                [
                                                    0,
                                                    "#0d0887"
                                                ],
                                                [
                                                    0.1111111111111111,
                                                    "#46039f"
                                                ],
                                                [
                                                    0.2222222222222222,
                                                    "#7201a8"
                                                ],
                                                [
                                                    0.3333333333333333,
                                                    "#9c179e"
                                                ],
                                                [
                                                    0.4444444444444444,
                                                    "#bd3786"
                                                ],
                                                [
                                                    0.5555555555555556,
                                                    "#d8576b"
                                                ],
                                                [
                                                    0.6666666666666666,
                                                    "#ed7953"
                                                ],
                                                [
                                                    0.7777777777777778,
                                                    "#fb9f3a"
                                                ],
                                                [
                                                    0.8888888888888888,
                                                    "#fdca26"
                                                ],
                                                [
                                                    1,
                                                    "#f0f921"
                                                ]
                                            ],
                                            "sequentialminus": [
                                                [
                                                    0,
                                                    "#0d0887"
                                                ],
                                                [
                                                    0.1111111111111111,
                                                    "#46039f"
                                                ],
                                                [
                                                    0.2222222222222222,
                                                    "#7201a8"
                                                ],
                                                [
                                                    0.3333333333333333,
                                                    "#9c179e"
                                                ],
                                                [
                                                    0.4444444444444444,
                                                    "#bd3786"
                                                ],
                                                [
                                                    0.5555555555555556,
                                                    "#d8576b"
                                                ],
                                                [
                                                    0.6666666666666666,
                                                    "#ed7953"
                                                ],
                                                [
                                                    0.7777777777777778,
                                                    "#fb9f3a"
                                                ],
                                                [
                                                    0.8888888888888888,
                                                    "#fdca26"
                                                ],
                                                [
                                                    1,
                                                    "#f0f921"
                                                ]
                                            ],
                                            "diverging": [
                                                [
                                                    0,
                                                    "#8e0152"
                                                ],
                                                [
                                                    0.1,
                                                    "#c51b7d"
                                                ],
                                                [
                                                    0.2,
                                                    "#de77ae"
                                                ],
                                                [
                                                    0.3,
                                                    "#f1b6da"
                                                ],
                                                [
                                                    0.4,
                                                    "#fde0ef"
                                                ],
                                                [
                                                    0.5,
                                                    "#f7f7f7"
                                                ],
                                                [
                                                    0.6,
                                                    "#e6f5d0"
                                                ],
                                                [
                                                    0.7,
                                                    "#b8e186"
                                                ],
                                                [
                                                    0.8,
                                                    "#7fbc41"
                                                ],
                                                [
                                                    0.9,
                                                    "#4d9221"
                                                ],
                                                [
                                                    1,
                                                    "#276419"
                                                ]
                                            ]
                                        },
                                        "xaxis": {
                                            "gridcolor": "white",
                                            "linecolor": "white",
                                            "ticks": "",
                                            "title": {
                                                "standoff": 15
                                            },
                                            "zerolinecolor": "white",
                                            "automargin": true,
                                            "zerolinewidth": 2
                                        },
                                        "yaxis": {
                                            "gridcolor": "white",
                                            "linecolor": "white",
                                            "ticks": "",
                                            "title": {
                                                "standoff": 15
                                            },
                                            "zerolinecolor": "white",
                                            "automargin": true,
                                            "zerolinewidth": 2
                                        },
                                        "scene": {
                                            "xaxis": {
                                                "backgroundcolor": "#E5ECF6",
                                                "gridcolor": "white",
                                                "linecolor": "white",
                                                "showbackground": true,
                                                "ticks": "",
                                                "zerolinecolor": "white",
                                                "gridwidth": 2
                                            },
                                            "yaxis": {
                                                "backgroundcolor": "#E5ECF6",
                                                "gridcolor": "white",
                                                "linecolor": "white",
                                                "showbackground": true,
                                                "ticks": "",
                                                "zerolinecolor": "white",
                                                "gridwidth": 2
                                            },
                                            "zaxis": {
                                                "backgroundcolor": "#E5ECF6",
                                                "gridcolor": "white",
                                                "linecolor": "white",
                                                "showbackground": true,
                                                "ticks": "",
                                                "zerolinecolor": "white",
                                                "gridwidth": 2
                                            }
                                        },
                                        "shapedefaults": {
                                            "line": {
                                                "color": "#2a3f5f"
                                            }
                                        },
                                        "annotationdefaults": {
                                            "arrowcolor": "#2a3f5f",
                                            "arrowhead": 0,
                                            "arrowwidth": 1
                                        },
                                        "geo": {
                                            "bgcolor": "white",
                                            "landcolor": "#E5ECF6",
                                            "subunitcolor": "white",
                                            "showland": true,
                                            "showlakes": true,
                                            "lakecolor": "white"
                                        },
                                        "title": {
                                            "x": 0.05
                                        },
                                        "mapbox": {
                                            "style": "light"
                                        }
                                    }
                                },
                                "legend": {
                                    "tracegroupgap": 0
                                },
                                "title": {
                                    "text": "Part of whole of Revenue for Years 2011, 2012, 2013"
                                },
                                "updatemenus": [
                                    {
                                        "buttons": [
                                            {
                                                "args": [
                                                    {
                                                        "values": [
                                                            [
                                                                469823.9148,
                                                                857689.91,
                                                                495364.1261,
                                                                466334.903,
                                                                771348.74,
                                                                506994.1876,
                                                                485198.6594,
                                                                1049907.39,
                                                                373483.0054,
                                                                502073.8458,
                                                                1046022.77,
                                                                400335.6145,
                                                                561681.4758,
                                                                1284592.93,
                                                                358877.8907,
                                                                1643177.78,
                                                                555160.1428,
                                                                737839.8214,
                                                                444558.2281,
                                                                1371675.81,
                                                                596746.5568,
                                                                523917.3815,
                                                                1551065.56,
                                                                614557.935,
                                                                603083.4976,
                                                                486177.4502,
                                                                1447495.69,
                                                                535159.4846,
                                                                1673293.41,
                                                                708208.0032,
                                                                1780920.06,
                                                                660545.8132,
                                                                537955.517,
                                                                624502.1667,
                                                                669431.5031,
                                                                1874360.29
                                                            ]
                                                        ]
                                                    }
                                                ],
                                                "label": "Revenue",
                                                "method": "update"
                                            },
                                            {
                                                "args": [
                                                    {
                                                        "values": [
                                                            [
                                                                139619.6564,
                                                                261369.3282,
                                                                147999.465,
                                                                139074.7381,
                                                                239850.7355,
                                                                152704.3914,
                                                                142131.3735,
                                                                327537.0521,
                                                                112668.6432,
                                                                148816.2389,
                                                                323943.7639,
                                                                123227.0718,
                                                                167052.9841,
                                                                396539.9289,
                                                                108604.9702,
                                                                504143.8907,
                                                                173848.1646,
                                                                218651.8273,
                                                                139677.6732,
                                                                424528.0068,
                                                                177662.5108,
                                                                164909.9462,
                                                                477926.7017,
                                                                180547.9739,
                                                                179572.2682,
                                                                152961.2464,
                                                                446241.9175,
                                                                169168.6444,
                                                                514474.6841,
                                                                210405.01,
                                                                552508.7624,
                                                                197571.194,
                                                                171131.8004,
                                                                197643.9176,
                                                                200027.6197,
                                                                579431.0356
                                                            ]
                                                        ]
                                                    }
                                                ],
                                                "label": "Profit",
                                                "method": "update"
                                            },
                                            {
                                                "args": [
                                                    {
                                                        "values": [
                                                            [
                                                                0.2979,
                                                                0.4154,
                                                                0.2977,
                                                                0.299,
                                                                0.4507,
                                                                0.3,
                                                                0.294,
                                                                0.4464,
                                                                0.298,
                                                                0.2973,
                                                                0.4481,
                                                                0.3044,
                                                                0.2982,
                                                                0.4441,
                                                                0.2986,
                                                                0.4362,
                                                                0.3079,
                                                                0.2973,
                                                                0.3098,
                                                                0.4413,
                                                                0.2986,
                                                                0.3098,
                                                                0.4383,
                                                                0.2949,
                                                                0.2985,
                                                                0.3101,
                                                                0.4379,
                                                                0.3096,
                                                                0.4388,
                                                                0.298,
                                                                0.4366,
                                                                0.2999,
                                                                0.3105,
                                                                0.3524,
                                                                0.2993,
                                                                0.4326
                                                            ]
                                                        ]
                                                    }
                                                ],
                                                "label": "AVG_ProfitMargin",
                                                "method": "update"
                                            },
                                            {
                                                "args": [
                                                    {
                                                        "values": [
                                                            [
                                                                6.64,
                                                                5.24,
                                                                8.47,
                                                                6.59,
                                                                4.71,
                                                                8.67,
                                                                6.85,
                                                                6.42,
                                                                6.39,
                                                                7.09,
                                                                6.39,
                                                                6.85,
                                                                7.93,
                                                                7.85,
                                                                6.14,
                                                                10.04,
                                                                9.5,
                                                                10.42,
                                                                7.6,
                                                                8.38,
                                                                8.43,
                                                                8.96,
                                                                9.48,
                                                                8.68,
                                                                8.52,
                                                                8.32,
                                                                8.85,
                                                                9.15,
                                                                10.23,
                                                                10,
                                                                10.89,
                                                                9.33,
                                                                9.2,
                                                                10.68,
                                                                9.46,
                                                                11.46
                                                            ],
                                                            [
                                                                1.6051621250733221,
                                                                2.9303134966546116,
                                                                1.6924207310184478,
                                                                1.593241851500875,
                                                                2.6353272868157314,
                                                                1.732155051992765,
                                                                1.657690225361919,
                                                                3.587028084724019,
                                                                1.2760116199743414,
                                                                1.7153446129091414,
                                                                3.5737562083935934,
                                                                1.3677540573619056,
                                                                1.9189951871505875,
                                                                4.388835588011164,
                                                                1.2261129745237977,
                                                                5.613947383544435,
                                                                1.8967149319169925,
                                                                2.520843444477093,
                                                                1.5188414375194053,
                                                                4.68635586383154,
                                                                2.0387956872119526,
                                                                1.7899734580547801,
                                                                5.299244274267076,
                                                                2.099648591420048,
                                                                2.060445963071839,
                                                                1.6610342822969495,
                                                                4.945395891105189,
                                                                1.8283823119548015,
                                                                5.716837992400095,
                                                                2.4196057876159136,
                                                                6.084546439727781,
                                                                2.256767030847612,
                                                                1.8379350085451152,
                                                                2.133623243592848,
                                                                2.287125155313665,
                                                                6.4037867198186476
                                                            ]
                                                        ]
                                                    }
                                                ],
                                                "label": "Monthly_Revenue_Percentage",
                                                "method": "update"
                                            }
                                        ],
                                        "direction": "down",
                                        "showactive": true
                                    }
                                ],
                                "margin": {
                                    "l": 0,
                                    "r": 0,
                                    "t": 0,
                                    "b": 0
                                },
                                "width": 700,
                                "height": 700
                            },
                            "config": {
                                "plotlyServerURL": "https://plot.ly"
                            }
                        }
                    },
                    "metadata": {}
                }
            ],
            "execution_count": 12
        },
        {
            "cell_type": "markdown",
            "source": [
                "**Monthly Revenue Breakdown (Comparison)**"
            ],
            "metadata": {
                "azdata_cell_guid": "81791b48-4d39-495a-b986-1ca9834b5575"
            },
            "attachments": {}
        },
        {
            "cell_type": "code",
            "source": [
                "import plotly.graph_objects as go\n",
                "from plotly.subplots import make_subplots\n",
                "\n",
                "# Prompt the user to select a number\n",
                "print(\"Please select a number:\")\n",
                "print(\"1. Revenue\")\n",
                "print(\"2. Profit\")\n",
                "print(\"3. AVGProfitMargin\")\n",
                "print(\"4. MonthlyRevenuePercentage\")\n",
                "print(\"5. RevenueChangePercentage\")\n",
                "print(\"6. ProfitChangePercentage\")\n",
                "\n",
                "# Get user input for the selected number\n",
                "selected_number = int(input(\"Enter the number corresponding to your choice: \"))\n",
                "\n",
                "# Map the selected number to the actual value\n",
                "value_mapping = {\n",
                "    1: 'Revenue',\n",
                "    2: 'Profit',\n",
                "    3: 'AVGProfitMargin',\n",
                "    4: 'MonthlyRevenuePercentage',\n",
                "    5: 'RevenueChangePercentage',\n",
                "    6: 'ProfitChangePercentage'\n",
                "}\n",
                "\n",
                "selected_value = value_mapping.get(selected_number)\n",
                "\n",
                "if selected_value is None:\n",
                "    print(\"Invalid value selected. Please choose from the provided options.\")\n",
                "else:\n",
                "    # Create subplots with larger height\n",
                "    fig = make_subplots(rows=3, cols=1, shared_xaxes=True, subplot_titles=('2011', '2012', '2013'))\n",
                "    years = [2011, 2012, 2013]\n",
                "    highlight_months = ['June', 'October', 'November', 'December']\n",
                "\n",
                "    for i, year in enumerate(years):\n",
                "        year_data = df_tsa[df_tsa['CalendarYear'] == year]\n",
                "        sorted_data_lowest = year_data.nsmallest(3, selected_value)\n",
                "        sorted_data_highest = year_data.nlargest(3, selected_value)\n",
                "        colors = ['rgba(100, 100, 100, 0.7)'] * len(year_data)\n",
                "\n",
                "        for index, row in sorted_data_lowest.iterrows():\n",
                "            colors[year_data.index.get_loc(index)] = 'rgba(200, 50, 50, 0.8)'\n",
                "        for index, row in sorted_data_highest.iterrows():\n",
                "            colors[year_data.index.get_loc(index)] = 'rgba(50, 200, 50, 0.8)'\n",
                "\n",
                "        fig.add_trace(go.Bar(x=year_data['MonthName'], y=year_data[selected_value], name=str(year), marker_color=colors), row=i + 1, col=1)\n",
                "\n",
                "    fig.update_layout(height=800, width=800, title_text=\"Corresponding {} for Each Month (2011, 2012, 2013)\".format(selected_value))\n",
                "    fig.show()\n",
                ""
            ],
            "metadata": {
                "azdata_cell_guid": "1ed18715-2311-4b82-b8cb-f093084357b5",
                "tags": [
                    "hide_input"
                ]
            },
            "outputs": [
                {
                    "output_type": "stream",
                    "name": "stdout",
                    "text": "Please select a number:\n1. Revenue\n2. Profit\n3. AVGProfitMargin\n4. MonthlyRevenuePercentage\n5. RevenueChangePercentage\n6. ProfitChangePercentage\n"
                },
                {
                    "output_type": "display_data",
                    "data": {
                        "application/vnd.plotly.v1+json": {
                            "data": [
                                {
                                    "marker": {
                                        "color": [
                                            "rgba(200, 50, 50, 0.8)",
                                            "rgba(200, 50, 50, 0.8)",
                                            "rgba(200, 50, 50, 0.8)",
                                            "rgba(100, 100, 100, 0.7)",
                                            "rgba(100, 100, 100, 0.7)",
                                            "rgba(50, 200, 50, 0.8)",
                                            "rgba(100, 100, 100, 0.7)",
                                            "rgba(100, 100, 100, 0.7)",
                                            "rgba(100, 100, 100, 0.7)",
                                            "rgba(50, 200, 50, 0.8)",
                                            "rgba(100, 100, 100, 0.7)",
                                            "rgba(50, 200, 50, 0.8)"
                                        ]
                                    },
                                    "name": "2011",
                                    "x": [
                                        "January",
                                        "February",
                                        "March",
                                        "April",
                                        "May",
                                        "June",
                                        "July",
                                        "August",
                                        "September",
                                        "October",
                                        "November",
                                        "December"
                                    ],
                                    "y": [
                                        469823.9148,
                                        466334.903,
                                        485198.6594,
                                        502073.8458,
                                        561681.4758,
                                        737839.8214,
                                        596746.5568,
                                        614557.935,
                                        603083.4976,
                                        708208.0032,
                                        660545.8132,
                                        669431.5031
                                    ],
                                    "type": "bar",
                                    "xaxis": "x",
                                    "yaxis": "y"
                                },
                                {
                                    "marker": {
                                        "color": [
                                            "rgba(100, 100, 100, 0.7)",
                                            "rgba(100, 100, 100, 0.7)",
                                            "rgba(200, 50, 50, 0.8)",
                                            "rgba(200, 50, 50, 0.8)",
                                            "rgba(200, 50, 50, 0.8)",
                                            "rgba(50, 200, 50, 0.8)",
                                            "rgba(100, 100, 100, 0.7)",
                                            "rgba(100, 100, 100, 0.7)",
                                            "rgba(100, 100, 100, 0.7)",
                                            "rgba(100, 100, 100, 0.7)",
                                            "rgba(50, 200, 50, 0.8)",
                                            "rgba(50, 200, 50, 0.8)"
                                        ]
                                    },
                                    "name": "2012",
                                    "x": [
                                        "January",
                                        "February",
                                        "March",
                                        "April",
                                        "May",
                                        "June",
                                        "July",
                                        "August",
                                        "September",
                                        "October",
                                        "November",
                                        "December"
                                    ],
                                    "y": [
                                        495364.1261,
                                        506994.1876,
                                        373483.0054,
                                        400335.6145,
                                        358877.8907,
                                        555160.1428,
                                        444558.2281,
                                        523917.3815,
                                        486177.4502,
                                        535159.4846,
                                        537955.517,
                                        624502.1667
                                    ],
                                    "type": "bar",
                                    "xaxis": "x2",
                                    "yaxis": "y2"
                                },
                                {
                                    "marker": {
                                        "color": [
                                            "rgba(200, 50, 50, 0.8)",
                                            "rgba(200, 50, 50, 0.8)",
                                            "rgba(100, 100, 100, 0.7)",
                                            "rgba(200, 50, 50, 0.8)",
                                            "rgba(100, 100, 100, 0.7)",
                                            "rgba(100, 100, 100, 0.7)",
                                            "rgba(100, 100, 100, 0.7)",
                                            "rgba(100, 100, 100, 0.7)",
                                            "rgba(100, 100, 100, 0.7)",
                                            "rgba(50, 200, 50, 0.8)",
                                            "rgba(50, 200, 50, 0.8)",
                                            "rgba(50, 200, 50, 0.8)"
                                        ]
                                    },
                                    "name": "2013",
                                    "x": [
                                        "January",
                                        "February",
                                        "March",
                                        "April",
                                        "May",
                                        "June",
                                        "July",
                                        "August",
                                        "September",
                                        "October",
                                        "November",
                                        "December"
                                    ],
                                    "y": [
                                        857689.91,
                                        771348.74,
                                        1049907.39,
                                        1046022.77,
                                        1284592.93,
                                        1643177.78,
                                        1371675.81,
                                        1551065.56,
                                        1447495.69,
                                        1673293.41,
                                        1780920.06,
                                        1874360.29
                                    ],
                                    "type": "bar",
                                    "xaxis": "x3",
                                    "yaxis": "y3"
                                }
                            ],
                            "layout": {
                                "template": {
                                    "data": {
                                        "histogram2dcontour": [
                                            {
                                                "type": "histogram2dcontour",
                                                "colorbar": {
                                                    "outlinewidth": 0,
                                                    "ticks": ""
                                                },
                                                "colorscale": [
                                                    [
                                                        0,
                                                        "#0d0887"
                                                    ],
                                                    [
                                                        0.1111111111111111,
                                                        "#46039f"
                                                    ],
                                                    [
                                                        0.2222222222222222,
                                                        "#7201a8"
                                                    ],
                                                    [
                                                        0.3333333333333333,
                                                        "#9c179e"
                                                    ],
                                                    [
                                                        0.4444444444444444,
                                                        "#bd3786"
                                                    ],
                                                    [
                                                        0.5555555555555556,
                                                        "#d8576b"
                                                    ],
                                                    [
                                                        0.6666666666666666,
                                                        "#ed7953"
                                                    ],
                                                    [
                                                        0.7777777777777778,
                                                        "#fb9f3a"
                                                    ],
                                                    [
                                                        0.8888888888888888,
                                                        "#fdca26"
                                                    ],
                                                    [
                                                        1,
                                                        "#f0f921"
                                                    ]
                                                ]
                                            }
                                        ],
                                        "choropleth": [
                                            {
                                                "type": "choropleth",
                                                "colorbar": {
                                                    "outlinewidth": 0,
                                                    "ticks": ""
                                                }
                                            }
                                        ],
                                        "histogram2d": [
                                            {
                                                "type": "histogram2d",
                                                "colorbar": {
                                                    "outlinewidth": 0,
                                                    "ticks": ""
                                                },
                                                "colorscale": [
                                                    [
                                                        0,
                                                        "#0d0887"
                                                    ],
                                                    [
                                                        0.1111111111111111,
                                                        "#46039f"
                                                    ],
                                                    [
                                                        0.2222222222222222,
                                                        "#7201a8"
                                                    ],
                                                    [
                                                        0.3333333333333333,
                                                        "#9c179e"
                                                    ],
                                                    [
                                                        0.4444444444444444,
                                                        "#bd3786"
                                                    ],
                                                    [
                                                        0.5555555555555556,
                                                        "#d8576b"
                                                    ],
                                                    [
                                                        0.6666666666666666,
                                                        "#ed7953"
                                                    ],
                                                    [
                                                        0.7777777777777778,
                                                        "#fb9f3a"
                                                    ],
                                                    [
                                                        0.8888888888888888,
                                                        "#fdca26"
                                                    ],
                                                    [
                                                        1,
                                                        "#f0f921"
                                                    ]
                                                ]
                                            }
                                        ],
                                        "heatmap": [
                                            {
                                                "type": "heatmap",
                                                "colorbar": {
                                                    "outlinewidth": 0,
                                                    "ticks": ""
                                                },
                                                "colorscale": [
                                                    [
                                                        0,
                                                        "#0d0887"
                                                    ],
                                                    [
                                                        0.1111111111111111,
                                                        "#46039f"
                                                    ],
                                                    [
                                                        0.2222222222222222,
                                                        "#7201a8"
                                                    ],
                                                    [
                                                        0.3333333333333333,
                                                        "#9c179e"
                                                    ],
                                                    [
                                                        0.4444444444444444,
                                                        "#bd3786"
                                                    ],
                                                    [
                                                        0.5555555555555556,
                                                        "#d8576b"
                                                    ],
                                                    [
                                                        0.6666666666666666,
                                                        "#ed7953"
                                                    ],
                                                    [
                                                        0.7777777777777778,
                                                        "#fb9f3a"
                                                    ],
                                                    [
                                                        0.8888888888888888,
                                                        "#fdca26"
                                                    ],
                                                    [
                                                        1,
                                                        "#f0f921"
                                                    ]
                                                ]
                                            }
                                        ],
                                        "heatmapgl": [
                                            {
                                                "type": "heatmapgl",
                                                "colorbar": {
                                                    "outlinewidth": 0,
                                                    "ticks": ""
                                                },
                                                "colorscale": [
                                                    [
                                                        0,
                                                        "#0d0887"
                                                    ],
                                                    [
                                                        0.1111111111111111,
                                                        "#46039f"
                                                    ],
                                                    [
                                                        0.2222222222222222,
                                                        "#7201a8"
                                                    ],
                                                    [
                                                        0.3333333333333333,
                                                        "#9c179e"
                                                    ],
                                                    [
                                                        0.4444444444444444,
                                                        "#bd3786"
                                                    ],
                                                    [
                                                        0.5555555555555556,
                                                        "#d8576b"
                                                    ],
                                                    [
                                                        0.6666666666666666,
                                                        "#ed7953"
                                                    ],
                                                    [
                                                        0.7777777777777778,
                                                        "#fb9f3a"
                                                    ],
                                                    [
                                                        0.8888888888888888,
                                                        "#fdca26"
                                                    ],
                                                    [
                                                        1,
                                                        "#f0f921"
                                                    ]
                                                ]
                                            }
                                        ],
                                        "contourcarpet": [
                                            {
                                                "type": "contourcarpet",
                                                "colorbar": {
                                                    "outlinewidth": 0,
                                                    "ticks": ""
                                                }
                                            }
                                        ],
                                        "contour": [
                                            {
                                                "type": "contour",
                                                "colorbar": {
                                                    "outlinewidth": 0,
                                                    "ticks": ""
                                                },
                                                "colorscale": [
                                                    [
                                                        0,
                                                        "#0d0887"
                                                    ],
                                                    [
                                                        0.1111111111111111,
                                                        "#46039f"
                                                    ],
                                                    [
                                                        0.2222222222222222,
                                                        "#7201a8"
                                                    ],
                                                    [
                                                        0.3333333333333333,
                                                        "#9c179e"
                                                    ],
                                                    [
                                                        0.4444444444444444,
                                                        "#bd3786"
                                                    ],
                                                    [
                                                        0.5555555555555556,
                                                        "#d8576b"
                                                    ],
                                                    [
                                                        0.6666666666666666,
                                                        "#ed7953"
                                                    ],
                                                    [
                                                        0.7777777777777778,
                                                        "#fb9f3a"
                                                    ],
                                                    [
                                                        0.8888888888888888,
                                                        "#fdca26"
                                                    ],
                                                    [
                                                        1,
                                                        "#f0f921"
                                                    ]
                                                ]
                                            }
                                        ],
                                        "surface": [
                                            {
                                                "type": "surface",
                                                "colorbar": {
                                                    "outlinewidth": 0,
                                                    "ticks": ""
                                                },
                                                "colorscale": [
                                                    [
                                                        0,
                                                        "#0d0887"
                                                    ],
                                                    [
                                                        0.1111111111111111,
                                                        "#46039f"
                                                    ],
                                                    [
                                                        0.2222222222222222,
                                                        "#7201a8"
                                                    ],
                                                    [
                                                        0.3333333333333333,
                                                        "#9c179e"
                                                    ],
                                                    [
                                                        0.4444444444444444,
                                                        "#bd3786"
                                                    ],
                                                    [
                                                        0.5555555555555556,
                                                        "#d8576b"
                                                    ],
                                                    [
                                                        0.6666666666666666,
                                                        "#ed7953"
                                                    ],
                                                    [
                                                        0.7777777777777778,
                                                        "#fb9f3a"
                                                    ],
                                                    [
                                                        0.8888888888888888,
                                                        "#fdca26"
                                                    ],
                                                    [
                                                        1,
                                                        "#f0f921"
                                                    ]
                                                ]
                                            }
                                        ],
                                        "mesh3d": [
                                            {
                                                "type": "mesh3d",
                                                "colorbar": {
                                                    "outlinewidth": 0,
                                                    "ticks": ""
                                                }
                                            }
                                        ],
                                        "scatter": [
                                            {
                                                "fillpattern": {
                                                    "fillmode": "overlay",
                                                    "size": 10,
                                                    "solidity": 0.2
                                                },
                                                "type": "scatter"
                                            }
                                        ],
                                        "parcoords": [
                                            {
                                                "type": "parcoords",
                                                "line": {
                                                    "colorbar": {
                                                        "outlinewidth": 0,
                                                        "ticks": ""
                                                    }
                                                }
                                            }
                                        ],
                                        "scatterpolargl": [
                                            {
                                                "type": "scatterpolargl",
                                                "marker": {
                                                    "colorbar": {
                                                        "outlinewidth": 0,
                                                        "ticks": ""
                                                    }
                                                }
                                            }
                                        ],
                                        "bar": [
                                            {
                                                "error_x": {
                                                    "color": "#2a3f5f"
                                                },
                                                "error_y": {
                                                    "color": "#2a3f5f"
                                                },
                                                "marker": {
                                                    "line": {
                                                        "color": "#E5ECF6",
                                                        "width": 0.5
                                                    },
                                                    "pattern": {
                                                        "fillmode": "overlay",
                                                        "size": 10,
                                                        "solidity": 0.2
                                                    }
                                                },
                                                "type": "bar"
                                            }
                                        ],
                                        "scattergeo": [
                                            {
                                                "type": "scattergeo",
                                                "marker": {
                                                    "colorbar": {
                                                        "outlinewidth": 0,
                                                        "ticks": ""
                                                    }
                                                }
                                            }
                                        ],
                                        "scatterpolar": [
                                            {
                                                "type": "scatterpolar",
                                                "marker": {
                                                    "colorbar": {
                                                        "outlinewidth": 0,
                                                        "ticks": ""
                                                    }
                                                }
                                            }
                                        ],
                                        "histogram": [
                                            {
                                                "marker": {
                                                    "pattern": {
                                                        "fillmode": "overlay",
                                                        "size": 10,
                                                        "solidity": 0.2
                                                    }
                                                },
                                                "type": "histogram"
                                            }
                                        ],
                                        "scattergl": [
                                            {
                                                "type": "scattergl",
                                                "marker": {
                                                    "colorbar": {
                                                        "outlinewidth": 0,
                                                        "ticks": ""
                                                    }
                                                }
                                            }
                                        ],
                                        "scatter3d": [
                                            {
                                                "type": "scatter3d",
                                                "line": {
                                                    "colorbar": {
                                                        "outlinewidth": 0,
                                                        "ticks": ""
                                                    }
                                                },
                                                "marker": {
                                                    "colorbar": {
                                                        "outlinewidth": 0,
                                                        "ticks": ""
                                                    }
                                                }
                                            }
                                        ],
                                        "scattermapbox": [
                                            {
                                                "type": "scattermapbox",
                                                "marker": {
                                                    "colorbar": {
                                                        "outlinewidth": 0,
                                                        "ticks": ""
                                                    }
                                                }
                                            }
                                        ],
                                        "scatterternary": [
                                            {
                                                "type": "scatterternary",
                                                "marker": {
                                                    "colorbar": {
                                                        "outlinewidth": 0,
                                                        "ticks": ""
                                                    }
                                                }
                                            }
                                        ],
                                        "scattercarpet": [
                                            {
                                                "type": "scattercarpet",
                                                "marker": {
                                                    "colorbar": {
                                                        "outlinewidth": 0,
                                                        "ticks": ""
                                                    }
                                                }
                                            }
                                        ],
                                        "carpet": [
                                            {
                                                "aaxis": {
                                                    "endlinecolor": "#2a3f5f",
                                                    "gridcolor": "white",
                                                    "linecolor": "white",
                                                    "minorgridcolor": "white",
                                                    "startlinecolor": "#2a3f5f"
                                                },
                                                "baxis": {
                                                    "endlinecolor": "#2a3f5f",
                                                    "gridcolor": "white",
                                                    "linecolor": "white",
                                                    "minorgridcolor": "white",
                                                    "startlinecolor": "#2a3f5f"
                                                },
                                                "type": "carpet"
                                            }
                                        ],
                                        "table": [
                                            {
                                                "cells": {
                                                    "fill": {
                                                        "color": "#EBF0F8"
                                                    },
                                                    "line": {
                                                        "color": "white"
                                                    }
                                                },
                                                "header": {
                                                    "fill": {
                                                        "color": "#C8D4E3"
                                                    },
                                                    "line": {
                                                        "color": "white"
                                                    }
                                                },
                                                "type": "table"
                                            }
                                        ],
                                        "barpolar": [
                                            {
                                                "marker": {
                                                    "line": {
                                                        "color": "#E5ECF6",
                                                        "width": 0.5
                                                    },
                                                    "pattern": {
                                                        "fillmode": "overlay",
                                                        "size": 10,
                                                        "solidity": 0.2
                                                    }
                                                },
                                                "type": "barpolar"
                                            }
                                        ],
                                        "pie": [
                                            {
                                                "automargin": true,
                                                "type": "pie"
                                            }
                                        ]
                                    },
                                    "layout": {
                                        "autotypenumbers": "strict",
                                        "colorway": [
                                            "#636efa",
                                            "#EF553B",
                                            "#00cc96",
                                            "#ab63fa",
                                            "#FFA15A",
                                            "#19d3f3",
                                            "#FF6692",
                                            "#B6E880",
                                            "#FF97FF",
                                            "#FECB52"
                                        ],
                                        "font": {
                                            "color": "#2a3f5f"
                                        },
                                        "hovermode": "closest",
                                        "hoverlabel": {
                                            "align": "left"
                                        },
                                        "paper_bgcolor": "white",
                                        "plot_bgcolor": "#E5ECF6",
                                        "polar": {
                                            "bgcolor": "#E5ECF6",
                                            "angularaxis": {
                                                "gridcolor": "white",
                                                "linecolor": "white",
                                                "ticks": ""
                                            },
                                            "radialaxis": {
                                                "gridcolor": "white",
                                                "linecolor": "white",
                                                "ticks": ""
                                            }
                                        },
                                        "ternary": {
                                            "bgcolor": "#E5ECF6",
                                            "aaxis": {
                                                "gridcolor": "white",
                                                "linecolor": "white",
                                                "ticks": ""
                                            },
                                            "baxis": {
                                                "gridcolor": "white",
                                                "linecolor": "white",
                                                "ticks": ""
                                            },
                                            "caxis": {
                                                "gridcolor": "white",
                                                "linecolor": "white",
                                                "ticks": ""
                                            }
                                        },
                                        "coloraxis": {
                                            "colorbar": {
                                                "outlinewidth": 0,
                                                "ticks": ""
                                            }
                                        },
                                        "colorscale": {
                                            "sequential": [
                                                [
                                                    0,
                                                    "#0d0887"
                                                ],
                                                [
                                                    0.1111111111111111,
                                                    "#46039f"
                                                ],
                                                [
                                                    0.2222222222222222,
                                                    "#7201a8"
                                                ],
                                                [
                                                    0.3333333333333333,
                                                    "#9c179e"
                                                ],
                                                [
                                                    0.4444444444444444,
                                                    "#bd3786"
                                                ],
                                                [
                                                    0.5555555555555556,
                                                    "#d8576b"
                                                ],
                                                [
                                                    0.6666666666666666,
                                                    "#ed7953"
                                                ],
                                                [
                                                    0.7777777777777778,
                                                    "#fb9f3a"
                                                ],
                                                [
                                                    0.8888888888888888,
                                                    "#fdca26"
                                                ],
                                                [
                                                    1,
                                                    "#f0f921"
                                                ]
                                            ],
                                            "sequentialminus": [
                                                [
                                                    0,
                                                    "#0d0887"
                                                ],
                                                [
                                                    0.1111111111111111,
                                                    "#46039f"
                                                ],
                                                [
                                                    0.2222222222222222,
                                                    "#7201a8"
                                                ],
                                                [
                                                    0.3333333333333333,
                                                    "#9c179e"
                                                ],
                                                [
                                                    0.4444444444444444,
                                                    "#bd3786"
                                                ],
                                                [
                                                    0.5555555555555556,
                                                    "#d8576b"
                                                ],
                                                [
                                                    0.6666666666666666,
                                                    "#ed7953"
                                                ],
                                                [
                                                    0.7777777777777778,
                                                    "#fb9f3a"
                                                ],
                                                [
                                                    0.8888888888888888,
                                                    "#fdca26"
                                                ],
                                                [
                                                    1,
                                                    "#f0f921"
                                                ]
                                            ],
                                            "diverging": [
                                                [
                                                    0,
                                                    "#8e0152"
                                                ],
                                                [
                                                    0.1,
                                                    "#c51b7d"
                                                ],
                                                [
                                                    0.2,
                                                    "#de77ae"
                                                ],
                                                [
                                                    0.3,
                                                    "#f1b6da"
                                                ],
                                                [
                                                    0.4,
                                                    "#fde0ef"
                                                ],
                                                [
                                                    0.5,
                                                    "#f7f7f7"
                                                ],
                                                [
                                                    0.6,
                                                    "#e6f5d0"
                                                ],
                                                [
                                                    0.7,
                                                    "#b8e186"
                                                ],
                                                [
                                                    0.8,
                                                    "#7fbc41"
                                                ],
                                                [
                                                    0.9,
                                                    "#4d9221"
                                                ],
                                                [
                                                    1,
                                                    "#276419"
                                                ]
                                            ]
                                        },
                                        "xaxis": {
                                            "gridcolor": "white",
                                            "linecolor": "white",
                                            "ticks": "",
                                            "title": {
                                                "standoff": 15
                                            },
                                            "zerolinecolor": "white",
                                            "automargin": true,
                                            "zerolinewidth": 2
                                        },
                                        "yaxis": {
                                            "gridcolor": "white",
                                            "linecolor": "white",
                                            "ticks": "",
                                            "title": {
                                                "standoff": 15
                                            },
                                            "zerolinecolor": "white",
                                            "automargin": true,
                                            "zerolinewidth": 2
                                        },
                                        "scene": {
                                            "xaxis": {
                                                "backgroundcolor": "#E5ECF6",
                                                "gridcolor": "white",
                                                "linecolor": "white",
                                                "showbackground": true,
                                                "ticks": "",
                                                "zerolinecolor": "white",
                                                "gridwidth": 2
                                            },
                                            "yaxis": {
                                                "backgroundcolor": "#E5ECF6",
                                                "gridcolor": "white",
                                                "linecolor": "white",
                                                "showbackground": true,
                                                "ticks": "",
                                                "zerolinecolor": "white",
                                                "gridwidth": 2
                                            },
                                            "zaxis": {
                                                "backgroundcolor": "#E5ECF6",
                                                "gridcolor": "white",
                                                "linecolor": "white",
                                                "showbackground": true,
                                                "ticks": "",
                                                "zerolinecolor": "white",
                                                "gridwidth": 2
                                            }
                                        },
                                        "shapedefaults": {
                                            "line": {
                                                "color": "#2a3f5f"
                                            }
                                        },
                                        "annotationdefaults": {
                                            "arrowcolor": "#2a3f5f",
                                            "arrowhead": 0,
                                            "arrowwidth": 1
                                        },
                                        "geo": {
                                            "bgcolor": "white",
                                            "landcolor": "#E5ECF6",
                                            "subunitcolor": "white",
                                            "showland": true,
                                            "showlakes": true,
                                            "lakecolor": "white"
                                        },
                                        "title": {
                                            "x": 0.05
                                        },
                                        "mapbox": {
                                            "style": "light"
                                        }
                                    }
                                },
                                "xaxis": {
                                    "anchor": "y",
                                    "domain": [
                                        0,
                                        1
                                    ],
                                    "matches": "x3",
                                    "showticklabels": false
                                },
                                "yaxis": {
                                    "anchor": "x",
                                    "domain": [
                                        0.7777777777777778,
                                        1
                                    ]
                                },
                                "xaxis2": {
                                    "anchor": "y2",
                                    "domain": [
                                        0,
                                        1
                                    ],
                                    "matches": "x3",
                                    "showticklabels": false
                                },
                                "yaxis2": {
                                    "anchor": "x2",
                                    "domain": [
                                        0.3888888888888889,
                                        0.6111111111111112
                                    ]
                                },
                                "xaxis3": {
                                    "anchor": "y3",
                                    "domain": [
                                        0,
                                        1
                                    ]
                                },
                                "yaxis3": {
                                    "anchor": "x3",
                                    "domain": [
                                        0,
                                        0.22222222222222224
                                    ]
                                },
                                "annotations": [
                                    {
                                        "font": {
                                            "size": 16
                                        },
                                        "showarrow": false,
                                        "text": "2011",
                                        "x": 0.5,
                                        "xanchor": "center",
                                        "xref": "paper",
                                        "y": 1,
                                        "yanchor": "bottom",
                                        "yref": "paper"
                                    },
                                    {
                                        "font": {
                                            "size": 16
                                        },
                                        "showarrow": false,
                                        "text": "2012",
                                        "x": 0.5,
                                        "xanchor": "center",
                                        "xref": "paper",
                                        "y": 0.6111111111111112,
                                        "yanchor": "bottom",
                                        "yref": "paper"
                                    },
                                    {
                                        "font": {
                                            "size": 16
                                        },
                                        "showarrow": false,
                                        "text": "2013",
                                        "x": 0.5,
                                        "xanchor": "center",
                                        "xref": "paper",
                                        "y": 0.22222222222222224,
                                        "yanchor": "bottom",
                                        "yref": "paper"
                                    }
                                ],
                                "title": {
                                    "text": "Corresponding Revenue for Each Month (2011, 2012, 2013)"
                                },
                                "height": 800,
                                "width": 800
                            },
                            "config": {
                                "plotlyServerURL": "https://plot.ly"
                            }
                        }
                    },
                    "metadata": {}
                }
            ],
            "execution_count": 13
        },
        {
            "cell_type": "markdown",
            "source": [
                "---"
            ],
            "metadata": {
                "language": "python",
                "azdata_cell_guid": "586a080e-9644-4f72-8350-49277db0edbe",
                "extensions": {
                    "azuredatastudio": {
                        "views": []
                    }
                }
            },
            "attachments": {}
        },
        {
            "cell_type": "markdown",
            "source": [
                "## **3\\. Product Analytics**"
            ],
            "metadata": {
                "azdata_cell_guid": "56fcba80-de27-4073-babe-10d346e1b430"
            },
            "attachments": {}
        },
        {
            "cell_type": "code",
            "source": [
                "product_query = '''\r\n",
                "-- Further Transformation\r\n",
                "WITH CTE_FactInternetSales\r\n",
                "AS (SELECT\r\n",
                "  ProductKey,\r\n",
                "  OrderDateKey,\r\n",
                "  DueDateKey,\r\n",
                "  ShipDateKey,\r\n",
                "  CustomerKey,\r\n",
                "  PromotionKey,\r\n",
                "  CurrencyKey,\r\n",
                "  SalesTerritoryKey,\r\n",
                "  SalesOrderNumber,\r\n",
                "  SalesAmount,\r\n",
                "  TotalProductCost,\r\n",
                "  TaxAmt,\r\n",
                "  Freight,\r\n",
                "  SalesAmount - TotalProductCost - TaxAmt - Freight AS Profit,\r\n",
                "  (SalesAmount - TotalProductCost - TaxAmt - Freight) / SalesAmount AS ProfitMargin,\r\n",
                "  CONVERT(date, OrderDate) AS OrderDate,\r\n",
                "  CONVERT(date, DueDate) AS DueDate,\r\n",
                "  CONVERT(date, ShipDate) AS ShipDate,\r\n",
                "  IIF(ShipDate > DueDate, 'Late', 'Normal') AS ShipStatus,\r\n",
                "  DATEDIFF(D, OrderDate, ShipDate) + 3 TimeToArrive,\r\n",
                "  DATEDIFF(D, OrderDate, ShipDate) TimeToShip\r\n",
                "FROM [AdventureWorksDW2017].dbo.FactInternetSales)\r\n",
                "-------------------------------------------------------------------------------------------------------------------------------------------------------\r\n",
                ",\r\n",
                "CTE_DimProduct\r\n",
                "AS (SELECT\r\n",
                "  ProductKey,\r\n",
                "  ProductAlternateKey,\r\n",
                "  EnglishProductName AS ProductName,\r\n",
                "  EnglishProductCategoryName AS CategoryName,\r\n",
                "  EnglishProductSubcategoryName AS SubcategoryName,\r\n",
                "  CASE\r\n",
                "    WHEN EnglishProductName LIKE '%,%' AND\r\n",
                "      EnglishProductCategoryName = 'Bikes' THEN LEFT(EnglishProductName, CHARINDEX(' ', EnglishProductName) - 1)\r\n",
                "    WHEN EnglishProductName LIKE '%,%' AND\r\n",
                "      EnglishProductSubcategoryName LIKE '%Frames%' THEN LEFT(EnglishProductName, CHARINDEX('-', EnglishProductName) - 1)\r\n",
                "    WHEN EnglishProductName LIKE '%,%' THEN LEFT(EnglishProductName, CHARINDEX(',', EnglishProductName) - 1)\r\n",
                "    WHEN EnglishProductName LIKE '%/%' THEN LEFT(EnglishProductName, CHARINDEX('/', EnglishProductName) - 1)\r\n",
                "    ELSE NULL\r\n",
                "  END AS ModelName,\r\n",
                "  SafetyStockLevel,\r\n",
                "  ReorderPoint,\r\n",
                "  Color,\r\n",
                "  SizeRange,\r\n",
                "  Weight\r\n",
                "FROM [AdventureWorksDW2017].dbo.DimProduct\r\n",
                "JOIN [AdventureWorksDW2017].dbo.DimProductSubcategory\r\n",
                "  ON DimProduct.ProductSubcategoryKey = DimProductSubcategory.ProductSubcategoryKey\r\n",
                "JOIN [AdventureWorksDW2017].dbo.DimProductCategory\r\n",
                "  ON DimProductSubcategory.ProductCategoryKey = DimProductCategory.ProductCategoryKey\r\n",
                "WHERE ListPrice IS NOT NULL)\r\n",
                "-------------------------------------------------------------------------------------------------------------------------------------------------------\r\n",
                "SELECT\r\n",
                "  ProductName,\r\n",
                "  CategoryName,\r\n",
                "  SubcategoryName,\r\n",
                "  ModelName,\r\n",
                "  CAST(ROUND(SUM(SalesAmount), 0) AS int) AS Revenue,\r\n",
                "  CAST(ROUND(SUM(Profit), 0) AS int) AS Profit,\r\n",
                "  CAST(ROUND(AVG(Profit), 0) AS int) AS AVGProfit,\r\n",
                "  AVG(ProfitMargin) AS ProfitMargin,\r\n",
                "  COUNT(*) AS QuantitySold\r\n",
                "FROM CTE_FactInternetSales\r\n",
                "JOIN CTE_DimProduct\r\n",
                "  ON CTE_FactInternetSales.ProductKey = CTE_DimProduct.ProductKey\r\n",
                "GROUP BY ProductName,\r\n",
                "         CategoryName,\r\n",
                "         SubcategoryName,\r\n",
                "         ModelName,\r\n",
                "         SafetyStockLevel,\r\n",
                "         ReorderPoint\r\n",
                "ORDER BY Profit DESC\r\n",
                "''' \r\n",
                "df_product = pd.read_sql_query(product_query, con=cnxn)"
            ],
            "metadata": {
                "azdata_cell_guid": "f305ad28-8b52-45ca-a101-463ddd0062d4",
                "tags": [
                    "hide_input"
                ]
            },
            "outputs": [
                {
                    "output_type": "stream",
                    "name": "stderr",
                    "text": "C:\\Users\\minhbpham\\AppData\\Local\\Temp\\ipykernel_5068\\1709303439.py:78: UserWarning:\n\npandas only supports SQLAlchemy connectable (engine/connection) or database string URI or sqlite3 DBAPI2 connection. Other DBAPI2 objects are not tested. Please consider using SQLAlchemy.\n\n"
                }
            ],
            "execution_count": 14
        },
        {
            "cell_type": "code",
            "source": [
                "df_product = df_product.fillna('NA')"
            ],
            "metadata": {
                "azdata_cell_guid": "6a9e9906-996d-4d81-9d1e-7d2d41e827ad",
                "tags": [
                    "hide_input"
                ]
            },
            "outputs": [],
            "execution_count": 16
        },
        {
            "cell_type": "code",
            "source": [
                "idf_product = df_product.fillna('NA')\r\n",
                "\r\n",
                "# Assuming df_product is your DataFrame\r\n",
                "\r\n",
                "# Prompt the user to select a number\r\n",
                "print(\"Please select a number:\")\r\n",
                "print(\"1. Revenue\")\r\n",
                "print(\"2. Profit\")\r\n",
                "print(\"3. AVGProfit\")\r\n",
                "print(\"4. ProfitMargin\")\r\n",
                "print(\"5. QuantitySold\")\r\n",
                "\r\n",
                "# Get user input for the selected number\r\n",
                "selected_number = int(input(\"Enter the number corresponding to your choice: \"))\r\n",
                "\r\n",
                "# Map the selected number to the column names\r\n",
                "column_mapping = {\r\n",
                "    1: 'Revenue',\r\n",
                "    2: 'Profit',\r\n",
                "    3: 'AVGProfit',\r\n",
                "    4: 'ProfitMargin',\r\n",
                "    5: 'QuantitySold'\r\n",
                "}\r\n",
                "\r\n",
                "# Check if the selected number is valid\r\n",
                "if selected_number not in column_mapping.keys():\r\n",
                "    print(\"Invalid number selected. Please choose from the provided options.\")\r\n",
                "else:\r\n",
                "    selected_column = column_mapping[selected_number]\r\n",
                "\r\n",
                "    # Calculate the percentage dynamically based on the selected column\r\n",
                "    df_product['RevenuePercentage'] = df_product[selected_column] / df_product[selected_column].sum() * 100\r\n",
                "\r\n",
                "    # Create the sunburst chart with the selected column\r\n",
                "    fig = px.sunburst(df_product, path=['CategoryName', 'SubcategoryName', 'ModelName'], values=selected_column,\r\n",
                "                      custom_data=['RevenuePercentage'], title=f'{selected_column} Breakdown by Product')\r\n",
                "    fig.update_traces(textinfo='label+percent entry', insidetextorientation='radial')\r\n",
                "    fig.update_layout(margin=dict(l=0, r=0, t=0, b=0), width=700, height=700)\r\n",
                "    fig.show()\r\n",
                ""
            ],
            "metadata": {
                "azdata_cell_guid": "0d551472-9a4e-45b1-8d14-a45126b506d8",
                "tags": [
                    "hide_input"
                ]
            },
            "outputs": [
                {
                    "output_type": "stream",
                    "name": "stdout",
                    "text": "Please select a number:\n1. Revenue\n2. Profit\n3. AVGProfit\n4. ProfitMargin\n5. QuantitySold\n"
                },
                {
                    "output_type": "display_data",
                    "data": {
                        "application/vnd.plotly.v1+json": {
                            "data": [
                                {
                                    "branchvalues": "total",
                                    "customdata": [
                                        [
                                            "(?)"
                                        ],
                                        [
                                            "(?)"
                                        ],
                                        [
                                            "(?)"
                                        ],
                                        [
                                            "(?)"
                                        ],
                                        [
                                            "(?)"
                                        ],
                                        [
                                            "(?)"
                                        ],
                                        [
                                            "(?)"
                                        ],
                                        [
                                            0.13406593189498345
                                        ],
                                        [
                                            0.134852751769672
                                        ],
                                        [
                                            "(?)"
                                        ],
                                        [
                                            0.06706021512064111
                                        ],
                                        [
                                            0.02458897262067799
                                        ],
                                        [
                                            0.15879455652805208
                                        ],
                                        [
                                            0.1372949589131858
                                        ],
                                        [
                                            "(?)"
                                        ],
                                        [
                                            0.024888713525321245
                                        ],
                                        [
                                            "(?)"
                                        ],
                                        [
                                            "(?)"
                                        ],
                                        [
                                            "(?)"
                                        ],
                                        [
                                            "(?)"
                                        ],
                                        [
                                            "(?)"
                                        ],
                                        [
                                            "(?)"
                                        ],
                                        [
                                            "(?)"
                                        ],
                                        [
                                            "(?)"
                                        ],
                                        [
                                            "(?)"
                                        ],
                                        [
                                            "(?)"
                                        ],
                                        [
                                            "(?)"
                                        ],
                                        [
                                            "(?)"
                                        ],
                                        [
                                            "(?)"
                                        ],
                                        [
                                            0.13406593189498345
                                        ],
                                        [
                                            0.134852751769672
                                        ],
                                        [
                                            "(?)"
                                        ],
                                        [
                                            0.06706021512064111
                                        ],
                                        [
                                            0.02458897262067799
                                        ],
                                        [
                                            0.15879455652805208
                                        ],
                                        [
                                            "(?)"
                                        ],
                                        [
                                            "(?)"
                                        ],
                                        [
                                            0.1372949589131858
                                        ],
                                        [
                                            "(?)"
                                        ],
                                        [
                                            "(?)"
                                        ],
                                        [
                                            "(?)"
                                        ],
                                        [
                                            "(?)"
                                        ],
                                        [
                                            "(?)"
                                        ],
                                        [
                                            "(?)"
                                        ],
                                        [
                                            "(?)"
                                        ],
                                        [
                                            "(?)"
                                        ],
                                        [
                                            "(?)"
                                        ],
                                        [
                                            "(?)"
                                        ],
                                        [
                                            "(?)"
                                        ]
                                    ],
                                    "domain": {
                                        "x": [
                                            0,
                                            1
                                        ],
                                        "y": [
                                            0,
                                            1
                                        ]
                                    },
                                    "hovertemplate": "labels=%{label}<br>Revenue=%{value}<br>parent=%{parent}<br>id=%{id}<extra></extra>",
                                    "ids": [
                                        "Clothing/Vests/Classic Vest",
                                        "Clothing/Gloves/Half-Finger Gloves",
                                        "Clothing/Jerseys/Long-Sleeve Logo Jersey",
                                        "Bikes/Mountain Bikes/Mountain-100",
                                        "Bikes/Mountain Bikes/Mountain-200",
                                        "Bikes/Mountain Bikes/Mountain-400-W",
                                        "Bikes/Mountain Bikes/Mountain-500",
                                        "Accessories/Bike Racks/NA",
                                        "Accessories/Bike Stands/NA",
                                        "Accessories/Bottles and Cages/NA",
                                        "Clothing/Caps/NA",
                                        "Accessories/Cleaners/NA",
                                        "Accessories/Fenders/NA",
                                        "Accessories/Hydration Packs/NA",
                                        "Accessories/Tires and Tubes/NA",
                                        "Accessories/Tires and Tubes/Patch Kit",
                                        "Clothing/Socks/Racing Socks",
                                        "Bikes/Road Bikes/Road-150",
                                        "Bikes/Road Bikes/Road-250",
                                        "Bikes/Road Bikes/Road-350-W",
                                        "Bikes/Road Bikes/Road-550-W",
                                        "Bikes/Road Bikes/Road-650",
                                        "Bikes/Road Bikes/Road-750",
                                        "Clothing/Jerseys/Short-Sleeve Classic Jersey",
                                        "Accessories/Helmets/Sport-100 Helmet",
                                        "Bikes/Touring Bikes/Touring-1000",
                                        "Bikes/Touring Bikes/Touring-2000",
                                        "Bikes/Touring Bikes/Touring-3000",
                                        "Clothing/Shorts/Women's Mountain Shorts",
                                        "Accessories/Bike Racks",
                                        "Accessories/Bike Stands",
                                        "Accessories/Bottles and Cages",
                                        "Clothing/Caps",
                                        "Accessories/Cleaners",
                                        "Accessories/Fenders",
                                        "Clothing/Gloves",
                                        "Accessories/Helmets",
                                        "Accessories/Hydration Packs",
                                        "Clothing/Jerseys",
                                        "Bikes/Mountain Bikes",
                                        "Bikes/Road Bikes",
                                        "Clothing/Shorts",
                                        "Clothing/Socks",
                                        "Accessories/Tires and Tubes",
                                        "Bikes/Touring Bikes",
                                        "Clothing/Vests",
                                        "Accessories",
                                        "Bikes",
                                        "Clothing"
                                    ],
                                    "labels": [
                                        "Classic Vest",
                                        "Half-Finger Gloves",
                                        "Long-Sleeve Logo Jersey",
                                        "Mountain-100",
                                        "Mountain-200",
                                        "Mountain-400-W",
                                        "Mountain-500",
                                        "NA",
                                        "NA",
                                        "NA",
                                        "NA",
                                        "NA",
                                        "NA",
                                        "NA",
                                        "NA",
                                        "Patch Kit",
                                        "Racing Socks",
                                        "Road-150",
                                        "Road-250",
                                        "Road-350-W",
                                        "Road-550-W",
                                        "Road-650",
                                        "Road-750",
                                        "Short-Sleeve Classic Jersey",
                                        "Sport-100 Helmet",
                                        "Touring-1000",
                                        "Touring-2000",
                                        "Touring-3000",
                                        "Women's Mountain Shorts",
                                        "Bike Racks",
                                        "Bike Stands",
                                        "Bottles and Cages",
                                        "Caps",
                                        "Cleaners",
                                        "Fenders",
                                        "Gloves",
                                        "Helmets",
                                        "Hydration Packs",
                                        "Jerseys",
                                        "Mountain Bikes",
                                        "Road Bikes",
                                        "Shorts",
                                        "Socks",
                                        "Tires and Tubes",
                                        "Touring Bikes",
                                        "Vests",
                                        "Accessories",
                                        "Bikes",
                                        "Clothing"
                                    ],
                                    "name": "",
                                    "parents": [
                                        "Clothing/Vests",
                                        "Clothing/Gloves",
                                        "Clothing/Jerseys",
                                        "Bikes/Mountain Bikes",
                                        "Bikes/Mountain Bikes",
                                        "Bikes/Mountain Bikes",
                                        "Bikes/Mountain Bikes",
                                        "Accessories/Bike Racks",
                                        "Accessories/Bike Stands",
                                        "Accessories/Bottles and Cages",
                                        "Clothing/Caps",
                                        "Accessories/Cleaners",
                                        "Accessories/Fenders",
                                        "Accessories/Hydration Packs",
                                        "Accessories/Tires and Tubes",
                                        "Accessories/Tires and Tubes",
                                        "Clothing/Socks",
                                        "Bikes/Road Bikes",
                                        "Bikes/Road Bikes",
                                        "Bikes/Road Bikes",
                                        "Bikes/Road Bikes",
                                        "Bikes/Road Bikes",
                                        "Bikes/Road Bikes",
                                        "Clothing/Jerseys",
                                        "Accessories/Helmets",
                                        "Bikes/Touring Bikes",
                                        "Bikes/Touring Bikes",
                                        "Bikes/Touring Bikes",
                                        "Clothing/Shorts",
                                        "Accessories",
                                        "Accessories",
                                        "Accessories",
                                        "Clothing",
                                        "Accessories",
                                        "Accessories",
                                        "Clothing",
                                        "Accessories",
                                        "Accessories",
                                        "Clothing",
                                        "Bikes",
                                        "Bikes",
                                        "Clothing",
                                        "Clothing",
                                        "Accessories",
                                        "Bikes",
                                        "Clothing",
                                        "",
                                        "",
                                        ""
                                    ],
                                    "values": [
                                        35688,
                                        35021,
                                        86783,
                                        1341122,
                                        7929476,
                                        417834,
                                        264333,
                                        39360,
                                        39591,
                                        56799,
                                        19688,
                                        7219,
                                        46620,
                                        40308,
                                        238222,
                                        7307,
                                        5106,
                                        5549898,
                                        4451260,
                                        1580221,
                                        1514623,
                                        645380,
                                        779205,
                                        86168,
                                        225336,
                                        2992008,
                                        451924,
                                        400870,
                                        71319,
                                        39360,
                                        39591,
                                        56799,
                                        19688,
                                        7219,
                                        46620,
                                        35021,
                                        225336,
                                        40308,
                                        172951,
                                        9952765,
                                        14520587,
                                        71319,
                                        5106,
                                        245529,
                                        3844802,
                                        35688,
                                        700762,
                                        28318154,
                                        339773
                                    ],
                                    "type": "sunburst",
                                    "insidetextorientation": "radial",
                                    "textinfo": "label+percent entry"
                                }
                            ],
                            "layout": {
                                "template": {
                                    "data": {
                                        "histogram2dcontour": [
                                            {
                                                "type": "histogram2dcontour",
                                                "colorbar": {
                                                    "outlinewidth": 0,
                                                    "ticks": ""
                                                },
                                                "colorscale": [
                                                    [
                                                        0,
                                                        "#0d0887"
                                                    ],
                                                    [
                                                        0.1111111111111111,
                                                        "#46039f"
                                                    ],
                                                    [
                                                        0.2222222222222222,
                                                        "#7201a8"
                                                    ],
                                                    [
                                                        0.3333333333333333,
                                                        "#9c179e"
                                                    ],
                                                    [
                                                        0.4444444444444444,
                                                        "#bd3786"
                                                    ],
                                                    [
                                                        0.5555555555555556,
                                                        "#d8576b"
                                                    ],
                                                    [
                                                        0.6666666666666666,
                                                        "#ed7953"
                                                    ],
                                                    [
                                                        0.7777777777777778,
                                                        "#fb9f3a"
                                                    ],
                                                    [
                                                        0.8888888888888888,
                                                        "#fdca26"
                                                    ],
                                                    [
                                                        1,
                                                        "#f0f921"
                                                    ]
                                                ]
                                            }
                                        ],
                                        "choropleth": [
                                            {
                                                "type": "choropleth",
                                                "colorbar": {
                                                    "outlinewidth": 0,
                                                    "ticks": ""
                                                }
                                            }
                                        ],
                                        "histogram2d": [
                                            {
                                                "type": "histogram2d",
                                                "colorbar": {
                                                    "outlinewidth": 0,
                                                    "ticks": ""
                                                },
                                                "colorscale": [
                                                    [
                                                        0,
                                                        "#0d0887"
                                                    ],
                                                    [
                                                        0.1111111111111111,
                                                        "#46039f"
                                                    ],
                                                    [
                                                        0.2222222222222222,
                                                        "#7201a8"
                                                    ],
                                                    [
                                                        0.3333333333333333,
                                                        "#9c179e"
                                                    ],
                                                    [
                                                        0.4444444444444444,
                                                        "#bd3786"
                                                    ],
                                                    [
                                                        0.5555555555555556,
                                                        "#d8576b"
                                                    ],
                                                    [
                                                        0.6666666666666666,
                                                        "#ed7953"
                                                    ],
                                                    [
                                                        0.7777777777777778,
                                                        "#fb9f3a"
                                                    ],
                                                    [
                                                        0.8888888888888888,
                                                        "#fdca26"
                                                    ],
                                                    [
                                                        1,
                                                        "#f0f921"
                                                    ]
                                                ]
                                            }
                                        ],
                                        "heatmap": [
                                            {
                                                "type": "heatmap",
                                                "colorbar": {
                                                    "outlinewidth": 0,
                                                    "ticks": ""
                                                },
                                                "colorscale": [
                                                    [
                                                        0,
                                                        "#0d0887"
                                                    ],
                                                    [
                                                        0.1111111111111111,
                                                        "#46039f"
                                                    ],
                                                    [
                                                        0.2222222222222222,
                                                        "#7201a8"
                                                    ],
                                                    [
                                                        0.3333333333333333,
                                                        "#9c179e"
                                                    ],
                                                    [
                                                        0.4444444444444444,
                                                        "#bd3786"
                                                    ],
                                                    [
                                                        0.5555555555555556,
                                                        "#d8576b"
                                                    ],
                                                    [
                                                        0.6666666666666666,
                                                        "#ed7953"
                                                    ],
                                                    [
                                                        0.7777777777777778,
                                                        "#fb9f3a"
                                                    ],
                                                    [
                                                        0.8888888888888888,
                                                        "#fdca26"
                                                    ],
                                                    [
                                                        1,
                                                        "#f0f921"
                                                    ]
                                                ]
                                            }
                                        ],
                                        "heatmapgl": [
                                            {
                                                "type": "heatmapgl",
                                                "colorbar": {
                                                    "outlinewidth": 0,
                                                    "ticks": ""
                                                },
                                                "colorscale": [
                                                    [
                                                        0,
                                                        "#0d0887"
                                                    ],
                                                    [
                                                        0.1111111111111111,
                                                        "#46039f"
                                                    ],
                                                    [
                                                        0.2222222222222222,
                                                        "#7201a8"
                                                    ],
                                                    [
                                                        0.3333333333333333,
                                                        "#9c179e"
                                                    ],
                                                    [
                                                        0.4444444444444444,
                                                        "#bd3786"
                                                    ],
                                                    [
                                                        0.5555555555555556,
                                                        "#d8576b"
                                                    ],
                                                    [
                                                        0.6666666666666666,
                                                        "#ed7953"
                                                    ],
                                                    [
                                                        0.7777777777777778,
                                                        "#fb9f3a"
                                                    ],
                                                    [
                                                        0.8888888888888888,
                                                        "#fdca26"
                                                    ],
                                                    [
                                                        1,
                                                        "#f0f921"
                                                    ]
                                                ]
                                            }
                                        ],
                                        "contourcarpet": [
                                            {
                                                "type": "contourcarpet",
                                                "colorbar": {
                                                    "outlinewidth": 0,
                                                    "ticks": ""
                                                }
                                            }
                                        ],
                                        "contour": [
                                            {
                                                "type": "contour",
                                                "colorbar": {
                                                    "outlinewidth": 0,
                                                    "ticks": ""
                                                },
                                                "colorscale": [
                                                    [
                                                        0,
                                                        "#0d0887"
                                                    ],
                                                    [
                                                        0.1111111111111111,
                                                        "#46039f"
                                                    ],
                                                    [
                                                        0.2222222222222222,
                                                        "#7201a8"
                                                    ],
                                                    [
                                                        0.3333333333333333,
                                                        "#9c179e"
                                                    ],
                                                    [
                                                        0.4444444444444444,
                                                        "#bd3786"
                                                    ],
                                                    [
                                                        0.5555555555555556,
                                                        "#d8576b"
                                                    ],
                                                    [
                                                        0.6666666666666666,
                                                        "#ed7953"
                                                    ],
                                                    [
                                                        0.7777777777777778,
                                                        "#fb9f3a"
                                                    ],
                                                    [
                                                        0.8888888888888888,
                                                        "#fdca26"
                                                    ],
                                                    [
                                                        1,
                                                        "#f0f921"
                                                    ]
                                                ]
                                            }
                                        ],
                                        "surface": [
                                            {
                                                "type": "surface",
                                                "colorbar": {
                                                    "outlinewidth": 0,
                                                    "ticks": ""
                                                },
                                                "colorscale": [
                                                    [
                                                        0,
                                                        "#0d0887"
                                                    ],
                                                    [
                                                        0.1111111111111111,
                                                        "#46039f"
                                                    ],
                                                    [
                                                        0.2222222222222222,
                                                        "#7201a8"
                                                    ],
                                                    [
                                                        0.3333333333333333,
                                                        "#9c179e"
                                                    ],
                                                    [
                                                        0.4444444444444444,
                                                        "#bd3786"
                                                    ],
                                                    [
                                                        0.5555555555555556,
                                                        "#d8576b"
                                                    ],
                                                    [
                                                        0.6666666666666666,
                                                        "#ed7953"
                                                    ],
                                                    [
                                                        0.7777777777777778,
                                                        "#fb9f3a"
                                                    ],
                                                    [
                                                        0.8888888888888888,
                                                        "#fdca26"
                                                    ],
                                                    [
                                                        1,
                                                        "#f0f921"
                                                    ]
                                                ]
                                            }
                                        ],
                                        "mesh3d": [
                                            {
                                                "type": "mesh3d",
                                                "colorbar": {
                                                    "outlinewidth": 0,
                                                    "ticks": ""
                                                }
                                            }
                                        ],
                                        "scatter": [
                                            {
                                                "fillpattern": {
                                                    "fillmode": "overlay",
                                                    "size": 10,
                                                    "solidity": 0.2
                                                },
                                                "type": "scatter"
                                            }
                                        ],
                                        "parcoords": [
                                            {
                                                "type": "parcoords",
                                                "line": {
                                                    "colorbar": {
                                                        "outlinewidth": 0,
                                                        "ticks": ""
                                                    }
                                                }
                                            }
                                        ],
                                        "scatterpolargl": [
                                            {
                                                "type": "scatterpolargl",
                                                "marker": {
                                                    "colorbar": {
                                                        "outlinewidth": 0,
                                                        "ticks": ""
                                                    }
                                                }
                                            }
                                        ],
                                        "bar": [
                                            {
                                                "error_x": {
                                                    "color": "#2a3f5f"
                                                },
                                                "error_y": {
                                                    "color": "#2a3f5f"
                                                },
                                                "marker": {
                                                    "line": {
                                                        "color": "#E5ECF6",
                                                        "width": 0.5
                                                    },
                                                    "pattern": {
                                                        "fillmode": "overlay",
                                                        "size": 10,
                                                        "solidity": 0.2
                                                    }
                                                },
                                                "type": "bar"
                                            }
                                        ],
                                        "scattergeo": [
                                            {
                                                "type": "scattergeo",
                                                "marker": {
                                                    "colorbar": {
                                                        "outlinewidth": 0,
                                                        "ticks": ""
                                                    }
                                                }
                                            }
                                        ],
                                        "scatterpolar": [
                                            {
                                                "type": "scatterpolar",
                                                "marker": {
                                                    "colorbar": {
                                                        "outlinewidth": 0,
                                                        "ticks": ""
                                                    }
                                                }
                                            }
                                        ],
                                        "histogram": [
                                            {
                                                "marker": {
                                                    "pattern": {
                                                        "fillmode": "overlay",
                                                        "size": 10,
                                                        "solidity": 0.2
                                                    }
                                                },
                                                "type": "histogram"
                                            }
                                        ],
                                        "scattergl": [
                                            {
                                                "type": "scattergl",
                                                "marker": {
                                                    "colorbar": {
                                                        "outlinewidth": 0,
                                                        "ticks": ""
                                                    }
                                                }
                                            }
                                        ],
                                        "scatter3d": [
                                            {
                                                "type": "scatter3d",
                                                "line": {
                                                    "colorbar": {
                                                        "outlinewidth": 0,
                                                        "ticks": ""
                                                    }
                                                },
                                                "marker": {
                                                    "colorbar": {
                                                        "outlinewidth": 0,
                                                        "ticks": ""
                                                    }
                                                }
                                            }
                                        ],
                                        "scattermapbox": [
                                            {
                                                "type": "scattermapbox",
                                                "marker": {
                                                    "colorbar": {
                                                        "outlinewidth": 0,
                                                        "ticks": ""
                                                    }
                                                }
                                            }
                                        ],
                                        "scatterternary": [
                                            {
                                                "type": "scatterternary",
                                                "marker": {
                                                    "colorbar": {
                                                        "outlinewidth": 0,
                                                        "ticks": ""
                                                    }
                                                }
                                            }
                                        ],
                                        "scattercarpet": [
                                            {
                                                "type": "scattercarpet",
                                                "marker": {
                                                    "colorbar": {
                                                        "outlinewidth": 0,
                                                        "ticks": ""
                                                    }
                                                }
                                            }
                                        ],
                                        "carpet": [
                                            {
                                                "aaxis": {
                                                    "endlinecolor": "#2a3f5f",
                                                    "gridcolor": "white",
                                                    "linecolor": "white",
                                                    "minorgridcolor": "white",
                                                    "startlinecolor": "#2a3f5f"
                                                },
                                                "baxis": {
                                                    "endlinecolor": "#2a3f5f",
                                                    "gridcolor": "white",
                                                    "linecolor": "white",
                                                    "minorgridcolor": "white",
                                                    "startlinecolor": "#2a3f5f"
                                                },
                                                "type": "carpet"
                                            }
                                        ],
                                        "table": [
                                            {
                                                "cells": {
                                                    "fill": {
                                                        "color": "#EBF0F8"
                                                    },
                                                    "line": {
                                                        "color": "white"
                                                    }
                                                },
                                                "header": {
                                                    "fill": {
                                                        "color": "#C8D4E3"
                                                    },
                                                    "line": {
                                                        "color": "white"
                                                    }
                                                },
                                                "type": "table"
                                            }
                                        ],
                                        "barpolar": [
                                            {
                                                "marker": {
                                                    "line": {
                                                        "color": "#E5ECF6",
                                                        "width": 0.5
                                                    },
                                                    "pattern": {
                                                        "fillmode": "overlay",
                                                        "size": 10,
                                                        "solidity": 0.2
                                                    }
                                                },
                                                "type": "barpolar"
                                            }
                                        ],
                                        "pie": [
                                            {
                                                "automargin": true,
                                                "type": "pie"
                                            }
                                        ]
                                    },
                                    "layout": {
                                        "autotypenumbers": "strict",
                                        "colorway": [
                                            "#636efa",
                                            "#EF553B",
                                            "#00cc96",
                                            "#ab63fa",
                                            "#FFA15A",
                                            "#19d3f3",
                                            "#FF6692",
                                            "#B6E880",
                                            "#FF97FF",
                                            "#FECB52"
                                        ],
                                        "font": {
                                            "color": "#2a3f5f"
                                        },
                                        "hovermode": "closest",
                                        "hoverlabel": {
                                            "align": "left"
                                        },
                                        "paper_bgcolor": "white",
                                        "plot_bgcolor": "#E5ECF6",
                                        "polar": {
                                            "bgcolor": "#E5ECF6",
                                            "angularaxis": {
                                                "gridcolor": "white",
                                                "linecolor": "white",
                                                "ticks": ""
                                            },
                                            "radialaxis": {
                                                "gridcolor": "white",
                                                "linecolor": "white",
                                                "ticks": ""
                                            }
                                        },
                                        "ternary": {
                                            "bgcolor": "#E5ECF6",
                                            "aaxis": {
                                                "gridcolor": "white",
                                                "linecolor": "white",
                                                "ticks": ""
                                            },
                                            "baxis": {
                                                "gridcolor": "white",
                                                "linecolor": "white",
                                                "ticks": ""
                                            },
                                            "caxis": {
                                                "gridcolor": "white",
                                                "linecolor": "white",
                                                "ticks": ""
                                            }
                                        },
                                        "coloraxis": {
                                            "colorbar": {
                                                "outlinewidth": 0,
                                                "ticks": ""
                                            }
                                        },
                                        "colorscale": {
                                            "sequential": [
                                                [
                                                    0,
                                                    "#0d0887"
                                                ],
                                                [
                                                    0.1111111111111111,
                                                    "#46039f"
                                                ],
                                                [
                                                    0.2222222222222222,
                                                    "#7201a8"
                                                ],
                                                [
                                                    0.3333333333333333,
                                                    "#9c179e"
                                                ],
                                                [
                                                    0.4444444444444444,
                                                    "#bd3786"
                                                ],
                                                [
                                                    0.5555555555555556,
                                                    "#d8576b"
                                                ],
                                                [
                                                    0.6666666666666666,
                                                    "#ed7953"
                                                ],
                                                [
                                                    0.7777777777777778,
                                                    "#fb9f3a"
                                                ],
                                                [
                                                    0.8888888888888888,
                                                    "#fdca26"
                                                ],
                                                [
                                                    1,
                                                    "#f0f921"
                                                ]
                                            ],
                                            "sequentialminus": [
                                                [
                                                    0,
                                                    "#0d0887"
                                                ],
                                                [
                                                    0.1111111111111111,
                                                    "#46039f"
                                                ],
                                                [
                                                    0.2222222222222222,
                                                    "#7201a8"
                                                ],
                                                [
                                                    0.3333333333333333,
                                                    "#9c179e"
                                                ],
                                                [
                                                    0.4444444444444444,
                                                    "#bd3786"
                                                ],
                                                [
                                                    0.5555555555555556,
                                                    "#d8576b"
                                                ],
                                                [
                                                    0.6666666666666666,
                                                    "#ed7953"
                                                ],
                                                [
                                                    0.7777777777777778,
                                                    "#fb9f3a"
                                                ],
                                                [
                                                    0.8888888888888888,
                                                    "#fdca26"
                                                ],
                                                [
                                                    1,
                                                    "#f0f921"
                                                ]
                                            ],
                                            "diverging": [
                                                [
                                                    0,
                                                    "#8e0152"
                                                ],
                                                [
                                                    0.1,
                                                    "#c51b7d"
                                                ],
                                                [
                                                    0.2,
                                                    "#de77ae"
                                                ],
                                                [
                                                    0.3,
                                                    "#f1b6da"
                                                ],
                                                [
                                                    0.4,
                                                    "#fde0ef"
                                                ],
                                                [
                                                    0.5,
                                                    "#f7f7f7"
                                                ],
                                                [
                                                    0.6,
                                                    "#e6f5d0"
                                                ],
                                                [
                                                    0.7,
                                                    "#b8e186"
                                                ],
                                                [
                                                    0.8,
                                                    "#7fbc41"
                                                ],
                                                [
                                                    0.9,
                                                    "#4d9221"
                                                ],
                                                [
                                                    1,
                                                    "#276419"
                                                ]
                                            ]
                                        },
                                        "xaxis": {
                                            "gridcolor": "white",
                                            "linecolor": "white",
                                            "ticks": "",
                                            "title": {
                                                "standoff": 15
                                            },
                                            "zerolinecolor": "white",
                                            "automargin": true,
                                            "zerolinewidth": 2
                                        },
                                        "yaxis": {
                                            "gridcolor": "white",
                                            "linecolor": "white",
                                            "ticks": "",
                                            "title": {
                                                "standoff": 15
                                            },
                                            "zerolinecolor": "white",
                                            "automargin": true,
                                            "zerolinewidth": 2
                                        },
                                        "scene": {
                                            "xaxis": {
                                                "backgroundcolor": "#E5ECF6",
                                                "gridcolor": "white",
                                                "linecolor": "white",
                                                "showbackground": true,
                                                "ticks": "",
                                                "zerolinecolor": "white",
                                                "gridwidth": 2
                                            },
                                            "yaxis": {
                                                "backgroundcolor": "#E5ECF6",
                                                "gridcolor": "white",
                                                "linecolor": "white",
                                                "showbackground": true,
                                                "ticks": "",
                                                "zerolinecolor": "white",
                                                "gridwidth": 2
                                            },
                                            "zaxis": {
                                                "backgroundcolor": "#E5ECF6",
                                                "gridcolor": "white",
                                                "linecolor": "white",
                                                "showbackground": true,
                                                "ticks": "",
                                                "zerolinecolor": "white",
                                                "gridwidth": 2
                                            }
                                        },
                                        "shapedefaults": {
                                            "line": {
                                                "color": "#2a3f5f"
                                            }
                                        },
                                        "annotationdefaults": {
                                            "arrowcolor": "#2a3f5f",
                                            "arrowhead": 0,
                                            "arrowwidth": 1
                                        },
                                        "geo": {
                                            "bgcolor": "white",
                                            "landcolor": "#E5ECF6",
                                            "subunitcolor": "white",
                                            "showland": true,
                                            "showlakes": true,
                                            "lakecolor": "white"
                                        },
                                        "title": {
                                            "x": 0.05
                                        },
                                        "mapbox": {
                                            "style": "light"
                                        }
                                    }
                                },
                                "legend": {
                                    "tracegroupgap": 0
                                },
                                "title": {
                                    "text": "Revenue Breakdown by Product"
                                },
                                "margin": {
                                    "l": 0,
                                    "r": 0,
                                    "t": 0,
                                    "b": 0
                                },
                                "width": 700,
                                "height": 700
                            },
                            "config": {
                                "plotlyServerURL": "https://plot.ly"
                            }
                        }
                    },
                    "metadata": {}
                }
            ],
            "execution_count": 17
        },
        {
            "cell_type": "code",
            "source": [
                "product_query2 = '''\r\n",
                "-- Further Transformation\r\n",
                "WITH CTE_FactInternetSales\r\n",
                "AS (SELECT\r\n",
                "  ProductKey,\r\n",
                "  OrderDateKey,\r\n",
                "  DueDateKey,\r\n",
                "  ShipDateKey,\r\n",
                "  CustomerKey,\r\n",
                "  PromotionKey,\r\n",
                "  CurrencyKey,\r\n",
                "  SalesTerritoryKey,\r\n",
                "  SalesOrderNumber,\r\n",
                "  SalesAmount,\r\n",
                "  TotalProductCost,\r\n",
                "  TaxAmt,\r\n",
                "  Freight,\r\n",
                "  SalesAmount - TotalProductCost - TaxAmt - Freight AS Profit,\r\n",
                "  (SalesAmount - TotalProductCost - TaxAmt - Freight) / SalesAmount AS ProfitMargin,\r\n",
                "  CONVERT(date, OrderDate) AS OrderDate,\r\n",
                "  CONVERT(date, DueDate) AS DueDate,\r\n",
                "  CONVERT(date, ShipDate) AS ShipDate,\r\n",
                "  IIF(ShipDate > DueDate, 'Late', 'Normal') AS ShipStatus,\r\n",
                "  DATEDIFF(D, OrderDate, ShipDate) + 3 TimeToArrive,\r\n",
                "  DATEDIFF(D, OrderDate, ShipDate) TimeToShip\r\n",
                "FROM [AdventureWorksDW2017].dbo.FactInternetSales)\r\n",
                "-------------------------------------------------------------------------------------------------------------------------------------------------------\r\n",
                ",\r\n",
                "CTE_DimDate\r\n",
                "AS (SELECT\r\n",
                "  DateKey,\r\n",
                "  FullDateAlternateKey,\r\n",
                "  DayNumberOfWeek,\r\n",
                "  EnglishDayNameOfWeek,\r\n",
                "  DayNumberOfMonth,\r\n",
                "  DayNumberOfYear,\r\n",
                "  WeekNumberOfYear,\r\n",
                "  MonthNumberOfYear,\r\n",
                "  EnglishMonthName AS MonthName,\r\n",
                "  CalendarQuarter,\r\n",
                "  CalendarYear,\r\n",
                "  CalendarSemester,\r\n",
                "  FiscalYear FiscalQuarter,\r\n",
                "  FiscalSemester\r\n",
                "FROM [AdventureWorksDW2017].dbo.DimDate)\r\n",
                "-------------------------------------------------------------------------------------------------------------------------------------------------------\r\n",
                ",\r\n",
                "CTE_DimProduct\r\n",
                "AS (SELECT\r\n",
                "  ProductKey,\r\n",
                "  ProductAlternateKey,\r\n",
                "  EnglishProductName AS ProductName,\r\n",
                "  EnglishProductCategoryName AS CategoryName,\r\n",
                "  EnglishProductSubcategoryName AS SubcategoryName,\r\n",
                "  CASE\r\n",
                "    WHEN EnglishProductName LIKE '%,%' AND\r\n",
                "      EnglishProductCategoryName = 'Bikes' THEN LEFT(EnglishProductName, CHARINDEX(' ', EnglishProductName) - 1)\r\n",
                "    WHEN EnglishProductName LIKE '%,%' AND\r\n",
                "      EnglishProductSubcategoryName LIKE '%Frames%' THEN LEFT(EnglishProductName, CHARINDEX('-', EnglishProductName) - 1)\r\n",
                "    WHEN EnglishProductName LIKE '%,%' THEN LEFT(EnglishProductName, CHARINDEX(',', EnglishProductName) - 1)\r\n",
                "    WHEN EnglishProductName LIKE '%/%' THEN LEFT(EnglishProductName, CHARINDEX('/', EnglishProductName) - 1)\r\n",
                "    ELSE NULL\r\n",
                "  END AS ModelName,\r\n",
                "  SafetyStockLevel,\r\n",
                "  ReorderPoint,\r\n",
                "  Color,\r\n",
                "  SizeRange,\r\n",
                "  Weight\r\n",
                "FROM [AdventureWorksDW2017].dbo.DimProduct\r\n",
                "JOIN [AdventureWorksDW2017].dbo.DimProductSubcategory\r\n",
                "  ON DimProduct.ProductSubcategoryKey = DimProductSubcategory.ProductSubcategoryKey\r\n",
                "JOIN [AdventureWorksDW2017].dbo.DimProductCategory\r\n",
                "  ON DimProductSubcategory.ProductCategoryKey = DimProductCategory.ProductCategoryKey\r\n",
                "WHERE ListPrice IS NOT NULL)\r\n",
                "-------------------------------------------------------------------------------------------------------------------------------------------------------\r\n",
                "\r\n",
                "\r\n",
                "SELECT \r\n",
                "CalendarYear,\r\n",
                "ProductName,\r\n",
                "CategoryName,\r\n",
                "SubcategoryName,\r\n",
                "ModelName,\r\n",
                "CAST(ROUND(SUM(SalesAmount), 0) AS int)  as Revenue,\r\n",
                "CAST(ROUND(SUM(Profit), 0) AS int)  as Profit,\r\n",
                "CAST(ROUND(AVG(Profit),0) AS int) as AVGProfit,\r\n",
                "AVG(ProfitMargin) as ProfitMargin,\r\n",
                "COUNT(*) as QuantitySold\r\n",
                "FROM CTE_FactInternetSales\r\n",
                "JOIN CTE_DimProduct\r\n",
                "ON CTE_FactInternetSales.ProductKey = CTE_DimProduct.ProductKey\r\n",
                "JOIN CTE_DimDate\r\n",
                "ON CTE_FactInternetSales.OrderDateKey = CTE_DimDate.DateKey\r\n",
                "GROUP BY CalendarYear, ProductName,CategoryName, SubcategoryName, ModelName\r\n",
                "ORDER BY CalendarYear, Profit DESC\r\n",
                "''' \r\n",
                "df_product2 = pd.read_sql_query(product_query2, con=cnxn)"
            ],
            "metadata": {
                "azdata_cell_guid": "57393628-7f85-482e-bee0-724ff0598fe9",
                "tags": [
                    "hide_input"
                ]
            },
            "outputs": [
                {
                    "output_type": "stream",
                    "name": "stderr",
                    "text": "C:\\Users\\minhbpham\\AppData\\Local\\Temp\\ipykernel_5068\\2375437123.py:97: UserWarning:\n\npandas only supports SQLAlchemy connectable (engine/connection) or database string URI or sqlite3 DBAPI2 connection. Other DBAPI2 objects are not tested. Please consider using SQLAlchemy.\n\n"
                }
            ],
            "execution_count": 18
        },
        {
            "cell_type": "code",
            "source": [
                "df_product2 = df_product2.fillna('NA')\r\n",
                "\r\n",
                "# Prompt the user to select a number\r\n",
                "print(\"Please select a number:\")\r\n",
                "print(\"1. Revenue\")\r\n",
                "print(\"2. Profit\")\r\n",
                "print(\"3. AVGProfit\")\r\n",
                "print(\"4. ProfitMargin\")\r\n",
                "print(\"5. QuantitySold\")\r\n",
                "\r\n",
                "# Get user input for the selected number\r\n",
                "selected_number = int(input(\"Enter the number corresponding to your choice: \"))\r\n",
                "\r\n",
                "# Map the selected number to the column names\r\n",
                "column_mapping = {\r\n",
                "    1: 'Revenue',\r\n",
                "    2: 'Profit',\r\n",
                "    3: 'AVGProfit',\r\n",
                "    4: 'ProfitMargin',\r\n",
                "    5: 'QuantitySold'\r\n",
                "}\r\n",
                "\r\n",
                "# Check if the selected number is valid\r\n",
                "if selected_number not in column_mapping.keys():\r\n",
                "    print(\"Invalid number selected. Please choose from the provided options.\")\r\n",
                "else:\r\n",
                "    selected_column = column_mapping[selected_number]\r\n",
                "\r\n",
                "    # Calculate the percentage dynamically based on the selected column\r\n",
                "    df_product2['RevenuePercentage'] = df_product2[selected_column] / df_product2[selected_column].sum() * 100\r\n",
                "\r\n",
                "    # Create the sunburst chart with the selected column and include the year in the path\r\n",
                "    fig = px.sunburst(df_product2, path=['CalendarYear', 'CategoryName', 'SubcategoryName', 'ModelName'], values=selected_column,\r\n",
                "                      custom_data=['RevenuePercentage'], title=f'{selected_column} Breakdown by Product')\r\n",
                "    fig.update_traces(textinfo='label+percent entry', insidetextorientation='radial')\r\n",
                "    fig.update_layout(margin=dict(l=0, r=0, t=0, b=0), width=700, height=700)\r\n",
                "    fig.show()\r\n",
                ""
            ],
            "metadata": {
                "azdata_cell_guid": "c384f48b-8e9b-4644-986a-fbf37bb03e04",
                "tags": [
                    "hide_input"
                ]
            },
            "outputs": [
                {
                    "output_type": "stream",
                    "name": "stdout",
                    "text": "Please select a number:\n1. Revenue\n2. Profit\n3. AVGProfit\n4. ProfitMargin\n5. QuantitySold\n"
                },
                {
                    "output_type": "display_data",
                    "data": {
                        "application/vnd.plotly.v1+json": {
                            "data": [
                                {
                                    "branchvalues": "total",
                                    "customdata": [
                                        [
                                            0.00021799339262026967
                                        ],
                                        [
                                            "(?)"
                                        ],
                                        [
                                            "(?)"
                                        ],
                                        [
                                            0.00008174752223260112
                                        ],
                                        [
                                            "(?)"
                                        ],
                                        [
                                            "(?)"
                                        ],
                                        [
                                            "(?)"
                                        ],
                                        [
                                            "(?)"
                                        ],
                                        [
                                            "(?)"
                                        ],
                                        [
                                            "(?)"
                                        ],
                                        [
                                            "(?)"
                                        ],
                                        [
                                            "(?)"
                                        ],
                                        [
                                            "(?)"
                                        ],
                                        [
                                            "(?)"
                                        ],
                                        [
                                            0.002619326858202928
                                        ],
                                        [
                                            "(?)"
                                        ],
                                        [
                                            "(?)"
                                        ],
                                        [
                                            "(?)"
                                        ],
                                        [
                                            0.12589118423820575
                                        ],
                                        [
                                            0.008174752223260114
                                        ],
                                        [
                                            0.0005415773347909825
                                        ],
                                        [
                                            0.12835382834546286
                                        ],
                                        [
                                            0.0059573506827008075
                                        ],
                                        [
                                            "(?)"
                                        ],
                                        [
                                            "(?)"
                                        ],
                                        [
                                            "(?)"
                                        ],
                                        [
                                            0.0002452425666978034
                                        ],
                                        [
                                            0.06427398935538263
                                        ],
                                        [
                                            0.0025409854827300187
                                        ],
                                        [
                                            0.023533067962710052
                                        ],
                                        [
                                            0.0010559054955044313
                                        ],
                                        [
                                            0.0003746761435660885
                                        ],
                                        [
                                            0.15138278658773854
                                        ],
                                        [
                                            0.00703709920552308
                                        ],
                                        [
                                            0.0003746761435660885
                                        ],
                                        [
                                            0.1326115117950775
                                        ],
                                        [
                                            0.0043087756510100175
                                        ],
                                        [
                                            "(?)"
                                        ],
                                        [
                                            "(?)"
                                        ],
                                        [
                                            "(?)"
                                        ],
                                        [
                                            0.00003065532083722542
                                        ],
                                        [
                                            0.023604597044663576
                                        ],
                                        [
                                            0.0012568681543262425
                                        ],
                                        [
                                            0.00006131064167445085
                                        ],
                                        [
                                            "(?)"
                                        ],
                                        [
                                            "(?)"
                                        ],
                                        [
                                            "(?)"
                                        ],
                                        [
                                            "(?)"
                                        ],
                                        [
                                            "(?)"
                                        ],
                                        [
                                            "(?)"
                                        ],
                                        [
                                            "(?)"
                                        ],
                                        [
                                            "(?)"
                                        ],
                                        [
                                            "(?)"
                                        ],
                                        [
                                            0.0034061467596917137
                                        ],
                                        [
                                            "(?)"
                                        ],
                                        [
                                            "(?)"
                                        ],
                                        [
                                            0.002380896585024508
                                        ],
                                        [
                                            "(?)"
                                        ],
                                        [
                                            "(?)"
                                        ],
                                        [
                                            "(?)"
                                        ],
                                        [
                                            "(?)"
                                        ],
                                        [
                                            "(?)"
                                        ],
                                        [
                                            "(?)"
                                        ],
                                        [
                                            "(?)"
                                        ],
                                        [
                                            "(?)"
                                        ],
                                        [
                                            "(?)"
                                        ],
                                        [
                                            "(?)"
                                        ],
                                        [
                                            "(?)"
                                        ],
                                        [
                                            "(?)"
                                        ],
                                        [
                                            "(?)"
                                        ],
                                        [
                                            "(?)"
                                        ],
                                        [
                                            "(?)"
                                        ],
                                        [
                                            "(?)"
                                        ],
                                        [
                                            "(?)"
                                        ],
                                        [
                                            "(?)"
                                        ],
                                        [
                                            0.12589118423820575
                                        ],
                                        [
                                            0.008174752223260114
                                        ],
                                        [
                                            0.0005415773347909825
                                        ],
                                        [
                                            0.12835382834546286
                                        ],
                                        [
                                            0.0059573506827008075
                                        ],
                                        [
                                            "(?)"
                                        ],
                                        [
                                            "(?)"
                                        ],
                                        [
                                            "(?)"
                                        ],
                                        [
                                            0.0002452425666978034
                                        ],
                                        [
                                            0.06427398935538263
                                        ],
                                        [
                                            0.0025409854827300187
                                        ],
                                        [
                                            0.023533067962710052
                                        ],
                                        [
                                            0.0010559054955044313
                                        ],
                                        [
                                            0.0003746761435660885
                                        ],
                                        [
                                            0.15138278658773854
                                        ],
                                        [
                                            0.00703709920552308
                                        ],
                                        [
                                            0.00008174752223260112
                                        ],
                                        [
                                            "(?)"
                                        ],
                                        [
                                            "(?)"
                                        ],
                                        [
                                            "(?)"
                                        ],
                                        [
                                            "(?)"
                                        ],
                                        [
                                            "(?)"
                                        ],
                                        [
                                            0.0003746761435660885
                                        ],
                                        [
                                            0.1326115117950775
                                        ],
                                        [
                                            0.0043087756510100175
                                        ],
                                        [
                                            "(?)"
                                        ],
                                        [
                                            "(?)"
                                        ],
                                        [
                                            "(?)"
                                        ],
                                        [
                                            "(?)"
                                        ],
                                        [
                                            "(?)"
                                        ],
                                        [
                                            "(?)"
                                        ],
                                        [
                                            "(?)"
                                        ],
                                        [
                                            "(?)"
                                        ],
                                        [
                                            "(?)"
                                        ],
                                        [
                                            "(?)"
                                        ],
                                        [
                                            "(?)"
                                        ],
                                        [
                                            "(?)"
                                        ],
                                        [
                                            "(?)"
                                        ],
                                        [
                                            0.00006131064167445085
                                        ],
                                        [
                                            "(?)"
                                        ],
                                        [
                                            "(?)"
                                        ],
                                        [
                                            "(?)"
                                        ],
                                        [
                                            "(?)"
                                        ],
                                        [
                                            "(?)"
                                        ],
                                        [
                                            "(?)"
                                        ],
                                        [
                                            "(?)"
                                        ],
                                        [
                                            0.00021799339262026967
                                        ],
                                        [
                                            "(?)"
                                        ],
                                        [
                                            "(?)"
                                        ],
                                        [
                                            "(?)"
                                        ],
                                        [
                                            "(?)"
                                        ],
                                        [
                                            "(?)"
                                        ],
                                        [
                                            "(?)"
                                        ],
                                        [
                                            "(?)"
                                        ],
                                        [
                                            "(?)"
                                        ],
                                        [
                                            "(?)"
                                        ],
                                        [
                                            "(?)"
                                        ],
                                        [
                                            "(?)"
                                        ],
                                        [
                                            "(?)"
                                        ],
                                        [
                                            "(?)"
                                        ],
                                        [
                                            "(?)"
                                        ],
                                        [
                                            "(?)"
                                        ],
                                        [
                                            "(?)"
                                        ],
                                        [
                                            "(?)"
                                        ]
                                    ],
                                    "domain": {
                                        "x": [
                                            0,
                                            1
                                        ],
                                        "y": [
                                            0,
                                            1
                                        ]
                                    },
                                    "hovertemplate": "labels=%{label}<br>Revenue=%{value}<br>parent=%{parent}<br>id=%{id}<extra></extra>",
                                    "ids": [
                                        "2012/Clothing/Vests/Classic Vest",
                                        "2013/Clothing/Vests/Classic Vest",
                                        "2014/Clothing/Vests/Classic Vest",
                                        "2012/Clothing/Gloves/Half-Finger Gloves",
                                        "2013/Clothing/Gloves/Half-Finger Gloves",
                                        "2014/Clothing/Gloves/Half-Finger Gloves",
                                        "2012/Clothing/Jerseys/Long-Sleeve Logo Jersey",
                                        "2013/Clothing/Jerseys/Long-Sleeve Logo Jersey",
                                        "2014/Clothing/Jerseys/Long-Sleeve Logo Jersey",
                                        "2010/Bikes/Mountain Bikes/Mountain-100",
                                        "2011/Bikes/Mountain Bikes/Mountain-100",
                                        "2011/Bikes/Mountain Bikes/Mountain-200",
                                        "2012/Bikes/Mountain Bikes/Mountain-200",
                                        "2013/Bikes/Mountain Bikes/Mountain-200",
                                        "2012/Bikes/Mountain Bikes/Mountain-400-W",
                                        "2013/Bikes/Mountain Bikes/Mountain-400-W",
                                        "2012/Bikes/Mountain Bikes/Mountain-500",
                                        "2013/Bikes/Mountain Bikes/Mountain-500",
                                        "2013/Accessories/Bike Racks/NA",
                                        "2014/Accessories/Bike Racks/NA",
                                        "2012/Accessories/Bike Stands/NA",
                                        "2013/Accessories/Bike Stands/NA",
                                        "2014/Accessories/Bike Stands/NA",
                                        "2012/Accessories/Bottles and Cages/NA",
                                        "2013/Accessories/Bottles and Cages/NA",
                                        "2014/Accessories/Bottles and Cages/NA",
                                        "2012/Clothing/Caps/NA",
                                        "2013/Clothing/Caps/NA",
                                        "2014/Clothing/Caps/NA",
                                        "2013/Accessories/Cleaners/NA",
                                        "2014/Accessories/Cleaners/NA",
                                        "2012/Accessories/Fenders/NA",
                                        "2013/Accessories/Fenders/NA",
                                        "2014/Accessories/Fenders/NA",
                                        "2012/Accessories/Hydration Packs/NA",
                                        "2013/Accessories/Hydration Packs/NA",
                                        "2014/Accessories/Hydration Packs/NA",
                                        "2012/Accessories/Tires and Tubes/NA",
                                        "2013/Accessories/Tires and Tubes/NA",
                                        "2014/Accessories/Tires and Tubes/NA",
                                        "2012/Accessories/Tires and Tubes/Patch Kit",
                                        "2013/Accessories/Tires and Tubes/Patch Kit",
                                        "2014/Accessories/Tires and Tubes/Patch Kit",
                                        "2012/Clothing/Socks/Racing Socks",
                                        "2013/Clothing/Socks/Racing Socks",
                                        "2014/Clothing/Socks/Racing Socks",
                                        "2010/Bikes/Road Bikes/Road-150",
                                        "2011/Bikes/Road Bikes/Road-150",
                                        "2011/Bikes/Road Bikes/Road-250",
                                        "2012/Bikes/Road Bikes/Road-250",
                                        "2013/Bikes/Road Bikes/Road-250",
                                        "2012/Bikes/Road Bikes/Road-350-W",
                                        "2013/Bikes/Road Bikes/Road-350-W",
                                        "2011/Bikes/Road Bikes/Road-550-W",
                                        "2012/Bikes/Road Bikes/Road-550-W",
                                        "2013/Bikes/Road Bikes/Road-550-W",
                                        "2010/Bikes/Road Bikes/Road-650",
                                        "2011/Bikes/Road Bikes/Road-650",
                                        "2012/Bikes/Road Bikes/Road-650",
                                        "2012/Bikes/Road Bikes/Road-750",
                                        "2013/Bikes/Road Bikes/Road-750",
                                        "2012/Clothing/Jerseys/Short-Sleeve Classic Jersey",
                                        "2013/Clothing/Jerseys/Short-Sleeve Classic Jersey",
                                        "2014/Clothing/Jerseys/Short-Sleeve Classic Jersey",
                                        "2012/Accessories/Helmets/Sport-100 Helmet",
                                        "2013/Accessories/Helmets/Sport-100 Helmet",
                                        "2014/Accessories/Helmets/Sport-100 Helmet",
                                        "2012/Bikes/Touring Bikes/Touring-1000",
                                        "2013/Bikes/Touring Bikes/Touring-1000",
                                        "2012/Bikes/Touring Bikes/Touring-2000",
                                        "2013/Bikes/Touring Bikes/Touring-2000",
                                        "2012/Bikes/Touring Bikes/Touring-3000",
                                        "2013/Bikes/Touring Bikes/Touring-3000",
                                        "2013/Clothing/Shorts/Women's Mountain Shorts",
                                        "2014/Clothing/Shorts/Women's Mountain Shorts",
                                        "2013/Accessories/Bike Racks",
                                        "2014/Accessories/Bike Racks",
                                        "2012/Accessories/Bike Stands",
                                        "2013/Accessories/Bike Stands",
                                        "2014/Accessories/Bike Stands",
                                        "2012/Accessories/Bottles and Cages",
                                        "2013/Accessories/Bottles and Cages",
                                        "2014/Accessories/Bottles and Cages",
                                        "2012/Clothing/Caps",
                                        "2013/Clothing/Caps",
                                        "2014/Clothing/Caps",
                                        "2013/Accessories/Cleaners",
                                        "2014/Accessories/Cleaners",
                                        "2012/Accessories/Fenders",
                                        "2013/Accessories/Fenders",
                                        "2014/Accessories/Fenders",
                                        "2012/Clothing/Gloves",
                                        "2013/Clothing/Gloves",
                                        "2014/Clothing/Gloves",
                                        "2012/Accessories/Helmets",
                                        "2013/Accessories/Helmets",
                                        "2014/Accessories/Helmets",
                                        "2012/Accessories/Hydration Packs",
                                        "2013/Accessories/Hydration Packs",
                                        "2014/Accessories/Hydration Packs",
                                        "2012/Clothing/Jerseys",
                                        "2013/Clothing/Jerseys",
                                        "2014/Clothing/Jerseys",
                                        "2010/Bikes/Mountain Bikes",
                                        "2011/Bikes/Mountain Bikes",
                                        "2012/Bikes/Mountain Bikes",
                                        "2013/Bikes/Mountain Bikes",
                                        "2010/Bikes/Road Bikes",
                                        "2011/Bikes/Road Bikes",
                                        "2012/Bikes/Road Bikes",
                                        "2013/Bikes/Road Bikes",
                                        "2013/Clothing/Shorts",
                                        "2014/Clothing/Shorts",
                                        "2012/Clothing/Socks",
                                        "2013/Clothing/Socks",
                                        "2014/Clothing/Socks",
                                        "2012/Accessories/Tires and Tubes",
                                        "2013/Accessories/Tires and Tubes",
                                        "2014/Accessories/Tires and Tubes",
                                        "2012/Bikes/Touring Bikes",
                                        "2013/Bikes/Touring Bikes",
                                        "2012/Clothing/Vests",
                                        "2013/Clothing/Vests",
                                        "2014/Clothing/Vests",
                                        "2012/Accessories",
                                        "2013/Accessories",
                                        "2014/Accessories",
                                        "2010/Bikes",
                                        "2011/Bikes",
                                        "2012/Bikes",
                                        "2013/Bikes",
                                        "2012/Clothing",
                                        "2013/Clothing",
                                        "2014/Clothing",
                                        "2010",
                                        "2011",
                                        "2012",
                                        "2013",
                                        "2014"
                                    ],
                                    "labels": [
                                        "Classic Vest",
                                        "Classic Vest",
                                        "Classic Vest",
                                        "Half-Finger Gloves",
                                        "Half-Finger Gloves",
                                        "Half-Finger Gloves",
                                        "Long-Sleeve Logo Jersey",
                                        "Long-Sleeve Logo Jersey",
                                        "Long-Sleeve Logo Jersey",
                                        "Mountain-100",
                                        "Mountain-100",
                                        "Mountain-200",
                                        "Mountain-200",
                                        "Mountain-200",
                                        "Mountain-400-W",
                                        "Mountain-400-W",
                                        "Mountain-500",
                                        "Mountain-500",
                                        "NA",
                                        "NA",
                                        "NA",
                                        "NA",
                                        "NA",
                                        "NA",
                                        "NA",
                                        "NA",
                                        "NA",
                                        "NA",
                                        "NA",
                                        "NA",
                                        "NA",
                                        "NA",
                                        "NA",
                                        "NA",
                                        "NA",
                                        "NA",
                                        "NA",
                                        "NA",
                                        "NA",
                                        "NA",
                                        "Patch Kit",
                                        "Patch Kit",
                                        "Patch Kit",
                                        "Racing Socks",
                                        "Racing Socks",
                                        "Racing Socks",
                                        "Road-150",
                                        "Road-150",
                                        "Road-250",
                                        "Road-250",
                                        "Road-250",
                                        "Road-350-W",
                                        "Road-350-W",
                                        "Road-550-W",
                                        "Road-550-W",
                                        "Road-550-W",
                                        "Road-650",
                                        "Road-650",
                                        "Road-650",
                                        "Road-750",
                                        "Road-750",
                                        "Short-Sleeve Classic Jersey",
                                        "Short-Sleeve Classic Jersey",
                                        "Short-Sleeve Classic Jersey",
                                        "Sport-100 Helmet",
                                        "Sport-100 Helmet",
                                        "Sport-100 Helmet",
                                        "Touring-1000",
                                        "Touring-1000",
                                        "Touring-2000",
                                        "Touring-2000",
                                        "Touring-3000",
                                        "Touring-3000",
                                        "Women's Mountain Shorts",
                                        "Women's Mountain Shorts",
                                        "Bike Racks",
                                        "Bike Racks",
                                        "Bike Stands",
                                        "Bike Stands",
                                        "Bike Stands",
                                        "Bottles and Cages",
                                        "Bottles and Cages",
                                        "Bottles and Cages",
                                        "Caps",
                                        "Caps",
                                        "Caps",
                                        "Cleaners",
                                        "Cleaners",
                                        "Fenders",
                                        "Fenders",
                                        "Fenders",
                                        "Gloves",
                                        "Gloves",
                                        "Gloves",
                                        "Helmets",
                                        "Helmets",
                                        "Helmets",
                                        "Hydration Packs",
                                        "Hydration Packs",
                                        "Hydration Packs",
                                        "Jerseys",
                                        "Jerseys",
                                        "Jerseys",
                                        "Mountain Bikes",
                                        "Mountain Bikes",
                                        "Mountain Bikes",
                                        "Mountain Bikes",
                                        "Road Bikes",
                                        "Road Bikes",
                                        "Road Bikes",
                                        "Road Bikes",
                                        "Shorts",
                                        "Shorts",
                                        "Socks",
                                        "Socks",
                                        "Socks",
                                        "Tires and Tubes",
                                        "Tires and Tubes",
                                        "Tires and Tubes",
                                        "Touring Bikes",
                                        "Touring Bikes",
                                        "Vests",
                                        "Vests",
                                        "Vests",
                                        "Accessories",
                                        "Accessories",
                                        "Accessories",
                                        "Bikes",
                                        "Bikes",
                                        "Bikes",
                                        "Bikes",
                                        "Clothing",
                                        "Clothing",
                                        "Clothing",
                                        "2010",
                                        "2011",
                                        "2012",
                                        "2013",
                                        "2014"
                                    ],
                                    "name": "",
                                    "parents": [
                                        "2012/Clothing/Vests",
                                        "2013/Clothing/Vests",
                                        "2014/Clothing/Vests",
                                        "2012/Clothing/Gloves",
                                        "2013/Clothing/Gloves",
                                        "2014/Clothing/Gloves",
                                        "2012/Clothing/Jerseys",
                                        "2013/Clothing/Jerseys",
                                        "2014/Clothing/Jerseys",
                                        "2010/Bikes/Mountain Bikes",
                                        "2011/Bikes/Mountain Bikes",
                                        "2011/Bikes/Mountain Bikes",
                                        "2012/Bikes/Mountain Bikes",
                                        "2013/Bikes/Mountain Bikes",
                                        "2012/Bikes/Mountain Bikes",
                                        "2013/Bikes/Mountain Bikes",
                                        "2012/Bikes/Mountain Bikes",
                                        "2013/Bikes/Mountain Bikes",
                                        "2013/Accessories/Bike Racks",
                                        "2014/Accessories/Bike Racks",
                                        "2012/Accessories/Bike Stands",
                                        "2013/Accessories/Bike Stands",
                                        "2014/Accessories/Bike Stands",
                                        "2012/Accessories/Bottles and Cages",
                                        "2013/Accessories/Bottles and Cages",
                                        "2014/Accessories/Bottles and Cages",
                                        "2012/Clothing/Caps",
                                        "2013/Clothing/Caps",
                                        "2014/Clothing/Caps",
                                        "2013/Accessories/Cleaners",
                                        "2014/Accessories/Cleaners",
                                        "2012/Accessories/Fenders",
                                        "2013/Accessories/Fenders",
                                        "2014/Accessories/Fenders",
                                        "2012/Accessories/Hydration Packs",
                                        "2013/Accessories/Hydration Packs",
                                        "2014/Accessories/Hydration Packs",
                                        "2012/Accessories/Tires and Tubes",
                                        "2013/Accessories/Tires and Tubes",
                                        "2014/Accessories/Tires and Tubes",
                                        "2012/Accessories/Tires and Tubes",
                                        "2013/Accessories/Tires and Tubes",
                                        "2014/Accessories/Tires and Tubes",
                                        "2012/Clothing/Socks",
                                        "2013/Clothing/Socks",
                                        "2014/Clothing/Socks",
                                        "2010/Bikes/Road Bikes",
                                        "2011/Bikes/Road Bikes",
                                        "2011/Bikes/Road Bikes",
                                        "2012/Bikes/Road Bikes",
                                        "2013/Bikes/Road Bikes",
                                        "2012/Bikes/Road Bikes",
                                        "2013/Bikes/Road Bikes",
                                        "2011/Bikes/Road Bikes",
                                        "2012/Bikes/Road Bikes",
                                        "2013/Bikes/Road Bikes",
                                        "2010/Bikes/Road Bikes",
                                        "2011/Bikes/Road Bikes",
                                        "2012/Bikes/Road Bikes",
                                        "2012/Bikes/Road Bikes",
                                        "2013/Bikes/Road Bikes",
                                        "2012/Clothing/Jerseys",
                                        "2013/Clothing/Jerseys",
                                        "2014/Clothing/Jerseys",
                                        "2012/Accessories/Helmets",
                                        "2013/Accessories/Helmets",
                                        "2014/Accessories/Helmets",
                                        "2012/Bikes/Touring Bikes",
                                        "2013/Bikes/Touring Bikes",
                                        "2012/Bikes/Touring Bikes",
                                        "2013/Bikes/Touring Bikes",
                                        "2012/Bikes/Touring Bikes",
                                        "2013/Bikes/Touring Bikes",
                                        "2013/Clothing/Shorts",
                                        "2014/Clothing/Shorts",
                                        "2013/Accessories",
                                        "2014/Accessories",
                                        "2012/Accessories",
                                        "2013/Accessories",
                                        "2014/Accessories",
                                        "2012/Accessories",
                                        "2013/Accessories",
                                        "2014/Accessories",
                                        "2012/Clothing",
                                        "2013/Clothing",
                                        "2014/Clothing",
                                        "2013/Accessories",
                                        "2014/Accessories",
                                        "2012/Accessories",
                                        "2013/Accessories",
                                        "2014/Accessories",
                                        "2012/Clothing",
                                        "2013/Clothing",
                                        "2014/Clothing",
                                        "2012/Accessories",
                                        "2013/Accessories",
                                        "2014/Accessories",
                                        "2012/Accessories",
                                        "2013/Accessories",
                                        "2014/Accessories",
                                        "2012/Clothing",
                                        "2013/Clothing",
                                        "2014/Clothing",
                                        "2010/Bikes",
                                        "2011/Bikes",
                                        "2012/Bikes",
                                        "2013/Bikes",
                                        "2010/Bikes",
                                        "2011/Bikes",
                                        "2012/Bikes",
                                        "2013/Bikes",
                                        "2013/Clothing",
                                        "2014/Clothing",
                                        "2012/Clothing",
                                        "2013/Clothing",
                                        "2014/Clothing",
                                        "2012/Accessories",
                                        "2013/Accessories",
                                        "2014/Accessories",
                                        "2012/Bikes",
                                        "2013/Bikes",
                                        "2012/Clothing",
                                        "2013/Clothing",
                                        "2014/Clothing",
                                        "2012",
                                        "2013",
                                        "2014",
                                        "2010",
                                        "2011",
                                        "2012",
                                        "2013",
                                        "2012",
                                        "2013",
                                        "2014",
                                        "",
                                        "",
                                        "",
                                        "",
                                        ""
                                    ],
                                    "values": [
                                        64,
                                        33720,
                                        1905,
                                        72,
                                        33379,
                                        1567,
                                        200,
                                        82484,
                                        4100,
                                        16975,
                                        1324147,
                                        8218,
                                        2261546,
                                        5659711,
                                        769,
                                        417064,
                                        1105,
                                        263228,
                                        36960,
                                        2400,
                                        159,
                                        37683,
                                        1749,
                                        281,
                                        55009,
                                        1509,
                                        72,
                                        18870,
                                        746,
                                        6909,
                                        310,
                                        110,
                                        44444,
                                        2066,
                                        110,
                                        38933,
                                        1265,
                                        568,
                                        225347,
                                        12306,
                                        9,
                                        6930,
                                        369,
                                        18,
                                        4863,
                                        225,
                                        25048,
                                        5524848,
                                        34295,
                                        2718839,
                                        1698128,
                                        8505,
                                        1571716,
                                        2000,
                                        359637,
                                        1152984,
                                        1398,
                                        182019,
                                        461965,
                                        5940,
                                        773265,
                                        216,
                                        83090,
                                        2862,
                                        910,
                                        216029,
                                        8397,
                                        14304,
                                        2977702,
                                        4860,
                                        447065,
                                        2227,
                                        398644,
                                        67401,
                                        3920,
                                        36960,
                                        2400,
                                        159,
                                        37683,
                                        1749,
                                        281,
                                        55009,
                                        1509,
                                        72,
                                        18870,
                                        746,
                                        6909,
                                        310,
                                        110,
                                        44444,
                                        2066,
                                        72,
                                        33379,
                                        1567,
                                        910,
                                        216029,
                                        8397,
                                        110,
                                        38933,
                                        1265,
                                        416,
                                        165574,
                                        6962,
                                        16975,
                                        1332365,
                                        2263420,
                                        6340003,
                                        26446,
                                        5743162,
                                        3554886,
                                        5196093,
                                        67401,
                                        3920,
                                        18,
                                        4863,
                                        225,
                                        577,
                                        232277,
                                        12675,
                                        21391,
                                        3823411,
                                        64,
                                        33720,
                                        1905,
                                        2147,
                                        668244,
                                        30371,
                                        43421,
                                        7075527,
                                        5839697,
                                        15359507,
                                        642,
                                        323807,
                                        15325,
                                        43421,
                                        7075527,
                                        5842486,
                                        16351558,
                                        45696
                                    ],
                                    "type": "sunburst",
                                    "insidetextorientation": "radial",
                                    "textinfo": "label+percent entry"
                                }
                            ],
                            "layout": {
                                "template": {
                                    "data": {
                                        "histogram2dcontour": [
                                            {
                                                "type": "histogram2dcontour",
                                                "colorbar": {
                                                    "outlinewidth": 0,
                                                    "ticks": ""
                                                },
                                                "colorscale": [
                                                    [
                                                        0,
                                                        "#0d0887"
                                                    ],
                                                    [
                                                        0.1111111111111111,
                                                        "#46039f"
                                                    ],
                                                    [
                                                        0.2222222222222222,
                                                        "#7201a8"
                                                    ],
                                                    [
                                                        0.3333333333333333,
                                                        "#9c179e"
                                                    ],
                                                    [
                                                        0.4444444444444444,
                                                        "#bd3786"
                                                    ],
                                                    [
                                                        0.5555555555555556,
                                                        "#d8576b"
                                                    ],
                                                    [
                                                        0.6666666666666666,
                                                        "#ed7953"
                                                    ],
                                                    [
                                                        0.7777777777777778,
                                                        "#fb9f3a"
                                                    ],
                                                    [
                                                        0.8888888888888888,
                                                        "#fdca26"
                                                    ],
                                                    [
                                                        1,
                                                        "#f0f921"
                                                    ]
                                                ]
                                            }
                                        ],
                                        "choropleth": [
                                            {
                                                "type": "choropleth",
                                                "colorbar": {
                                                    "outlinewidth": 0,
                                                    "ticks": ""
                                                }
                                            }
                                        ],
                                        "histogram2d": [
                                            {
                                                "type": "histogram2d",
                                                "colorbar": {
                                                    "outlinewidth": 0,
                                                    "ticks": ""
                                                },
                                                "colorscale": [
                                                    [
                                                        0,
                                                        "#0d0887"
                                                    ],
                                                    [
                                                        0.1111111111111111,
                                                        "#46039f"
                                                    ],
                                                    [
                                                        0.2222222222222222,
                                                        "#7201a8"
                                                    ],
                                                    [
                                                        0.3333333333333333,
                                                        "#9c179e"
                                                    ],
                                                    [
                                                        0.4444444444444444,
                                                        "#bd3786"
                                                    ],
                                                    [
                                                        0.5555555555555556,
                                                        "#d8576b"
                                                    ],
                                                    [
                                                        0.6666666666666666,
                                                        "#ed7953"
                                                    ],
                                                    [
                                                        0.7777777777777778,
                                                        "#fb9f3a"
                                                    ],
                                                    [
                                                        0.8888888888888888,
                                                        "#fdca26"
                                                    ],
                                                    [
                                                        1,
                                                        "#f0f921"
                                                    ]
                                                ]
                                            }
                                        ],
                                        "heatmap": [
                                            {
                                                "type": "heatmap",
                                                "colorbar": {
                                                    "outlinewidth": 0,
                                                    "ticks": ""
                                                },
                                                "colorscale": [
                                                    [
                                                        0,
                                                        "#0d0887"
                                                    ],
                                                    [
                                                        0.1111111111111111,
                                                        "#46039f"
                                                    ],
                                                    [
                                                        0.2222222222222222,
                                                        "#7201a8"
                                                    ],
                                                    [
                                                        0.3333333333333333,
                                                        "#9c179e"
                                                    ],
                                                    [
                                                        0.4444444444444444,
                                                        "#bd3786"
                                                    ],
                                                    [
                                                        0.5555555555555556,
                                                        "#d8576b"
                                                    ],
                                                    [
                                                        0.6666666666666666,
                                                        "#ed7953"
                                                    ],
                                                    [
                                                        0.7777777777777778,
                                                        "#fb9f3a"
                                                    ],
                                                    [
                                                        0.8888888888888888,
                                                        "#fdca26"
                                                    ],
                                                    [
                                                        1,
                                                        "#f0f921"
                                                    ]
                                                ]
                                            }
                                        ],
                                        "heatmapgl": [
                                            {
                                                "type": "heatmapgl",
                                                "colorbar": {
                                                    "outlinewidth": 0,
                                                    "ticks": ""
                                                },
                                                "colorscale": [
                                                    [
                                                        0,
                                                        "#0d0887"
                                                    ],
                                                    [
                                                        0.1111111111111111,
                                                        "#46039f"
                                                    ],
                                                    [
                                                        0.2222222222222222,
                                                        "#7201a8"
                                                    ],
                                                    [
                                                        0.3333333333333333,
                                                        "#9c179e"
                                                    ],
                                                    [
                                                        0.4444444444444444,
                                                        "#bd3786"
                                                    ],
                                                    [
                                                        0.5555555555555556,
                                                        "#d8576b"
                                                    ],
                                                    [
                                                        0.6666666666666666,
                                                        "#ed7953"
                                                    ],
                                                    [
                                                        0.7777777777777778,
                                                        "#fb9f3a"
                                                    ],
                                                    [
                                                        0.8888888888888888,
                                                        "#fdca26"
                                                    ],
                                                    [
                                                        1,
                                                        "#f0f921"
                                                    ]
                                                ]
                                            }
                                        ],
                                        "contourcarpet": [
                                            {
                                                "type": "contourcarpet",
                                                "colorbar": {
                                                    "outlinewidth": 0,
                                                    "ticks": ""
                                                }
                                            }
                                        ],
                                        "contour": [
                                            {
                                                "type": "contour",
                                                "colorbar": {
                                                    "outlinewidth": 0,
                                                    "ticks": ""
                                                },
                                                "colorscale": [
                                                    [
                                                        0,
                                                        "#0d0887"
                                                    ],
                                                    [
                                                        0.1111111111111111,
                                                        "#46039f"
                                                    ],
                                                    [
                                                        0.2222222222222222,
                                                        "#7201a8"
                                                    ],
                                                    [
                                                        0.3333333333333333,
                                                        "#9c179e"
                                                    ],
                                                    [
                                                        0.4444444444444444,
                                                        "#bd3786"
                                                    ],
                                                    [
                                                        0.5555555555555556,
                                                        "#d8576b"
                                                    ],
                                                    [
                                                        0.6666666666666666,
                                                        "#ed7953"
                                                    ],
                                                    [
                                                        0.7777777777777778,
                                                        "#fb9f3a"
                                                    ],
                                                    [
                                                        0.8888888888888888,
                                                        "#fdca26"
                                                    ],
                                                    [
                                                        1,
                                                        "#f0f921"
                                                    ]
                                                ]
                                            }
                                        ],
                                        "surface": [
                                            {
                                                "type": "surface",
                                                "colorbar": {
                                                    "outlinewidth": 0,
                                                    "ticks": ""
                                                },
                                                "colorscale": [
                                                    [
                                                        0,
                                                        "#0d0887"
                                                    ],
                                                    [
                                                        0.1111111111111111,
                                                        "#46039f"
                                                    ],
                                                    [
                                                        0.2222222222222222,
                                                        "#7201a8"
                                                    ],
                                                    [
                                                        0.3333333333333333,
                                                        "#9c179e"
                                                    ],
                                                    [
                                                        0.4444444444444444,
                                                        "#bd3786"
                                                    ],
                                                    [
                                                        0.5555555555555556,
                                                        "#d8576b"
                                                    ],
                                                    [
                                                        0.6666666666666666,
                                                        "#ed7953"
                                                    ],
                                                    [
                                                        0.7777777777777778,
                                                        "#fb9f3a"
                                                    ],
                                                    [
                                                        0.8888888888888888,
                                                        "#fdca26"
                                                    ],
                                                    [
                                                        1,
                                                        "#f0f921"
                                                    ]
                                                ]
                                            }
                                        ],
                                        "mesh3d": [
                                            {
                                                "type": "mesh3d",
                                                "colorbar": {
                                                    "outlinewidth": 0,
                                                    "ticks": ""
                                                }
                                            }
                                        ],
                                        "scatter": [
                                            {
                                                "fillpattern": {
                                                    "fillmode": "overlay",
                                                    "size": 10,
                                                    "solidity": 0.2
                                                },
                                                "type": "scatter"
                                            }
                                        ],
                                        "parcoords": [
                                            {
                                                "type": "parcoords",
                                                "line": {
                                                    "colorbar": {
                                                        "outlinewidth": 0,
                                                        "ticks": ""
                                                    }
                                                }
                                            }
                                        ],
                                        "scatterpolargl": [
                                            {
                                                "type": "scatterpolargl",
                                                "marker": {
                                                    "colorbar": {
                                                        "outlinewidth": 0,
                                                        "ticks": ""
                                                    }
                                                }
                                            }
                                        ],
                                        "bar": [
                                            {
                                                "error_x": {
                                                    "color": "#2a3f5f"
                                                },
                                                "error_y": {
                                                    "color": "#2a3f5f"
                                                },
                                                "marker": {
                                                    "line": {
                                                        "color": "#E5ECF6",
                                                        "width": 0.5
                                                    },
                                                    "pattern": {
                                                        "fillmode": "overlay",
                                                        "size": 10,
                                                        "solidity": 0.2
                                                    }
                                                },
                                                "type": "bar"
                                            }
                                        ],
                                        "scattergeo": [
                                            {
                                                "type": "scattergeo",
                                                "marker": {
                                                    "colorbar": {
                                                        "outlinewidth": 0,
                                                        "ticks": ""
                                                    }
                                                }
                                            }
                                        ],
                                        "scatterpolar": [
                                            {
                                                "type": "scatterpolar",
                                                "marker": {
                                                    "colorbar": {
                                                        "outlinewidth": 0,
                                                        "ticks": ""
                                                    }
                                                }
                                            }
                                        ],
                                        "histogram": [
                                            {
                                                "marker": {
                                                    "pattern": {
                                                        "fillmode": "overlay",
                                                        "size": 10,
                                                        "solidity": 0.2
                                                    }
                                                },
                                                "type": "histogram"
                                            }
                                        ],
                                        "scattergl": [
                                            {
                                                "type": "scattergl",
                                                "marker": {
                                                    "colorbar": {
                                                        "outlinewidth": 0,
                                                        "ticks": ""
                                                    }
                                                }
                                            }
                                        ],
                                        "scatter3d": [
                                            {
                                                "type": "scatter3d",
                                                "line": {
                                                    "colorbar": {
                                                        "outlinewidth": 0,
                                                        "ticks": ""
                                                    }
                                                },
                                                "marker": {
                                                    "colorbar": {
                                                        "outlinewidth": 0,
                                                        "ticks": ""
                                                    }
                                                }
                                            }
                                        ],
                                        "scattermapbox": [
                                            {
                                                "type": "scattermapbox",
                                                "marker": {
                                                    "colorbar": {
                                                        "outlinewidth": 0,
                                                        "ticks": ""
                                                    }
                                                }
                                            }
                                        ],
                                        "scatterternary": [
                                            {
                                                "type": "scatterternary",
                                                "marker": {
                                                    "colorbar": {
                                                        "outlinewidth": 0,
                                                        "ticks": ""
                                                    }
                                                }
                                            }
                                        ],
                                        "scattercarpet": [
                                            {
                                                "type": "scattercarpet",
                                                "marker": {
                                                    "colorbar": {
                                                        "outlinewidth": 0,
                                                        "ticks": ""
                                                    }
                                                }
                                            }
                                        ],
                                        "carpet": [
                                            {
                                                "aaxis": {
                                                    "endlinecolor": "#2a3f5f",
                                                    "gridcolor": "white",
                                                    "linecolor": "white",
                                                    "minorgridcolor": "white",
                                                    "startlinecolor": "#2a3f5f"
                                                },
                                                "baxis": {
                                                    "endlinecolor": "#2a3f5f",
                                                    "gridcolor": "white",
                                                    "linecolor": "white",
                                                    "minorgridcolor": "white",
                                                    "startlinecolor": "#2a3f5f"
                                                },
                                                "type": "carpet"
                                            }
                                        ],
                                        "table": [
                                            {
                                                "cells": {
                                                    "fill": {
                                                        "color": "#EBF0F8"
                                                    },
                                                    "line": {
                                                        "color": "white"
                                                    }
                                                },
                                                "header": {
                                                    "fill": {
                                                        "color": "#C8D4E3"
                                                    },
                                                    "line": {
                                                        "color": "white"
                                                    }
                                                },
                                                "type": "table"
                                            }
                                        ],
                                        "barpolar": [
                                            {
                                                "marker": {
                                                    "line": {
                                                        "color": "#E5ECF6",
                                                        "width": 0.5
                                                    },
                                                    "pattern": {
                                                        "fillmode": "overlay",
                                                        "size": 10,
                                                        "solidity": 0.2
                                                    }
                                                },
                                                "type": "barpolar"
                                            }
                                        ],
                                        "pie": [
                                            {
                                                "automargin": true,
                                                "type": "pie"
                                            }
                                        ]
                                    },
                                    "layout": {
                                        "autotypenumbers": "strict",
                                        "colorway": [
                                            "#636efa",
                                            "#EF553B",
                                            "#00cc96",
                                            "#ab63fa",
                                            "#FFA15A",
                                            "#19d3f3",
                                            "#FF6692",
                                            "#B6E880",
                                            "#FF97FF",
                                            "#FECB52"
                                        ],
                                        "font": {
                                            "color": "#2a3f5f"
                                        },
                                        "hovermode": "closest",
                                        "hoverlabel": {
                                            "align": "left"
                                        },
                                        "paper_bgcolor": "white",
                                        "plot_bgcolor": "#E5ECF6",
                                        "polar": {
                                            "bgcolor": "#E5ECF6",
                                            "angularaxis": {
                                                "gridcolor": "white",
                                                "linecolor": "white",
                                                "ticks": ""
                                            },
                                            "radialaxis": {
                                                "gridcolor": "white",
                                                "linecolor": "white",
                                                "ticks": ""
                                            }
                                        },
                                        "ternary": {
                                            "bgcolor": "#E5ECF6",
                                            "aaxis": {
                                                "gridcolor": "white",
                                                "linecolor": "white",
                                                "ticks": ""
                                            },
                                            "baxis": {
                                                "gridcolor": "white",
                                                "linecolor": "white",
                                                "ticks": ""
                                            },
                                            "caxis": {
                                                "gridcolor": "white",
                                                "linecolor": "white",
                                                "ticks": ""
                                            }
                                        },
                                        "coloraxis": {
                                            "colorbar": {
                                                "outlinewidth": 0,
                                                "ticks": ""
                                            }
                                        },
                                        "colorscale": {
                                            "sequential": [
                                                [
                                                    0,
                                                    "#0d0887"
                                                ],
                                                [
                                                    0.1111111111111111,
                                                    "#46039f"
                                                ],
                                                [
                                                    0.2222222222222222,
                                                    "#7201a8"
                                                ],
                                                [
                                                    0.3333333333333333,
                                                    "#9c179e"
                                                ],
                                                [
                                                    0.4444444444444444,
                                                    "#bd3786"
                                                ],
                                                [
                                                    0.5555555555555556,
                                                    "#d8576b"
                                                ],
                                                [
                                                    0.6666666666666666,
                                                    "#ed7953"
                                                ],
                                                [
                                                    0.7777777777777778,
                                                    "#fb9f3a"
                                                ],
                                                [
                                                    0.8888888888888888,
                                                    "#fdca26"
                                                ],
                                                [
                                                    1,
                                                    "#f0f921"
                                                ]
                                            ],
                                            "sequentialminus": [
                                                [
                                                    0,
                                                    "#0d0887"
                                                ],
                                                [
                                                    0.1111111111111111,
                                                    "#46039f"
                                                ],
                                                [
                                                    0.2222222222222222,
                                                    "#7201a8"
                                                ],
                                                [
                                                    0.3333333333333333,
                                                    "#9c179e"
                                                ],
                                                [
                                                    0.4444444444444444,
                                                    "#bd3786"
                                                ],
                                                [
                                                    0.5555555555555556,
                                                    "#d8576b"
                                                ],
                                                [
                                                    0.6666666666666666,
                                                    "#ed7953"
                                                ],
                                                [
                                                    0.7777777777777778,
                                                    "#fb9f3a"
                                                ],
                                                [
                                                    0.8888888888888888,
                                                    "#fdca26"
                                                ],
                                                [
                                                    1,
                                                    "#f0f921"
                                                ]
                                            ],
                                            "diverging": [
                                                [
                                                    0,
                                                    "#8e0152"
                                                ],
                                                [
                                                    0.1,
                                                    "#c51b7d"
                                                ],
                                                [
                                                    0.2,
                                                    "#de77ae"
                                                ],
                                                [
                                                    0.3,
                                                    "#f1b6da"
                                                ],
                                                [
                                                    0.4,
                                                    "#fde0ef"
                                                ],
                                                [
                                                    0.5,
                                                    "#f7f7f7"
                                                ],
                                                [
                                                    0.6,
                                                    "#e6f5d0"
                                                ],
                                                [
                                                    0.7,
                                                    "#b8e186"
                                                ],
                                                [
                                                    0.8,
                                                    "#7fbc41"
                                                ],
                                                [
                                                    0.9,
                                                    "#4d9221"
                                                ],
                                                [
                                                    1,
                                                    "#276419"
                                                ]
                                            ]
                                        },
                                        "xaxis": {
                                            "gridcolor": "white",
                                            "linecolor": "white",
                                            "ticks": "",
                                            "title": {
                                                "standoff": 15
                                            },
                                            "zerolinecolor": "white",
                                            "automargin": true,
                                            "zerolinewidth": 2
                                        },
                                        "yaxis": {
                                            "gridcolor": "white",
                                            "linecolor": "white",
                                            "ticks": "",
                                            "title": {
                                                "standoff": 15
                                            },
                                            "zerolinecolor": "white",
                                            "automargin": true,
                                            "zerolinewidth": 2
                                        },
                                        "scene": {
                                            "xaxis": {
                                                "backgroundcolor": "#E5ECF6",
                                                "gridcolor": "white",
                                                "linecolor": "white",
                                                "showbackground": true,
                                                "ticks": "",
                                                "zerolinecolor": "white",
                                                "gridwidth": 2
                                            },
                                            "yaxis": {
                                                "backgroundcolor": "#E5ECF6",
                                                "gridcolor": "white",
                                                "linecolor": "white",
                                                "showbackground": true,
                                                "ticks": "",
                                                "zerolinecolor": "white",
                                                "gridwidth": 2
                                            },
                                            "zaxis": {
                                                "backgroundcolor": "#E5ECF6",
                                                "gridcolor": "white",
                                                "linecolor": "white",
                                                "showbackground": true,
                                                "ticks": "",
                                                "zerolinecolor": "white",
                                                "gridwidth": 2
                                            }
                                        },
                                        "shapedefaults": {
                                            "line": {
                                                "color": "#2a3f5f"
                                            }
                                        },
                                        "annotationdefaults": {
                                            "arrowcolor": "#2a3f5f",
                                            "arrowhead": 0,
                                            "arrowwidth": 1
                                        },
                                        "geo": {
                                            "bgcolor": "white",
                                            "landcolor": "#E5ECF6",
                                            "subunitcolor": "white",
                                            "showland": true,
                                            "showlakes": true,
                                            "lakecolor": "white"
                                        },
                                        "title": {
                                            "x": 0.05
                                        },
                                        "mapbox": {
                                            "style": "light"
                                        }
                                    }
                                },
                                "legend": {
                                    "tracegroupgap": 0
                                },
                                "title": {
                                    "text": "Revenue Breakdown by Product"
                                },
                                "margin": {
                                    "l": 0,
                                    "r": 0,
                                    "t": 0,
                                    "b": 0
                                },
                                "width": 700,
                                "height": 700
                            },
                            "config": {
                                "plotlyServerURL": "https://plot.ly"
                            }
                        }
                    },
                    "metadata": {}
                }
            ],
            "execution_count": 19
        },
        {
            "cell_type": "markdown",
            "source": [
                "---"
            ],
            "metadata": {
                "language": "python",
                "azdata_cell_guid": "5fb12d3d-d19f-49ba-98e2-931ea260968c",
                "extensions": {
                    "azuredatastudio": {
                        "views": []
                    }
                }
            },
            "attachments": {}
        },
        {
            "cell_type": "markdown",
            "source": [
                "## **4\\. Customer Analytics**"
            ],
            "metadata": {
                "azdata_cell_guid": "c09a2747-bd6c-45b7-95c3-e68be09d3485"
            },
            "attachments": {}
        },
        {
            "cell_type": "code",
            "source": [
                "import pandas as pd\r\n",
                "import pyodbc\r\n",
                "\r\n",
                "# Prompt the user to select top or bottom\r\n",
                "print(\"Please select an option:\")\r\n",
                "print(\"a. Top N%\")\r\n",
                "print(\"b. Bottom N%\")\r\n",
                "\r\n",
                "# Get user input for the selected option\r\n",
                "selected_option = input(\"Enter the option (a or b): \")\r\n",
                "\r\n",
                "# Validate user input\r\n",
                "if selected_option.lower() not in ['a', 'b']:\r\n",
                "    print(\"Invalid option selected. Please choose either 'a' or 'b'.\")\r\n",
                "else:\r\n",
                "    # Prompt the user to enter the percentage\r\n",
                "    try:\r\n",
                "        percentage = float(input(\"Enter the percentage (e.g., 5 for top 5%): \"))\r\n",
                "    except ValueError:\r\n",
                "        print(\"Invalid input. Please enter a numeric value for the percentage.\")\r\n",
                "        exit()\r\n",
                "\r\n",
                "    # Determine whether to select top or bottom N%\r\n",
                "    order_by = \"desc\" if selected_option.lower() == 'a' else \"asc\"\r\n",
                "\r\n",
                "    # Your existing SQL query with modifications\r\n",
                "    top_customer_query = f'''\r\n",
                "    -- Further Transformation\r\n",
                "    WITH CTE_FactInternetSales\r\n",
                "    AS (SELECT\r\n",
                "      ProductKey,\r\n",
                "      OrderDateKey,\r\n",
                "      DueDateKey,\r\n",
                "      ShipDateKey,\r\n",
                "      CustomerKey,\r\n",
                "      PromotionKey,\r\n",
                "      CurrencyKey,\r\n",
                "      SalesTerritoryKey,\r\n",
                "      SalesOrderNumber,\r\n",
                "      SalesAmount,\r\n",
                "      TotalProductCost,\r\n",
                "      TaxAmt,\r\n",
                "      Freight,\r\n",
                "      SalesAmount - TotalProductCost - TaxAmt - Freight AS Profit,\r\n",
                "      (SalesAmount - TotalProductCost - TaxAmt - Freight) / SalesAmount AS ProfitMargin,\r\n",
                "      CONVERT(date, OrderDate) AS OrderDate,\r\n",
                "      CONVERT(date, DueDate) AS DueDate,\r\n",
                "      CONVERT(date, ShipDate) AS ShipDate,\r\n",
                "      IIF(ShipDate > DueDate, 'Late', 'Normal') AS ShipStatus,\r\n",
                "      DATEDIFF(D, OrderDate, ShipDate) + 3 TimeToArrive,\r\n",
                "      DATEDIFF(D, OrderDate, ShipDate) TimeToShip\r\n",
                "    FROM [AdventureWorksDW2017].dbo.FactInternetSales)\r\n",
                "    -------------------------------------------------------------------------------------------------------------------------------------------------------\r\n",
                "    ,\r\n",
                "    CTE_DimCustomer\r\n",
                "    AS (SELECT\r\n",
                "      CustomerKey,\r\n",
                "      GeographyKey,\r\n",
                "      FirstName,\r\n",
                "      LastName,\r\n",
                "      BirthDate,\r\n",
                "      DATEDIFF(YEAR, BirthDate, GETDATE()) AS Age,\r\n",
                "      MaritalStatus,\r\n",
                "      Gender,\r\n",
                "      EnglishEducation AS Education,\r\n",
                "      EnglishOccupation AS Occupation,\r\n",
                "      YearlyIncome,\r\n",
                "      TotalChildren,\r\n",
                "      NumberChildrenAtHome,\r\n",
                "      NumberCarsOwned,\r\n",
                "      DateFirstPurchase,\r\n",
                "      CommuteDistance\r\n",
                "    FROM [AdventureWorksDW2017].dbo.DimCustomer)\r\n",
                "    -------------------------------------------------------------------------------------------------------------------------------------------------------\r\n",
                "\r\n",
                "    SELECT * FROM CTE_DimCustomer \r\n",
                "    WHERE CustomerKey in (\r\n",
                "    -- List of customer who spent the most top/bottom N% Spender)\r\n",
                "    SELECT CustomerKey FROM \r\n",
                "    (\r\n",
                "    SELECT \r\n",
                "        CTE_DimCustomer.CustomerKey as CustomerKey, \r\n",
                "        SUM(Profit) as TotalRevenue,\r\n",
                "        (PERCENT_RANK() OVER(ORDER BY SUM(Profit) {order_by}))*100 AS PercentRank \r\n",
                "    FROM CTE_FactInternetSales\r\n",
                "    JOIN CTE_DimCustomer\r\n",
                "    ON CTE_FactInternetSales.CustomerKey = CTE_DimCustomer.CustomerKey\r\n",
                "    GROUP BY CTE_DimCustomer.CustomerKey\r\n",
                "    ) b\r\n",
                "    WHERE PercentRank <= {percentage}\r\n",
                "    )\r\n",
                "    '''\r\n",
                "    \r\n",
                "    # Read data into a DataFrame\r\n",
                "    df_customer = pd.read_sql_query(top_customer_query, con=cnxn)\r\n",
                ""
            ],
            "metadata": {
                "azdata_cell_guid": "0f0f0c5f-a32c-4e52-aacd-bb14b5bdffda",
                "tags": [
                    "hide_input"
                ]
            },
            "outputs": [
                {
                    "output_type": "stream",
                    "name": "stdout",
                    "text": "Please select an option:\na. Top N%\nb. Bottom N%\n"
                },
                {
                    "output_type": "stream",
                    "name": "stderr",
                    "text": "C:\\Users\\minhbpham\\AppData\\Local\\Temp\\ipykernel_5068\\2712985801.py:95: UserWarning:\n\npandas only supports SQLAlchemy connectable (engine/connection) or database string URI or sqlite3 DBAPI2 connection. Other DBAPI2 objects are not tested. Please consider using SQLAlchemy.\n\n"
                }
            ],
            "execution_count": 27
        },
        {
            "cell_type": "code",
            "source": [
                "allowed_columns = [\"Age\", \"MaritalStatus\", \"Gender\", \"Education\", \"Occupation\", \"YearlyIncome\", \"TotalChildren\", \"NumberChildrenAtHome\", \"NumberCarsOwned\", \"DateFirstPurchase\", \"CommuteDistance\"]\r\n",
                "\r\n",
                "# Prompt the user to select a number\r\n",
                "print(\"Please select a number:\")\r\n",
                "for i, column in enumerate(allowed_columns, start=1):\r\n",
                "    print(f\"{i}. {column}\")\r\n",
                "\r\n",
                "# Get user input for the selected number\r\n",
                "selected_number = int(input(\"Enter the number corresponding to your choice: \"))\r\n",
                "\r\n",
                "# Map the selected number to the column names\r\n",
                "selected_column = allowed_columns[selected_number - 1] if 1 <= selected_number <= len(allowed_columns) else None\r\n",
                "\r\n",
                "# Check if the selected number is valid\r\n",
                "if selected_column is None:\r\n",
                "    print(\"Invalid number selected. Please choose from the provided options.\")\r\n",
                "else:\r\n",
                "    if pd.api.types.is_numeric_dtype(df_customer[selected_column]):\r\n",
                "        selected_data = df_customer[selected_column]\r\n",
                "        column_mean = selected_data.mean()\r\n",
                "        column_median = selected_data.median()\r\n",
                "        column_mode = selected_data.mode()[0]\r\n",
                "        column_std = selected_data.std()\r\n",
                "\r\n",
                "        print(f\"Mean: {column_mean}\\nMedian: {column_median}\\nMode: {column_mode}\\nStandard Deviation: {column_std}\")\r\n",
                "\r\n",
                "        # Create a histogram and lines for mean and median\r\n",
                "        fig = go.Figure()\r\n",
                "        fig.add_trace(go.Histogram(x=df_customer[selected_column], name='Histogram'))\r\n",
                "        fig.add_trace(go.Scatter(x=[column_mean, column_mean], y=[0, 100], mode='lines', name='Mean'))\r\n",
                "        fig.add_trace(go.Scatter(x=[column_median, column_median], y=[0, 100], mode='lines', name='Median', line=dict(dash='dash')))\r\n",
                "        fig.update_layout(title_text=f'Histogram with Mean and Median Lines of {selected_column}')\r\n",
                "\r\n",
                "    else:\r\n",
                "        fig = px.bar(df_customer[selected_column].value_counts(), x=df_customer[selected_column].value_counts().index, \r\n",
                "                     y=df_customer[selected_column].value_counts().values, \r\n",
                "                     title=f'Count of each category in {selected_column}')\r\n",
                "\r\n",
                "    fig.show()\r\n",
                ""
            ],
            "metadata": {
                "azdata_cell_guid": "a5cd5f38-56d9-426c-994f-c43580bfc621",
                "tags": [
                    "hide_input"
                ]
            },
            "outputs": [
                {
                    "output_type": "stream",
                    "name": "stdout",
                    "text": "Please select a number:\n1. Age\n2. MaritalStatus\n3. Gender\n4. Education\n5. Occupation\n6. YearlyIncome\n7. TotalChildren\n8. NumberChildrenAtHome\n9. NumberCarsOwned\n10. DateFirstPurchase\n11. CommuteDistance\n"
                },
                {
                    "output_type": "stream",
                    "name": "stdout",
                    "text": "Mean: 75329.72972972973\nMedian: 70000.0\nMode: 40000.0\nStandard Deviation: 39315.35880158576\n"
                },
                {
                    "output_type": "display_data",
                    "data": {
                        "application/vnd.plotly.v1+json": {
                            "data": [
                                {
                                    "name": "Histogram",
                                    "x": [
                                        90000,
                                        60000,
                                        60000,
                                        70000,
                                        80000,
                                        70000,
                                        70000,
                                        60000,
                                        60000,
                                        70000,
                                        70000,
                                        60000,
                                        20000,
                                        30000,
                                        10000,
                                        30000,
                                        30000,
                                        30000,
                                        30000,
                                        10000,
                                        20000,
                                        20000,
                                        20000,
                                        20000,
                                        10000,
                                        10000,
                                        30000,
                                        20000,
                                        30000,
                                        30000,
                                        30000,
                                        40000,
                                        40000,
                                        40000,
                                        40000,
                                        70000,
                                        80000,
                                        80000,
                                        80000,
                                        80000,
                                        80000,
                                        80000,
                                        80000,
                                        80000,
                                        80000,
                                        170000,
                                        90000,
                                        90000,
                                        100000,
                                        70000,
                                        60000,
                                        60000,
                                        60000,
                                        60000,
                                        70000,
                                        70000,
                                        70000,
                                        70000,
                                        70000,
                                        90000,
                                        70000,
                                        70000,
                                        60000,
                                        60000,
                                        60000,
                                        70000,
                                        40000,
                                        80000,
                                        60000,
                                        60000,
                                        100000,
                                        70000,
                                        60000,
                                        70000,
                                        60000,
                                        60000,
                                        70000,
                                        130000,
                                        130000,
                                        130000,
                                        160000,
                                        100000,
                                        110000,
                                        150000,
                                        170000,
                                        120000,
                                        120000,
                                        130000,
                                        130000,
                                        170000,
                                        90000,
                                        120000,
                                        100000,
                                        130000,
                                        90000,
                                        120000,
                                        130000,
                                        150000,
                                        70000,
                                        80000,
                                        90000,
                                        80000,
                                        70000,
                                        70000,
                                        90000,
                                        80000,
                                        70000,
                                        120000,
                                        90000,
                                        130000,
                                        10000,
                                        20000,
                                        10000,
                                        10000,
                                        10000,
                                        20000,
                                        20000,
                                        10000,
                                        10000,
                                        20000,
                                        30000,
                                        20000,
                                        20000,
                                        40000,
                                        40000,
                                        10000,
                                        30000,
                                        30000,
                                        40000,
                                        80000,
                                        80000,
                                        80000,
                                        70000,
                                        100000,
                                        110000,
                                        170000,
                                        80000,
                                        90000,
                                        110000,
                                        120000,
                                        80000,
                                        110000,
                                        80000,
                                        80000,
                                        90000,
                                        60000,
                                        70000,
                                        70000,
                                        70000,
                                        70000,
                                        80000,
                                        80000,
                                        130000,
                                        70000,
                                        80000,
                                        80000,
                                        80000,
                                        100000,
                                        120000,
                                        90000,
                                        80000,
                                        90000,
                                        90000,
                                        110000,
                                        90000,
                                        90000,
                                        40000,
                                        60000,
                                        30000,
                                        40000,
                                        20000,
                                        20000,
                                        20000,
                                        40000,
                                        40000,
                                        40000,
                                        30000,
                                        40000,
                                        40000,
                                        60000,
                                        60000,
                                        60000,
                                        40000,
                                        40000,
                                        20000,
                                        20000,
                                        20000,
                                        30000,
                                        30000,
                                        30000,
                                        30000,
                                        20000,
                                        50000,
                                        50000,
                                        40000,
                                        60000,
                                        70000,
                                        70000,
                                        70000,
                                        80000,
                                        60000,
                                        60000,
                                        60000,
                                        80000,
                                        60000,
                                        60000,
                                        80000,
                                        90000,
                                        60000,
                                        110000,
                                        70000,
                                        70000,
                                        80000,
                                        80000,
                                        90000,
                                        90000,
                                        90000,
                                        50000,
                                        50000,
                                        60000,
                                        40000,
                                        40000,
                                        40000,
                                        40000,
                                        40000,
                                        70000,
                                        80000,
                                        60000,
                                        60000,
                                        60000,
                                        90000,
                                        90000,
                                        100000,
                                        100000,
                                        100000,
                                        60000,
                                        80000,
                                        80000,
                                        90000,
                                        60000,
                                        110000,
                                        110000,
                                        110000,
                                        80000,
                                        80000,
                                        80000,
                                        80000,
                                        80000,
                                        60000,
                                        70000,
                                        70000,
                                        70000,
                                        70000,
                                        60000,
                                        60000,
                                        60000,
                                        40000,
                                        40000,
                                        60000,
                                        80000,
                                        60000,
                                        80000,
                                        70000,
                                        80000,
                                        130000,
                                        130000,
                                        120000,
                                        130000,
                                        70000,
                                        70000,
                                        70000,
                                        70000,
                                        60000,
                                        60000,
                                        60000,
                                        110000,
                                        60000,
                                        60000,
                                        60000,
                                        60000,
                                        60000,
                                        70000,
                                        80000,
                                        70000,
                                        70000,
                                        70000,
                                        60000,
                                        60000,
                                        80000,
                                        80000,
                                        30000,
                                        40000,
                                        40000,
                                        70000,
                                        40000,
                                        40000,
                                        110000,
                                        130000,
                                        130000,
                                        130000,
                                        70000,
                                        70000,
                                        60000,
                                        60000,
                                        70000,
                                        60000,
                                        60000,
                                        70000,
                                        70000,
                                        60000,
                                        60000,
                                        70000,
                                        60000,
                                        60000,
                                        170000,
                                        110000,
                                        130000,
                                        120000,
                                        120000,
                                        120000,
                                        90000,
                                        110000,
                                        130000,
                                        90000,
                                        100000,
                                        100000,
                                        130000,
                                        80000,
                                        150000,
                                        100000,
                                        120000,
                                        130000,
                                        130000,
                                        50000,
                                        130000,
                                        130000,
                                        60000,
                                        10000,
                                        20000,
                                        20000,
                                        20000,
                                        10000,
                                        20000,
                                        20000,
                                        30000,
                                        20000,
                                        20000,
                                        10000,
                                        20000,
                                        20000,
                                        10000,
                                        30000,
                                        10000,
                                        20000,
                                        30000,
                                        30000,
                                        10000,
                                        10000,
                                        90000,
                                        70000,
                                        80000,
                                        90000,
                                        80000,
                                        100000,
                                        100000,
                                        90000,
                                        100000,
                                        110000,
                                        130000,
                                        130000,
                                        150000,
                                        170000,
                                        70000,
                                        80000,
                                        130000,
                                        100000,
                                        90000,
                                        90000,
                                        150000,
                                        70000,
                                        70000,
                                        70000,
                                        70000,
                                        80000,
                                        70000,
                                        60000,
                                        90000,
                                        90000,
                                        90000,
                                        90000,
                                        90000,
                                        110000,
                                        110000,
                                        120000,
                                        90000,
                                        100000,
                                        130000,
                                        30000,
                                        30000,
                                        20000,
                                        20000,
                                        30000,
                                        40000,
                                        20000,
                                        40000,
                                        60000,
                                        30000,
                                        30000,
                                        30000,
                                        30000,
                                        20000,
                                        30000,
                                        40000,
                                        20000,
                                        20000,
                                        20000,
                                        40000,
                                        30000,
                                        30000,
                                        10000,
                                        30000,
                                        10000,
                                        40000,
                                        40000,
                                        10000,
                                        80000,
                                        70000,
                                        80000,
                                        120000,
                                        130000,
                                        90000,
                                        130000,
                                        170000,
                                        170000,
                                        170000,
                                        90000,
                                        150000,
                                        80000,
                                        110000,
                                        170000,
                                        70000,
                                        70000,
                                        70000,
                                        70000,
                                        70000,
                                        80000,
                                        90000,
                                        80000,
                                        90000,
                                        100000,
                                        80000,
                                        80000,
                                        120000,
                                        120000,
                                        90000,
                                        90000,
                                        90000,
                                        90000,
                                        90000,
                                        80000,
                                        120000,
                                        110000,
                                        120000,
                                        110000,
                                        110000,
                                        110000,
                                        110000,
                                        150000,
                                        160000,
                                        70000,
                                        20000,
                                        40000,
                                        40000,
                                        40000,
                                        40000,
                                        40000,
                                        40000,
                                        40000,
                                        40000,
                                        40000,
                                        40000,
                                        30000,
                                        40000,
                                        20000,
                                        30000,
                                        30000,
                                        20000,
                                        20000,
                                        50000,
                                        60000,
                                        60000,
                                        50000,
                                        90000,
                                        90000,
                                        100000,
                                        100000,
                                        60000,
                                        80000,
                                        80000,
                                        90000,
                                        60000,
                                        70000,
                                        110000,
                                        130000,
                                        90000,
                                        60000,
                                        60000,
                                        70000,
                                        70000,
                                        40000,
                                        40000,
                                        40000,
                                        80000,
                                        80000,
                                        80000,
                                        70000,
                                        70000,
                                        80000,
                                        80000,
                                        80000,
                                        130000,
                                        120000,
                                        130000,
                                        130000,
                                        70000,
                                        70000,
                                        60000,
                                        60000,
                                        60000,
                                        60000,
                                        60000,
                                        60000,
                                        60000,
                                        60000,
                                        100000,
                                        100000,
                                        110000,
                                        110000,
                                        60000,
                                        70000,
                                        80000,
                                        70000,
                                        70000,
                                        70000,
                                        70000,
                                        90000,
                                        90000,
                                        90000,
                                        100000,
                                        50000,
                                        80000,
                                        70000,
                                        70000,
                                        130000,
                                        130000,
                                        130000,
                                        150000,
                                        130000,
                                        130000,
                                        130000,
                                        130000,
                                        130000,
                                        130000,
                                        130000,
                                        110000,
                                        120000,
                                        120000,
                                        130000,
                                        110000,
                                        130000,
                                        150000,
                                        170000,
                                        130000,
                                        10000,
                                        10000,
                                        20000,
                                        30000,
                                        10000,
                                        40000,
                                        40000,
                                        30000,
                                        30000,
                                        30000,
                                        30000,
                                        40000,
                                        40000,
                                        40000,
                                        50000,
                                        50000,
                                        50000,
                                        10000,
                                        70000,
                                        160000,
                                        70000,
                                        110000,
                                        110000,
                                        130000,
                                        90000,
                                        70000,
                                        80000,
                                        170000,
                                        170000,
                                        70000,
                                        70000,
                                        170000,
                                        110000,
                                        80000,
                                        100000,
                                        110000,
                                        70000,
                                        70000,
                                        70000,
                                        70000,
                                        70000,
                                        90000,
                                        90000,
                                        90000,
                                        90000,
                                        90000,
                                        90000,
                                        90000,
                                        90000,
                                        110000,
                                        110000,
                                        100000,
                                        100000,
                                        100000,
                                        110000,
                                        120000,
                                        120000,
                                        110000,
                                        110000,
                                        120000,
                                        40000,
                                        40000,
                                        40000,
                                        20000,
                                        40000,
                                        20000,
                                        40000,
                                        30000,
                                        40000,
                                        40000,
                                        40000,
                                        30000,
                                        40000,
                                        40000,
                                        20000,
                                        20000,
                                        20000,
                                        40000,
                                        40000,
                                        20000,
                                        100000,
                                        90000,
                                        60000,
                                        70000,
                                        120000,
                                        70000,
                                        90000,
                                        90000,
                                        90000,
                                        60000,
                                        70000,
                                        70000,
                                        80000,
                                        80000,
                                        80000,
                                        70000,
                                        80000,
                                        130000,
                                        160000,
                                        80000,
                                        90000,
                                        70000,
                                        100000,
                                        100000,
                                        70000,
                                        70000,
                                        70000,
                                        70000,
                                        70000,
                                        90000,
                                        90000,
                                        20000,
                                        30000,
                                        40000,
                                        30000,
                                        40000,
                                        40000,
                                        40000,
                                        40000,
                                        40000,
                                        40000,
                                        50000,
                                        90000,
                                        100000,
                                        130000,
                                        80000,
                                        80000,
                                        90000,
                                        160000,
                                        90000,
                                        130000,
                                        110000,
                                        70000,
                                        80000,
                                        110000,
                                        80000,
                                        70000,
                                        90000,
                                        90000,
                                        70000,
                                        90000,
                                        90000,
                                        100000,
                                        110000,
                                        90000,
                                        90000,
                                        90000,
                                        100000,
                                        100000,
                                        110000,
                                        120000,
                                        70000,
                                        70000,
                                        80000,
                                        110000,
                                        120000,
                                        130000,
                                        130000,
                                        130000,
                                        130000,
                                        10000,
                                        20000,
                                        30000,
                                        30000,
                                        40000,
                                        30000,
                                        30000,
                                        40000,
                                        40000,
                                        40000,
                                        10000,
                                        40000,
                                        40000,
                                        40000,
                                        40000,
                                        40000,
                                        30000,
                                        20000,
                                        20000,
                                        20000,
                                        40000,
                                        30000,
                                        30000,
                                        40000,
                                        10000,
                                        40000,
                                        40000,
                                        20000,
                                        20000,
                                        30000,
                                        10000,
                                        40000,
                                        40000,
                                        30000,
                                        30000,
                                        40000,
                                        30000,
                                        30000,
                                        20000,
                                        20000,
                                        30000,
                                        30000,
                                        30000,
                                        30000,
                                        30000,
                                        40000,
                                        40000,
                                        40000,
                                        40000,
                                        50000,
                                        70000,
                                        70000,
                                        70000,
                                        110000,
                                        110000,
                                        120000,
                                        170000,
                                        110000,
                                        100000,
                                        100000,
                                        170000,
                                        170000,
                                        120000,
                                        10000,
                                        20000,
                                        40000,
                                        50000,
                                        50000,
                                        40000,
                                        40000,
                                        40000,
                                        40000,
                                        40000,
                                        40000,
                                        40000,
                                        40000,
                                        40000,
                                        40000,
                                        90000,
                                        110000,
                                        70000,
                                        70000,
                                        90000,
                                        90000,
                                        90000,
                                        150000,
                                        110000,
                                        170000,
                                        80000,
                                        130000,
                                        90000,
                                        100000,
                                        100000,
                                        100000,
                                        120000,
                                        120000,
                                        120000,
                                        150000,
                                        130000,
                                        160000,
                                        40000,
                                        40000,
                                        40000,
                                        40000,
                                        40000,
                                        40000,
                                        40000,
                                        40000,
                                        40000,
                                        40000,
                                        40000,
                                        40000,
                                        40000,
                                        40000,
                                        40000,
                                        80000,
                                        40000,
                                        80000,
                                        80000,
                                        80000,
                                        40000,
                                        50000,
                                        170000,
                                        170000,
                                        120000,
                                        130000,
                                        130000,
                                        170000,
                                        170000,
                                        130000,
                                        110000,
                                        150000,
                                        90000,
                                        110000,
                                        110000,
                                        80000,
                                        130000,
                                        150000,
                                        160000,
                                        120000,
                                        130000,
                                        170000,
                                        160000,
                                        160000,
                                        130000,
                                        130000,
                                        40000,
                                        40000,
                                        40000,
                                        130000,
                                        170000,
                                        130000,
                                        130000,
                                        170000,
                                        130000,
                                        160000,
                                        90000,
                                        70000,
                                        110000,
                                        130000,
                                        80000,
                                        90000,
                                        130000,
                                        110000,
                                        90000,
                                        90000,
                                        160000,
                                        40000,
                                        40000,
                                        40000,
                                        40000,
                                        130000,
                                        130000,
                                        120000,
                                        130000,
                                        130000,
                                        170000,
                                        90000,
                                        130000,
                                        150000,
                                        130000,
                                        130000,
                                        130000,
                                        150000,
                                        150000,
                                        70000,
                                        70000,
                                        70000,
                                        70000,
                                        70000,
                                        70000,
                                        70000
                                    ],
                                    "type": "histogram"
                                },
                                {
                                    "mode": "lines",
                                    "name": "Mean",
                                    "x": [
                                        75329.72972972973,
                                        75329.72972972973
                                    ],
                                    "y": [
                                        0,
                                        100
                                    ],
                                    "type": "scatter"
                                },
                                {
                                    "line": {
                                        "dash": "dash"
                                    },
                                    "mode": "lines",
                                    "name": "Median",
                                    "x": [
                                        70000,
                                        70000
                                    ],
                                    "y": [
                                        0,
                                        100
                                    ],
                                    "type": "scatter"
                                }
                            ],
                            "layout": {
                                "template": {
                                    "data": {
                                        "histogram2dcontour": [
                                            {
                                                "type": "histogram2dcontour",
                                                "colorbar": {
                                                    "outlinewidth": 0,
                                                    "ticks": ""
                                                },
                                                "colorscale": [
                                                    [
                                                        0,
                                                        "#0d0887"
                                                    ],
                                                    [
                                                        0.1111111111111111,
                                                        "#46039f"
                                                    ],
                                                    [
                                                        0.2222222222222222,
                                                        "#7201a8"
                                                    ],
                                                    [
                                                        0.3333333333333333,
                                                        "#9c179e"
                                                    ],
                                                    [
                                                        0.4444444444444444,
                                                        "#bd3786"
                                                    ],
                                                    [
                                                        0.5555555555555556,
                                                        "#d8576b"
                                                    ],
                                                    [
                                                        0.6666666666666666,
                                                        "#ed7953"
                                                    ],
                                                    [
                                                        0.7777777777777778,
                                                        "#fb9f3a"
                                                    ],
                                                    [
                                                        0.8888888888888888,
                                                        "#fdca26"
                                                    ],
                                                    [
                                                        1,
                                                        "#f0f921"
                                                    ]
                                                ]
                                            }
                                        ],
                                        "choropleth": [
                                            {
                                                "type": "choropleth",
                                                "colorbar": {
                                                    "outlinewidth": 0,
                                                    "ticks": ""
                                                }
                                            }
                                        ],
                                        "histogram2d": [
                                            {
                                                "type": "histogram2d",
                                                "colorbar": {
                                                    "outlinewidth": 0,
                                                    "ticks": ""
                                                },
                                                "colorscale": [
                                                    [
                                                        0,
                                                        "#0d0887"
                                                    ],
                                                    [
                                                        0.1111111111111111,
                                                        "#46039f"
                                                    ],
                                                    [
                                                        0.2222222222222222,
                                                        "#7201a8"
                                                    ],
                                                    [
                                                        0.3333333333333333,
                                                        "#9c179e"
                                                    ],
                                                    [
                                                        0.4444444444444444,
                                                        "#bd3786"
                                                    ],
                                                    [
                                                        0.5555555555555556,
                                                        "#d8576b"
                                                    ],
                                                    [
                                                        0.6666666666666666,
                                                        "#ed7953"
                                                    ],
                                                    [
                                                        0.7777777777777778,
                                                        "#fb9f3a"
                                                    ],
                                                    [
                                                        0.8888888888888888,
                                                        "#fdca26"
                                                    ],
                                                    [
                                                        1,
                                                        "#f0f921"
                                                    ]
                                                ]
                                            }
                                        ],
                                        "heatmap": [
                                            {
                                                "type": "heatmap",
                                                "colorbar": {
                                                    "outlinewidth": 0,
                                                    "ticks": ""
                                                },
                                                "colorscale": [
                                                    [
                                                        0,
                                                        "#0d0887"
                                                    ],
                                                    [
                                                        0.1111111111111111,
                                                        "#46039f"
                                                    ],
                                                    [
                                                        0.2222222222222222,
                                                        "#7201a8"
                                                    ],
                                                    [
                                                        0.3333333333333333,
                                                        "#9c179e"
                                                    ],
                                                    [
                                                        0.4444444444444444,
                                                        "#bd3786"
                                                    ],
                                                    [
                                                        0.5555555555555556,
                                                        "#d8576b"
                                                    ],
                                                    [
                                                        0.6666666666666666,
                                                        "#ed7953"
                                                    ],
                                                    [
                                                        0.7777777777777778,
                                                        "#fb9f3a"
                                                    ],
                                                    [
                                                        0.8888888888888888,
                                                        "#fdca26"
                                                    ],
                                                    [
                                                        1,
                                                        "#f0f921"
                                                    ]
                                                ]
                                            }
                                        ],
                                        "heatmapgl": [
                                            {
                                                "type": "heatmapgl",
                                                "colorbar": {
                                                    "outlinewidth": 0,
                                                    "ticks": ""
                                                },
                                                "colorscale": [
                                                    [
                                                        0,
                                                        "#0d0887"
                                                    ],
                                                    [
                                                        0.1111111111111111,
                                                        "#46039f"
                                                    ],
                                                    [
                                                        0.2222222222222222,
                                                        "#7201a8"
                                                    ],
                                                    [
                                                        0.3333333333333333,
                                                        "#9c179e"
                                                    ],
                                                    [
                                                        0.4444444444444444,
                                                        "#bd3786"
                                                    ],
                                                    [
                                                        0.5555555555555556,
                                                        "#d8576b"
                                                    ],
                                                    [
                                                        0.6666666666666666,
                                                        "#ed7953"
                                                    ],
                                                    [
                                                        0.7777777777777778,
                                                        "#fb9f3a"
                                                    ],
                                                    [
                                                        0.8888888888888888,
                                                        "#fdca26"
                                                    ],
                                                    [
                                                        1,
                                                        "#f0f921"
                                                    ]
                                                ]
                                            }
                                        ],
                                        "contourcarpet": [
                                            {
                                                "type": "contourcarpet",
                                                "colorbar": {
                                                    "outlinewidth": 0,
                                                    "ticks": ""
                                                }
                                            }
                                        ],
                                        "contour": [
                                            {
                                                "type": "contour",
                                                "colorbar": {
                                                    "outlinewidth": 0,
                                                    "ticks": ""
                                                },
                                                "colorscale": [
                                                    [
                                                        0,
                                                        "#0d0887"
                                                    ],
                                                    [
                                                        0.1111111111111111,
                                                        "#46039f"
                                                    ],
                                                    [
                                                        0.2222222222222222,
                                                        "#7201a8"
                                                    ],
                                                    [
                                                        0.3333333333333333,
                                                        "#9c179e"
                                                    ],
                                                    [
                                                        0.4444444444444444,
                                                        "#bd3786"
                                                    ],
                                                    [
                                                        0.5555555555555556,
                                                        "#d8576b"
                                                    ],
                                                    [
                                                        0.6666666666666666,
                                                        "#ed7953"
                                                    ],
                                                    [
                                                        0.7777777777777778,
                                                        "#fb9f3a"
                                                    ],
                                                    [
                                                        0.8888888888888888,
                                                        "#fdca26"
                                                    ],
                                                    [
                                                        1,
                                                        "#f0f921"
                                                    ]
                                                ]
                                            }
                                        ],
                                        "surface": [
                                            {
                                                "type": "surface",
                                                "colorbar": {
                                                    "outlinewidth": 0,
                                                    "ticks": ""
                                                },
                                                "colorscale": [
                                                    [
                                                        0,
                                                        "#0d0887"
                                                    ],
                                                    [
                                                        0.1111111111111111,
                                                        "#46039f"
                                                    ],
                                                    [
                                                        0.2222222222222222,
                                                        "#7201a8"
                                                    ],
                                                    [
                                                        0.3333333333333333,
                                                        "#9c179e"
                                                    ],
                                                    [
                                                        0.4444444444444444,
                                                        "#bd3786"
                                                    ],
                                                    [
                                                        0.5555555555555556,
                                                        "#d8576b"
                                                    ],
                                                    [
                                                        0.6666666666666666,
                                                        "#ed7953"
                                                    ],
                                                    [
                                                        0.7777777777777778,
                                                        "#fb9f3a"
                                                    ],
                                                    [
                                                        0.8888888888888888,
                                                        "#fdca26"
                                                    ],
                                                    [
                                                        1,
                                                        "#f0f921"
                                                    ]
                                                ]
                                            }
                                        ],
                                        "mesh3d": [
                                            {
                                                "type": "mesh3d",
                                                "colorbar": {
                                                    "outlinewidth": 0,
                                                    "ticks": ""
                                                }
                                            }
                                        ],
                                        "scatter": [
                                            {
                                                "fillpattern": {
                                                    "fillmode": "overlay",
                                                    "size": 10,
                                                    "solidity": 0.2
                                                },
                                                "type": "scatter"
                                            }
                                        ],
                                        "parcoords": [
                                            {
                                                "type": "parcoords",
                                                "line": {
                                                    "colorbar": {
                                                        "outlinewidth": 0,
                                                        "ticks": ""
                                                    }
                                                }
                                            }
                                        ],
                                        "scatterpolargl": [
                                            {
                                                "type": "scatterpolargl",
                                                "marker": {
                                                    "colorbar": {
                                                        "outlinewidth": 0,
                                                        "ticks": ""
                                                    }
                                                }
                                            }
                                        ],
                                        "bar": [
                                            {
                                                "error_x": {
                                                    "color": "#2a3f5f"
                                                },
                                                "error_y": {
                                                    "color": "#2a3f5f"
                                                },
                                                "marker": {
                                                    "line": {
                                                        "color": "#E5ECF6",
                                                        "width": 0.5
                                                    },
                                                    "pattern": {
                                                        "fillmode": "overlay",
                                                        "size": 10,
                                                        "solidity": 0.2
                                                    }
                                                },
                                                "type": "bar"
                                            }
                                        ],
                                        "scattergeo": [
                                            {
                                                "type": "scattergeo",
                                                "marker": {
                                                    "colorbar": {
                                                        "outlinewidth": 0,
                                                        "ticks": ""
                                                    }
                                                }
                                            }
                                        ],
                                        "scatterpolar": [
                                            {
                                                "type": "scatterpolar",
                                                "marker": {
                                                    "colorbar": {
                                                        "outlinewidth": 0,
                                                        "ticks": ""
                                                    }
                                                }
                                            }
                                        ],
                                        "histogram": [
                                            {
                                                "marker": {
                                                    "pattern": {
                                                        "fillmode": "overlay",
                                                        "size": 10,
                                                        "solidity": 0.2
                                                    }
                                                },
                                                "type": "histogram"
                                            }
                                        ],
                                        "scattergl": [
                                            {
                                                "type": "scattergl",
                                                "marker": {
                                                    "colorbar": {
                                                        "outlinewidth": 0,
                                                        "ticks": ""
                                                    }
                                                }
                                            }
                                        ],
                                        "scatter3d": [
                                            {
                                                "type": "scatter3d",
                                                "line": {
                                                    "colorbar": {
                                                        "outlinewidth": 0,
                                                        "ticks": ""
                                                    }
                                                },
                                                "marker": {
                                                    "colorbar": {
                                                        "outlinewidth": 0,
                                                        "ticks": ""
                                                    }
                                                }
                                            }
                                        ],
                                        "scattermapbox": [
                                            {
                                                "type": "scattermapbox",
                                                "marker": {
                                                    "colorbar": {
                                                        "outlinewidth": 0,
                                                        "ticks": ""
                                                    }
                                                }
                                            }
                                        ],
                                        "scatterternary": [
                                            {
                                                "type": "scatterternary",
                                                "marker": {
                                                    "colorbar": {
                                                        "outlinewidth": 0,
                                                        "ticks": ""
                                                    }
                                                }
                                            }
                                        ],
                                        "scattercarpet": [
                                            {
                                                "type": "scattercarpet",
                                                "marker": {
                                                    "colorbar": {
                                                        "outlinewidth": 0,
                                                        "ticks": ""
                                                    }
                                                }
                                            }
                                        ],
                                        "carpet": [
                                            {
                                                "aaxis": {
                                                    "endlinecolor": "#2a3f5f",
                                                    "gridcolor": "white",
                                                    "linecolor": "white",
                                                    "minorgridcolor": "white",
                                                    "startlinecolor": "#2a3f5f"
                                                },
                                                "baxis": {
                                                    "endlinecolor": "#2a3f5f",
                                                    "gridcolor": "white",
                                                    "linecolor": "white",
                                                    "minorgridcolor": "white",
                                                    "startlinecolor": "#2a3f5f"
                                                },
                                                "type": "carpet"
                                            }
                                        ],
                                        "table": [
                                            {
                                                "cells": {
                                                    "fill": {
                                                        "color": "#EBF0F8"
                                                    },
                                                    "line": {
                                                        "color": "white"
                                                    }
                                                },
                                                "header": {
                                                    "fill": {
                                                        "color": "#C8D4E3"
                                                    },
                                                    "line": {
                                                        "color": "white"
                                                    }
                                                },
                                                "type": "table"
                                            }
                                        ],
                                        "barpolar": [
                                            {
                                                "marker": {
                                                    "line": {
                                                        "color": "#E5ECF6",
                                                        "width": 0.5
                                                    },
                                                    "pattern": {
                                                        "fillmode": "overlay",
                                                        "size": 10,
                                                        "solidity": 0.2
                                                    }
                                                },
                                                "type": "barpolar"
                                            }
                                        ],
                                        "pie": [
                                            {
                                                "automargin": true,
                                                "type": "pie"
                                            }
                                        ]
                                    },
                                    "layout": {
                                        "autotypenumbers": "strict",
                                        "colorway": [
                                            "#636efa",
                                            "#EF553B",
                                            "#00cc96",
                                            "#ab63fa",
                                            "#FFA15A",
                                            "#19d3f3",
                                            "#FF6692",
                                            "#B6E880",
                                            "#FF97FF",
                                            "#FECB52"
                                        ],
                                        "font": {
                                            "color": "#2a3f5f"
                                        },
                                        "hovermode": "closest",
                                        "hoverlabel": {
                                            "align": "left"
                                        },
                                        "paper_bgcolor": "white",
                                        "plot_bgcolor": "#E5ECF6",
                                        "polar": {
                                            "bgcolor": "#E5ECF6",
                                            "angularaxis": {
                                                "gridcolor": "white",
                                                "linecolor": "white",
                                                "ticks": ""
                                            },
                                            "radialaxis": {
                                                "gridcolor": "white",
                                                "linecolor": "white",
                                                "ticks": ""
                                            }
                                        },
                                        "ternary": {
                                            "bgcolor": "#E5ECF6",
                                            "aaxis": {
                                                "gridcolor": "white",
                                                "linecolor": "white",
                                                "ticks": ""
                                            },
                                            "baxis": {
                                                "gridcolor": "white",
                                                "linecolor": "white",
                                                "ticks": ""
                                            },
                                            "caxis": {
                                                "gridcolor": "white",
                                                "linecolor": "white",
                                                "ticks": ""
                                            }
                                        },
                                        "coloraxis": {
                                            "colorbar": {
                                                "outlinewidth": 0,
                                                "ticks": ""
                                            }
                                        },
                                        "colorscale": {
                                            "sequential": [
                                                [
                                                    0,
                                                    "#0d0887"
                                                ],
                                                [
                                                    0.1111111111111111,
                                                    "#46039f"
                                                ],
                                                [
                                                    0.2222222222222222,
                                                    "#7201a8"
                                                ],
                                                [
                                                    0.3333333333333333,
                                                    "#9c179e"
                                                ],
                                                [
                                                    0.4444444444444444,
                                                    "#bd3786"
                                                ],
                                                [
                                                    0.5555555555555556,
                                                    "#d8576b"
                                                ],
                                                [
                                                    0.6666666666666666,
                                                    "#ed7953"
                                                ],
                                                [
                                                    0.7777777777777778,
                                                    "#fb9f3a"
                                                ],
                                                [
                                                    0.8888888888888888,
                                                    "#fdca26"
                                                ],
                                                [
                                                    1,
                                                    "#f0f921"
                                                ]
                                            ],
                                            "sequentialminus": [
                                                [
                                                    0,
                                                    "#0d0887"
                                                ],
                                                [
                                                    0.1111111111111111,
                                                    "#46039f"
                                                ],
                                                [
                                                    0.2222222222222222,
                                                    "#7201a8"
                                                ],
                                                [
                                                    0.3333333333333333,
                                                    "#9c179e"
                                                ],
                                                [
                                                    0.4444444444444444,
                                                    "#bd3786"
                                                ],
                                                [
                                                    0.5555555555555556,
                                                    "#d8576b"
                                                ],
                                                [
                                                    0.6666666666666666,
                                                    "#ed7953"
                                                ],
                                                [
                                                    0.7777777777777778,
                                                    "#fb9f3a"
                                                ],
                                                [
                                                    0.8888888888888888,
                                                    "#fdca26"
                                                ],
                                                [
                                                    1,
                                                    "#f0f921"
                                                ]
                                            ],
                                            "diverging": [
                                                [
                                                    0,
                                                    "#8e0152"
                                                ],
                                                [
                                                    0.1,
                                                    "#c51b7d"
                                                ],
                                                [
                                                    0.2,
                                                    "#de77ae"
                                                ],
                                                [
                                                    0.3,
                                                    "#f1b6da"
                                                ],
                                                [
                                                    0.4,
                                                    "#fde0ef"
                                                ],
                                                [
                                                    0.5,
                                                    "#f7f7f7"
                                                ],
                                                [
                                                    0.6,
                                                    "#e6f5d0"
                                                ],
                                                [
                                                    0.7,
                                                    "#b8e186"
                                                ],
                                                [
                                                    0.8,
                                                    "#7fbc41"
                                                ],
                                                [
                                                    0.9,
                                                    "#4d9221"
                                                ],
                                                [
                                                    1,
                                                    "#276419"
                                                ]
                                            ]
                                        },
                                        "xaxis": {
                                            "gridcolor": "white",
                                            "linecolor": "white",
                                            "ticks": "",
                                            "title": {
                                                "standoff": 15
                                            },
                                            "zerolinecolor": "white",
                                            "automargin": true,
                                            "zerolinewidth": 2
                                        },
                                        "yaxis": {
                                            "gridcolor": "white",
                                            "linecolor": "white",
                                            "ticks": "",
                                            "title": {
                                                "standoff": 15
                                            },
                                            "zerolinecolor": "white",
                                            "automargin": true,
                                            "zerolinewidth": 2
                                        },
                                        "scene": {
                                            "xaxis": {
                                                "backgroundcolor": "#E5ECF6",
                                                "gridcolor": "white",
                                                "linecolor": "white",
                                                "showbackground": true,
                                                "ticks": "",
                                                "zerolinecolor": "white",
                                                "gridwidth": 2
                                            },
                                            "yaxis": {
                                                "backgroundcolor": "#E5ECF6",
                                                "gridcolor": "white",
                                                "linecolor": "white",
                                                "showbackground": true,
                                                "ticks": "",
                                                "zerolinecolor": "white",
                                                "gridwidth": 2
                                            },
                                            "zaxis": {
                                                "backgroundcolor": "#E5ECF6",
                                                "gridcolor": "white",
                                                "linecolor": "white",
                                                "showbackground": true,
                                                "ticks": "",
                                                "zerolinecolor": "white",
                                                "gridwidth": 2
                                            }
                                        },
                                        "shapedefaults": {
                                            "line": {
                                                "color": "#2a3f5f"
                                            }
                                        },
                                        "annotationdefaults": {
                                            "arrowcolor": "#2a3f5f",
                                            "arrowhead": 0,
                                            "arrowwidth": 1
                                        },
                                        "geo": {
                                            "bgcolor": "white",
                                            "landcolor": "#E5ECF6",
                                            "subunitcolor": "white",
                                            "showland": true,
                                            "showlakes": true,
                                            "lakecolor": "white"
                                        },
                                        "title": {
                                            "x": 0.05
                                        },
                                        "mapbox": {
                                            "style": "light"
                                        }
                                    }
                                },
                                "title": {
                                    "text": "Histogram with Mean and Median Lines of YearlyIncome"
                                }
                            },
                            "config": {
                                "plotlyServerURL": "https://plot.ly"
                            }
                        }
                    },
                    "metadata": {}
                }
            ],
            "execution_count": 31
        }
    ]
}